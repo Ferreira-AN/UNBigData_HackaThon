{
 "cells": [
  {
   "cell_type": "markdown",
   "id": "ebc2d561-1592-4e74-b907-48ff7ee58b59",
   "metadata": {},
   "source": [
    "# Feature Engineering\n",
    "Cleaning features and predicting them before going to the AHEI forecast.\n",
    "We will be using Prophet to fill the gaps between years in the features. Prophet was chosen\n",
    "beause of explanability, backwards forecast, and seasonality fitting."
   ]
  },
  {
   "cell_type": "code",
   "execution_count": 1,
   "id": "dca022f8-720e-468e-bde1-75de16bbfc6b",
   "metadata": {},
   "outputs": [
    {
     "name": "stderr",
     "output_type": "stream",
     "text": [
      "C:\\Users\\Nickolas Machado\\miniconda3\\envs\\onu\\lib\\site-packages\\tqdm\\auto.py:22: TqdmWarning: IProgress not found. Please update jupyter and ipywidgets. See https://ipywidgets.readthedocs.io/en/stable/user_install.html\n",
      "  from .autonotebook import tqdm as notebook_tqdm\n",
      "Importing plotly failed. Interactive plots will not work.\n"
     ]
    }
   ],
   "source": [
    "import pandas as pd\n",
    "from prophet import Prophet\n",
    "import numpy as np\n",
    "import multiprocessing"
   ]
  },
  {
   "cell_type": "code",
   "execution_count": 2,
   "id": "6186ba3f-d850-4a6d-afde-7ca52ecfc182",
   "metadata": {},
   "outputs": [],
   "source": [
    "df = pd.read_parquet(\"data/processed/features.parquet\")"
   ]
  },
  {
   "cell_type": "code",
   "execution_count": 3,
   "id": "c382ef82-28ff-4bcf-8603-2680181011b9",
   "metadata": {},
   "outputs": [
    {
     "data": {
      "text/html": [
       "<div>\n",
       "<style scoped>\n",
       "    .dataframe tbody tr th:only-of-type {\n",
       "        vertical-align: middle;\n",
       "    }\n",
       "\n",
       "    .dataframe tbody tr th {\n",
       "        vertical-align: top;\n",
       "    }\n",
       "\n",
       "    .dataframe thead th {\n",
       "        text-align: right;\n",
       "    }\n",
       "</style>\n",
       "<table border=\"1\" class=\"dataframe\">\n",
       "  <thead>\n",
       "    <tr style=\"text-align: right;\">\n",
       "      <th></th>\n",
       "      <th>Country</th>\n",
       "      <th>Year</th>\n",
       "      <th>AHEI</th>\n",
       "      <th>HCI</th>\n",
       "      <th>CPI</th>\n",
       "      <th>CPIFoodEnergy</th>\n",
       "      <th>HealthyDietCost</th>\n",
       "      <th>FruitsShare</th>\n",
       "      <th>VegetablesShare</th>\n",
       "      <th>StarchyShare</th>\n",
       "      <th>AnimalSourceShare</th>\n",
       "      <th>LegumesShare</th>\n",
       "      <th>OilsShare</th>\n",
       "    </tr>\n",
       "  </thead>\n",
       "  <tbody>\n",
       "    <tr>\n",
       "      <th>11</th>\n",
       "      <td>AFG</td>\n",
       "      <td>2001</td>\n",
       "      <td>48.266802</td>\n",
       "      <td>&lt;NA&gt;</td>\n",
       "      <td>&lt;NA&gt;</td>\n",
       "      <td>&lt;NA&gt;</td>\n",
       "      <td>&lt;NA&gt;</td>\n",
       "      <td>&lt;NA&gt;</td>\n",
       "      <td>&lt;NA&gt;</td>\n",
       "      <td>&lt;NA&gt;</td>\n",
       "      <td>&lt;NA&gt;</td>\n",
       "      <td>&lt;NA&gt;</td>\n",
       "      <td>&lt;NA&gt;</td>\n",
       "    </tr>\n",
       "    <tr>\n",
       "      <th>12</th>\n",
       "      <td>AFG</td>\n",
       "      <td>2002</td>\n",
       "      <td>47.970130</td>\n",
       "      <td>&lt;NA&gt;</td>\n",
       "      <td>&lt;NA&gt;</td>\n",
       "      <td>&lt;NA&gt;</td>\n",
       "      <td>&lt;NA&gt;</td>\n",
       "      <td>&lt;NA&gt;</td>\n",
       "      <td>&lt;NA&gt;</td>\n",
       "      <td>&lt;NA&gt;</td>\n",
       "      <td>&lt;NA&gt;</td>\n",
       "      <td>&lt;NA&gt;</td>\n",
       "      <td>&lt;NA&gt;</td>\n",
       "    </tr>\n",
       "    <tr>\n",
       "      <th>13</th>\n",
       "      <td>AFG</td>\n",
       "      <td>2003</td>\n",
       "      <td>47.673459</td>\n",
       "      <td>&lt;NA&gt;</td>\n",
       "      <td>&lt;NA&gt;</td>\n",
       "      <td>&lt;NA&gt;</td>\n",
       "      <td>&lt;NA&gt;</td>\n",
       "      <td>&lt;NA&gt;</td>\n",
       "      <td>&lt;NA&gt;</td>\n",
       "      <td>&lt;NA&gt;</td>\n",
       "      <td>&lt;NA&gt;</td>\n",
       "      <td>&lt;NA&gt;</td>\n",
       "      <td>&lt;NA&gt;</td>\n",
       "    </tr>\n",
       "    <tr>\n",
       "      <th>14</th>\n",
       "      <td>AFG</td>\n",
       "      <td>2004</td>\n",
       "      <td>47.376788</td>\n",
       "      <td>&lt;NA&gt;</td>\n",
       "      <td>&lt;NA&gt;</td>\n",
       "      <td>&lt;NA&gt;</td>\n",
       "      <td>&lt;NA&gt;</td>\n",
       "      <td>&lt;NA&gt;</td>\n",
       "      <td>&lt;NA&gt;</td>\n",
       "      <td>&lt;NA&gt;</td>\n",
       "      <td>&lt;NA&gt;</td>\n",
       "      <td>&lt;NA&gt;</td>\n",
       "      <td>&lt;NA&gt;</td>\n",
       "    </tr>\n",
       "    <tr>\n",
       "      <th>15</th>\n",
       "      <td>AFG</td>\n",
       "      <td>2005</td>\n",
       "      <td>47.080117</td>\n",
       "      <td>&lt;NA&gt;</td>\n",
       "      <td>&lt;NA&gt;</td>\n",
       "      <td>&lt;NA&gt;</td>\n",
       "      <td>&lt;NA&gt;</td>\n",
       "      <td>&lt;NA&gt;</td>\n",
       "      <td>&lt;NA&gt;</td>\n",
       "      <td>&lt;NA&gt;</td>\n",
       "      <td>&lt;NA&gt;</td>\n",
       "      <td>&lt;NA&gt;</td>\n",
       "      <td>&lt;NA&gt;</td>\n",
       "    </tr>\n",
       "    <tr>\n",
       "      <th>...</th>\n",
       "      <td>...</td>\n",
       "      <td>...</td>\n",
       "      <td>...</td>\n",
       "      <td>...</td>\n",
       "      <td>...</td>\n",
       "      <td>...</td>\n",
       "      <td>...</td>\n",
       "      <td>...</td>\n",
       "      <td>...</td>\n",
       "      <td>...</td>\n",
       "      <td>...</td>\n",
       "      <td>...</td>\n",
       "      <td>...</td>\n",
       "    </tr>\n",
       "    <tr>\n",
       "      <th>7166</th>\n",
       "      <td>WLD</td>\n",
       "      <td>2020</td>\n",
       "      <td>NaN</td>\n",
       "      <td>&lt;NA&gt;</td>\n",
       "      <td>&lt;NA&gt;</td>\n",
       "      <td>&lt;NA&gt;</td>\n",
       "      <td>3.537</td>\n",
       "      <td>0.131875</td>\n",
       "      <td>0.2005</td>\n",
       "      <td>0.25525</td>\n",
       "      <td>0.299375</td>\n",
       "      <td>0.072625</td>\n",
       "      <td>0.041375</td>\n",
       "    </tr>\n",
       "    <tr>\n",
       "      <th>7167</th>\n",
       "      <td>ZMB</td>\n",
       "      <td>2019</td>\n",
       "      <td>NaN</td>\n",
       "      <td>&lt;NA&gt;</td>\n",
       "      <td>&lt;NA&gt;</td>\n",
       "      <td>&lt;NA&gt;</td>\n",
       "      <td>3.245</td>\n",
       "      <td>0.1345</td>\n",
       "      <td>0.2425</td>\n",
       "      <td>0.2115</td>\n",
       "      <td>0.2845</td>\n",
       "      <td>0.085</td>\n",
       "      <td>0.042</td>\n",
       "    </tr>\n",
       "    <tr>\n",
       "      <th>7168</th>\n",
       "      <td>ZMB</td>\n",
       "      <td>2020</td>\n",
       "      <td>NaN</td>\n",
       "      <td>&lt;NA&gt;</td>\n",
       "      <td>&lt;NA&gt;</td>\n",
       "      <td>&lt;NA&gt;</td>\n",
       "      <td>3.3</td>\n",
       "      <td>0.14125</td>\n",
       "      <td>0.26125</td>\n",
       "      <td>0.18525</td>\n",
       "      <td>0.27975</td>\n",
       "      <td>0.09</td>\n",
       "      <td>0.042</td>\n",
       "    </tr>\n",
       "    <tr>\n",
       "      <th>7169</th>\n",
       "      <td>ZWE</td>\n",
       "      <td>2019</td>\n",
       "      <td>NaN</td>\n",
       "      <td>&lt;NA&gt;</td>\n",
       "      <td>&lt;NA&gt;</td>\n",
       "      <td>&lt;NA&gt;</td>\n",
       "      <td>3.456</td>\n",
       "      <td>0.148</td>\n",
       "      <td>0.28</td>\n",
       "      <td>0.159</td>\n",
       "      <td>0.275</td>\n",
       "      <td>0.095</td>\n",
       "      <td>0.042</td>\n",
       "    </tr>\n",
       "    <tr>\n",
       "      <th>7170</th>\n",
       "      <td>ZWE</td>\n",
       "      <td>2020</td>\n",
       "      <td>NaN</td>\n",
       "      <td>&lt;NA&gt;</td>\n",
       "      <td>&lt;NA&gt;</td>\n",
       "      <td>&lt;NA&gt;</td>\n",
       "      <td>3.456</td>\n",
       "      <td>0.148</td>\n",
       "      <td>0.28</td>\n",
       "      <td>0.159</td>\n",
       "      <td>0.275</td>\n",
       "      <td>0.095</td>\n",
       "      <td>0.042</td>\n",
       "    </tr>\n",
       "  </tbody>\n",
       "</table>\n",
       "<p>3922 rows × 13 columns</p>\n",
       "</div>"
      ],
      "text/plain": [
       "     Country  Year       AHEI   HCI   CPI  CPIFoodEnergy  HealthyDietCost  \\\n",
       "11       AFG  2001  48.266802  <NA>  <NA>           <NA>             <NA>   \n",
       "12       AFG  2002  47.970130  <NA>  <NA>           <NA>             <NA>   \n",
       "13       AFG  2003  47.673459  <NA>  <NA>           <NA>             <NA>   \n",
       "14       AFG  2004  47.376788  <NA>  <NA>           <NA>             <NA>   \n",
       "15       AFG  2005  47.080117  <NA>  <NA>           <NA>             <NA>   \n",
       "...      ...   ...        ...   ...   ...            ...              ...   \n",
       "7166     WLD  2020        NaN  <NA>  <NA>           <NA>            3.537   \n",
       "7167     ZMB  2019        NaN  <NA>  <NA>           <NA>            3.245   \n",
       "7168     ZMB  2020        NaN  <NA>  <NA>           <NA>              3.3   \n",
       "7169     ZWE  2019        NaN  <NA>  <NA>           <NA>            3.456   \n",
       "7170     ZWE  2020        NaN  <NA>  <NA>           <NA>            3.456   \n",
       "\n",
       "      FruitsShare  VegetablesShare  StarchyShare  AnimalSourceShare  \\\n",
       "11           <NA>             <NA>          <NA>               <NA>   \n",
       "12           <NA>             <NA>          <NA>               <NA>   \n",
       "13           <NA>             <NA>          <NA>               <NA>   \n",
       "14           <NA>             <NA>          <NA>               <NA>   \n",
       "15           <NA>             <NA>          <NA>               <NA>   \n",
       "...           ...              ...           ...                ...   \n",
       "7166     0.131875           0.2005       0.25525           0.299375   \n",
       "7167       0.1345           0.2425        0.2115             0.2845   \n",
       "7168      0.14125          0.26125       0.18525            0.27975   \n",
       "7169        0.148             0.28         0.159              0.275   \n",
       "7170        0.148             0.28         0.159              0.275   \n",
       "\n",
       "      LegumesShare  OilsShare  \n",
       "11            <NA>       <NA>  \n",
       "12            <NA>       <NA>  \n",
       "13            <NA>       <NA>  \n",
       "14            <NA>       <NA>  \n",
       "15            <NA>       <NA>  \n",
       "...            ...        ...  \n",
       "7166      0.072625   0.041375  \n",
       "7167         0.085      0.042  \n",
       "7168          0.09      0.042  \n",
       "7169         0.095      0.042  \n",
       "7170         0.095      0.042  \n",
       "\n",
       "[3922 rows x 13 columns]"
      ]
     },
     "execution_count": 3,
     "metadata": {},
     "output_type": "execute_result"
    }
   ],
   "source": [
    "# Removing everything before 2000 because its too old and most datasets don't have\n",
    "# data past it\n",
    "df = df[df[\"Year\"] > 2000]\n",
    "df"
   ]
  },
  {
   "cell_type": "markdown",
   "id": "e0fe2b95-81e6-41c7-90eb-84642e0ab5e6",
   "metadata": {},
   "source": [
    "## Predicting food prices"
   ]
  },
  {
   "cell_type": "code",
   "execution_count": 5,
   "id": "a2a2030f-798a-47a4-b2cb-90a5c8bd7b62",
   "metadata": {},
   "outputs": [],
   "source": [
    "years = pd.DataFrame({\"ds\": range(2000, 2025+1)})"
   ]
  },
  {
   "cell_type": "code",
   "execution_count": 6,
   "id": "3e8681cf-275e-45b2-9efa-73e24049a9b1",
   "metadata": {
    "collapsed": true,
    "jupyter": {
     "outputs_hidden": true
    },
    "tags": []
   },
   "outputs": [
    {
     "name": "stderr",
     "output_type": "stream",
     "text": [
      "17:23:09 - cmdstanpy - INFO - Chain [1] start processing\n",
      "17:23:12 - cmdstanpy - INFO - Chain [1] done processing\n",
      "17:23:12 - cmdstanpy - INFO - Chain [1] start processing\n",
      "17:23:12 - cmdstanpy - INFO - Chain [1] done processing\n",
      "17:23:13 - cmdstanpy - INFO - Chain [1] start processing\n",
      "17:23:13 - cmdstanpy - INFO - Chain [1] done processing\n",
      "17:23:13 - cmdstanpy - INFO - Chain [1] start processing\n",
      "17:23:13 - cmdstanpy - INFO - Chain [1] done processing\n",
      "17:23:14 - cmdstanpy - INFO - Chain [1] start processing\n",
      "17:23:14 - cmdstanpy - INFO - Chain [1] done processing\n",
      "17:23:15 - cmdstanpy - INFO - Chain [1] start processing\n",
      "17:23:15 - cmdstanpy - INFO - Chain [1] done processing\n",
      "17:23:15 - cmdstanpy - INFO - Chain [1] start processing\n",
      "17:23:15 - cmdstanpy - INFO - Chain [1] done processing\n",
      "17:23:15 - cmdstanpy - INFO - Chain [1] start processing\n"
     ]
    },
    {
     "name": "stdout",
     "output_type": "stream",
     "text": [
      "ABW - processed\n"
     ]
    },
    {
     "name": "stderr",
     "output_type": "stream",
     "text": [
      "17:23:17 - cmdstanpy - INFO - Chain [1] done processing\n",
      "17:23:18 - cmdstanpy - INFO - Chain [1] start processing\n"
     ]
    },
    {
     "name": "stdout",
     "output_type": "stream",
     "text": [
      "AFG - processed\n"
     ]
    },
    {
     "name": "stderr",
     "output_type": "stream",
     "text": [
      "17:23:21 - cmdstanpy - INFO - Chain [1] done processing\n",
      "17:23:21 - cmdstanpy - INFO - Chain [1] start processing\n",
      "17:23:23 - cmdstanpy - INFO - Chain [1] done processing\n",
      "17:23:24 - cmdstanpy - INFO - Chain [1] start processing\n",
      "17:23:24 - cmdstanpy - INFO - Chain [1] done processing\n",
      "17:23:24 - cmdstanpy - INFO - Chain [1] start processing\n",
      "17:23:24 - cmdstanpy - INFO - Chain [1] done processing\n",
      "17:23:25 - cmdstanpy - INFO - Chain [1] start processing\n",
      "17:23:25 - cmdstanpy - INFO - Chain [1] done processing\n",
      "17:23:25 - cmdstanpy - INFO - Chain [1] start processing\n",
      "17:23:26 - cmdstanpy - INFO - Chain [1] done processing\n",
      "17:23:26 - cmdstanpy - INFO - Chain [1] start processing\n",
      "17:23:26 - cmdstanpy - INFO - Chain [1] done processing\n",
      "17:23:27 - cmdstanpy - INFO - Chain [1] start processing\n",
      "17:23:27 - cmdstanpy - INFO - Chain [1] done processing\n"
     ]
    },
    {
     "name": "stdout",
     "output_type": "stream",
     "text": [
      "AGO - processed\n"
     ]
    },
    {
     "name": "stderr",
     "output_type": "stream",
     "text": [
      "17:23:27 - cmdstanpy - INFO - Chain [1] start processing\n",
      "17:23:27 - cmdstanpy - INFO - Chain [1] done processing\n",
      "17:23:28 - cmdstanpy - INFO - Chain [1] start processing\n",
      "17:23:28 - cmdstanpy - INFO - Chain [1] done processing\n",
      "17:23:28 - cmdstanpy - INFO - Chain [1] start processing\n",
      "17:23:28 - cmdstanpy - INFO - Chain [1] done processing\n",
      "17:23:29 - cmdstanpy - INFO - Chain [1] start processing\n",
      "17:23:29 - cmdstanpy - INFO - Chain [1] done processing\n",
      "17:23:29 - cmdstanpy - INFO - Chain [1] start processing\n",
      "17:23:29 - cmdstanpy - INFO - Chain [1] done processing\n",
      "17:23:30 - cmdstanpy - INFO - Chain [1] start processing\n",
      "17:23:30 - cmdstanpy - INFO - Chain [1] done processing\n",
      "17:23:30 - cmdstanpy - INFO - Chain [1] start processing\n",
      "17:23:30 - cmdstanpy - INFO - Chain [1] done processing\n",
      "17:23:31 - cmdstanpy - INFO - Chain [1] start processing\n"
     ]
    },
    {
     "name": "stdout",
     "output_type": "stream",
     "text": [
      "AIA - processed\n"
     ]
    },
    {
     "name": "stderr",
     "output_type": "stream",
     "text": [
      "17:23:33 - cmdstanpy - INFO - Chain [1] done processing\n",
      "17:23:33 - cmdstanpy - INFO - Chain [1] start processing\n",
      "17:23:36 - cmdstanpy - INFO - Chain [1] done processing\n",
      "17:23:36 - cmdstanpy - INFO - Chain [1] start processing\n",
      "17:23:36 - cmdstanpy - INFO - Chain [1] done processing\n",
      "17:23:37 - cmdstanpy - INFO - Chain [1] start processing\n",
      "17:23:37 - cmdstanpy - INFO - Chain [1] done processing\n",
      "17:23:37 - cmdstanpy - INFO - Chain [1] start processing\n",
      "17:23:37 - cmdstanpy - INFO - Chain [1] done processing\n",
      "17:23:38 - cmdstanpy - INFO - Chain [1] start processing\n",
      "17:23:38 - cmdstanpy - INFO - Chain [1] done processing\n",
      "17:23:38 - cmdstanpy - INFO - Chain [1] start processing\n",
      "17:23:39 - cmdstanpy - INFO - Chain [1] done processing\n",
      "17:23:39 - cmdstanpy - INFO - Chain [1] start processing\n",
      "17:23:39 - cmdstanpy - INFO - Chain [1] done processing\n",
      "17:23:40 - cmdstanpy - INFO - Chain [1] start processing\n"
     ]
    },
    {
     "name": "stdout",
     "output_type": "stream",
     "text": [
      "ALB - processed\n"
     ]
    },
    {
     "name": "stderr",
     "output_type": "stream",
     "text": [
      "17:23:42 - cmdstanpy - INFO - Chain [1] done processing\n",
      "17:23:42 - cmdstanpy - INFO - Chain [1] start processing\n",
      "17:23:46 - cmdstanpy - INFO - Chain [1] done processing\n",
      "17:23:47 - cmdstanpy - INFO - Chain [1] start processing\n",
      "17:23:47 - cmdstanpy - INFO - Chain [1] done processing\n",
      "17:23:47 - cmdstanpy - INFO - Chain [1] start processing\n",
      "17:23:47 - cmdstanpy - INFO - Chain [1] done processing\n",
      "17:23:48 - cmdstanpy - INFO - Chain [1] start processing\n",
      "17:23:48 - cmdstanpy - INFO - Chain [1] done processing\n",
      "17:23:48 - cmdstanpy - INFO - Chain [1] start processing\n",
      "17:23:49 - cmdstanpy - INFO - Chain [1] done processing\n",
      "17:23:49 - cmdstanpy - INFO - Chain [1] start processing\n",
      "17:23:49 - cmdstanpy - INFO - Chain [1] done processing\n",
      "17:23:50 - cmdstanpy - INFO - Chain [1] start processing\n",
      "17:23:50 - cmdstanpy - INFO - Chain [1] done processing\n",
      "17:23:50 - cmdstanpy - INFO - Chain [1] start processing\n"
     ]
    },
    {
     "name": "stdout",
     "output_type": "stream",
     "text": [
      "ARE - processed\n"
     ]
    },
    {
     "name": "stderr",
     "output_type": "stream",
     "text": [
      "17:23:52 - cmdstanpy - INFO - Chain [1] done processing\n",
      "17:23:53 - cmdstanpy - INFO - Chain [1] start processing\n",
      "17:23:53 - cmdstanpy - INFO - Chain [1] done processing\n",
      "17:23:53 - cmdstanpy - INFO - Chain [1] start processing\n",
      "17:23:54 - cmdstanpy - INFO - Chain [1] done processing\n",
      "17:23:54 - cmdstanpy - INFO - Chain [1] start processing\n",
      "17:23:54 - cmdstanpy - INFO - Chain [1] done processing\n",
      "17:23:55 - cmdstanpy - INFO - Chain [1] start processing\n",
      "17:23:55 - cmdstanpy - INFO - Chain [1] done processing\n",
      "17:23:55 - cmdstanpy - INFO - Chain [1] start processing\n",
      "17:23:56 - cmdstanpy - INFO - Chain [1] done processing\n",
      "17:23:56 - cmdstanpy - INFO - Chain [1] start processing\n",
      "17:23:56 - cmdstanpy - INFO - Chain [1] done processing\n",
      "17:23:57 - cmdstanpy - INFO - Chain [1] start processing\n",
      "17:23:57 - cmdstanpy - INFO - Chain [1] done processing\n",
      "17:23:57 - cmdstanpy - INFO - Chain [1] start processing\n",
      "17:23:57 - cmdstanpy - INFO - Chain [1] done processing\n",
      "17:23:58 - cmdstanpy - INFO - Chain [1] start processing\n"
     ]
    },
    {
     "name": "stdout",
     "output_type": "stream",
     "text": [
      "ARG - processed\n"
     ]
    },
    {
     "name": "stderr",
     "output_type": "stream",
     "text": [
      "17:23:58 - cmdstanpy - INFO - Chain [1] done processing\n",
      "17:23:58 - cmdstanpy - INFO - Chain [1] start processing\n",
      "17:24:04 - cmdstanpy - INFO - Chain [1] done processing\n",
      "17:24:04 - cmdstanpy - INFO - Chain [1] start processing\n",
      "17:24:04 - cmdstanpy - INFO - Chain [1] done processing\n",
      "17:24:05 - cmdstanpy - INFO - Chain [1] start processing\n",
      "17:24:05 - cmdstanpy - INFO - Chain [1] done processing\n",
      "17:24:05 - cmdstanpy - INFO - Chain [1] start processing\n",
      "17:24:05 - cmdstanpy - INFO - Chain [1] done processing\n",
      "17:24:06 - cmdstanpy - INFO - Chain [1] start processing\n",
      "17:24:06 - cmdstanpy - INFO - Chain [1] done processing\n",
      "17:24:06 - cmdstanpy - INFO - Chain [1] start processing\n",
      "17:24:06 - cmdstanpy - INFO - Chain [1] done processing\n",
      "17:24:07 - cmdstanpy - INFO - Chain [1] start processing\n",
      "17:24:07 - cmdstanpy - INFO - Chain [1] done processing\n"
     ]
    },
    {
     "name": "stdout",
     "output_type": "stream",
     "text": [
      "ARM - processed\n",
      "ATG - errored\n"
     ]
    },
    {
     "name": "stderr",
     "output_type": "stream",
     "text": [
      "17:24:08 - cmdstanpy - INFO - Chain [1] start processing\n",
      "17:24:08 - cmdstanpy - INFO - Chain [1] done processing\n",
      "17:24:08 - cmdstanpy - INFO - Chain [1] start processing\n",
      "17:24:08 - cmdstanpy - INFO - Chain [1] done processing\n",
      "17:24:09 - cmdstanpy - INFO - Chain [1] start processing\n",
      "17:24:09 - cmdstanpy - INFO - Chain [1] done processing\n",
      "17:24:09 - cmdstanpy - INFO - Chain [1] start processing\n",
      "17:24:09 - cmdstanpy - INFO - Chain [1] done processing\n",
      "17:24:10 - cmdstanpy - INFO - Chain [1] start processing\n",
      "17:24:10 - cmdstanpy - INFO - Chain [1] done processing\n",
      "17:24:10 - cmdstanpy - INFO - Chain [1] start processing\n",
      "17:24:10 - cmdstanpy - INFO - Chain [1] done processing\n",
      "17:24:11 - cmdstanpy - INFO - Chain [1] start processing\n",
      "17:24:11 - cmdstanpy - INFO - Chain [1] done processing\n",
      "17:24:11 - cmdstanpy - INFO - Chain [1] start processing\n",
      "17:24:11 - cmdstanpy - INFO - Chain [1] done processing\n",
      "17:24:12 - cmdstanpy - INFO - Chain [1] start processing\n",
      "17:24:12 - cmdstanpy - INFO - Chain [1] done processing\n",
      "17:24:12 - cmdstanpy - INFO - Chain [1] start processing\n",
      "17:24:12 - cmdstanpy - INFO - Chain [1] done processing\n"
     ]
    },
    {
     "name": "stdout",
     "output_type": "stream",
     "text": [
      "AUS - processed\n"
     ]
    },
    {
     "name": "stderr",
     "output_type": "stream",
     "text": [
      "17:24:13 - cmdstanpy - INFO - Chain [1] start processing\n",
      "17:24:13 - cmdstanpy - INFO - Chain [1] done processing\n",
      "17:24:13 - cmdstanpy - INFO - Chain [1] start processing\n",
      "17:24:13 - cmdstanpy - INFO - Chain [1] done processing\n",
      "17:24:14 - cmdstanpy - INFO - Chain [1] start processing\n",
      "17:24:14 - cmdstanpy - INFO - Chain [1] done processing\n",
      "17:24:14 - cmdstanpy - INFO - Chain [1] start processing\n",
      "17:24:14 - cmdstanpy - INFO - Chain [1] done processing\n",
      "17:24:15 - cmdstanpy - INFO - Chain [1] start processing\n",
      "17:24:15 - cmdstanpy - INFO - Chain [1] done processing\n",
      "17:24:15 - cmdstanpy - INFO - Chain [1] start processing\n",
      "17:24:15 - cmdstanpy - INFO - Chain [1] done processing\n",
      "17:24:16 - cmdstanpy - INFO - Chain [1] start processing\n",
      "17:24:16 - cmdstanpy - INFO - Chain [1] done processing\n",
      "17:24:16 - cmdstanpy - INFO - Chain [1] start processing\n",
      "17:24:16 - cmdstanpy - INFO - Chain [1] done processing\n",
      "17:24:17 - cmdstanpy - INFO - Chain [1] start processing\n",
      "17:24:17 - cmdstanpy - INFO - Chain [1] done processing\n",
      "17:24:17 - cmdstanpy - INFO - Chain [1] start processing\n",
      "17:24:17 - cmdstanpy - INFO - Chain [1] done processing\n"
     ]
    },
    {
     "name": "stdout",
     "output_type": "stream",
     "text": [
      "AUT - processed\n"
     ]
    },
    {
     "name": "stderr",
     "output_type": "stream",
     "text": [
      "17:24:18 - cmdstanpy - INFO - Chain [1] start processing\n",
      "17:24:22 - cmdstanpy - INFO - Chain [1] done processing\n",
      "17:24:23 - cmdstanpy - INFO - Chain [1] start processing\n",
      "17:24:23 - cmdstanpy - INFO - Chain [1] done processing\n",
      "17:24:23 - cmdstanpy - INFO - Chain [1] start processing\n",
      "17:24:23 - cmdstanpy - INFO - Chain [1] done processing\n",
      "17:24:24 - cmdstanpy - INFO - Chain [1] start processing\n",
      "17:24:24 - cmdstanpy - INFO - Chain [1] done processing\n",
      "17:24:24 - cmdstanpy - INFO - Chain [1] start processing\n",
      "17:24:25 - cmdstanpy - INFO - Chain [1] done processing\n",
      "17:24:25 - cmdstanpy - INFO - Chain [1] start processing\n",
      "17:24:25 - cmdstanpy - INFO - Chain [1] done processing\n",
      "17:24:26 - cmdstanpy - INFO - Chain [1] start processing\n",
      "17:24:26 - cmdstanpy - INFO - Chain [1] done processing\n",
      "17:24:26 - cmdstanpy - INFO - Chain [1] start processing\n"
     ]
    },
    {
     "name": "stdout",
     "output_type": "stream",
     "text": [
      "AZE - processed\n"
     ]
    },
    {
     "name": "stderr",
     "output_type": "stream",
     "text": [
      "17:24:28 - cmdstanpy - INFO - Chain [1] done processing\n",
      "17:24:29 - cmdstanpy - INFO - Chain [1] start processing\n",
      "17:24:29 - cmdstanpy - INFO - Chain [1] done processing\n",
      "17:24:29 - cmdstanpy - INFO - Chain [1] start processing\n",
      "17:24:29 - cmdstanpy - INFO - Chain [1] done processing\n",
      "17:24:30 - cmdstanpy - INFO - Chain [1] start processing\n",
      "17:24:30 - cmdstanpy - INFO - Chain [1] done processing\n",
      "17:24:30 - cmdstanpy - INFO - Chain [1] start processing\n",
      "17:24:30 - cmdstanpy - INFO - Chain [1] done processing\n",
      "17:24:31 - cmdstanpy - INFO - Chain [1] start processing\n",
      "17:24:31 - cmdstanpy - INFO - Chain [1] done processing\n",
      "17:24:31 - cmdstanpy - INFO - Chain [1] start processing\n",
      "17:24:31 - cmdstanpy - INFO - Chain [1] done processing\n",
      "17:24:32 - cmdstanpy - INFO - Chain [1] start processing\n",
      "17:24:32 - cmdstanpy - INFO - Chain [1] done processing\n",
      "17:24:32 - cmdstanpy - INFO - Chain [1] start processing\n"
     ]
    },
    {
     "name": "stdout",
     "output_type": "stream",
     "text": [
      "BDI - processed\n"
     ]
    },
    {
     "name": "stderr",
     "output_type": "stream",
     "text": [
      "17:24:34 - cmdstanpy - INFO - Chain [1] done processing\n",
      "17:24:34 - cmdstanpy - INFO - Chain [1] start processing\n",
      "17:24:34 - cmdstanpy - INFO - Chain [1] done processing\n",
      "17:24:35 - cmdstanpy - INFO - Chain [1] start processing\n",
      "17:24:35 - cmdstanpy - INFO - Chain [1] done processing\n",
      "17:24:35 - cmdstanpy - INFO - Chain [1] start processing\n",
      "17:24:35 - cmdstanpy - INFO - Chain [1] done processing\n",
      "17:24:36 - cmdstanpy - INFO - Chain [1] start processing\n",
      "17:24:36 - cmdstanpy - INFO - Chain [1] done processing\n",
      "17:24:36 - cmdstanpy - INFO - Chain [1] start processing\n",
      "17:24:36 - cmdstanpy - INFO - Chain [1] done processing\n",
      "17:24:37 - cmdstanpy - INFO - Chain [1] start processing\n",
      "17:24:37 - cmdstanpy - INFO - Chain [1] done processing\n",
      "17:24:37 - cmdstanpy - INFO - Chain [1] start processing\n",
      "17:24:37 - cmdstanpy - INFO - Chain [1] done processing\n",
      "17:24:38 - cmdstanpy - INFO - Chain [1] start processing\n",
      "17:24:38 - cmdstanpy - INFO - Chain [1] done processing\n",
      "17:24:38 - cmdstanpy - INFO - Chain [1] start processing\n",
      "17:24:38 - cmdstanpy - INFO - Chain [1] done processing\n",
      "17:24:39 - cmdstanpy - INFO - Chain [1] start processing\n",
      "17:24:39 - cmdstanpy - INFO - Chain [1] done processing\n"
     ]
    },
    {
     "name": "stdout",
     "output_type": "stream",
     "text": [
      "BEL - processed\n"
     ]
    },
    {
     "name": "stderr",
     "output_type": "stream",
     "text": [
      "17:24:40 - cmdstanpy - INFO - Chain [1] start processing\n",
      "17:24:42 - cmdstanpy - INFO - Chain [1] done processing\n",
      "17:24:42 - cmdstanpy - INFO - Chain [1] start processing\n",
      "17:24:42 - cmdstanpy - INFO - Chain [1] done processing\n",
      "17:24:43 - cmdstanpy - INFO - Chain [1] start processing\n",
      "17:24:43 - cmdstanpy - INFO - Chain [1] done processing\n",
      "17:24:43 - cmdstanpy - INFO - Chain [1] start processing\n",
      "17:24:43 - cmdstanpy - INFO - Chain [1] done processing\n",
      "17:24:44 - cmdstanpy - INFO - Chain [1] start processing\n",
      "17:24:44 - cmdstanpy - INFO - Chain [1] done processing\n",
      "17:24:44 - cmdstanpy - INFO - Chain [1] start processing\n",
      "17:24:44 - cmdstanpy - INFO - Chain [1] done processing\n",
      "17:24:45 - cmdstanpy - INFO - Chain [1] start processing\n",
      "17:24:45 - cmdstanpy - INFO - Chain [1] done processing\n",
      "17:24:45 - cmdstanpy - INFO - Chain [1] start processing\n"
     ]
    },
    {
     "name": "stdout",
     "output_type": "stream",
     "text": [
      "BEN - processed\n"
     ]
    },
    {
     "name": "stderr",
     "output_type": "stream",
     "text": [
      "17:24:47 - cmdstanpy - INFO - Chain [1] done processing\n",
      "17:24:48 - cmdstanpy - INFO - Chain [1] start processing\n",
      "17:24:48 - cmdstanpy - INFO - Chain [1] done processing\n",
      "17:24:48 - cmdstanpy - INFO - Chain [1] start processing\n",
      "17:24:48 - cmdstanpy - INFO - Chain [1] done processing\n",
      "17:24:49 - cmdstanpy - INFO - Chain [1] start processing\n",
      "17:24:49 - cmdstanpy - INFO - Chain [1] done processing\n",
      "17:24:49 - cmdstanpy - INFO - Chain [1] start processing\n",
      "17:24:49 - cmdstanpy - INFO - Chain [1] done processing\n",
      "17:24:50 - cmdstanpy - INFO - Chain [1] start processing\n",
      "17:24:50 - cmdstanpy - INFO - Chain [1] done processing\n",
      "17:24:50 - cmdstanpy - INFO - Chain [1] start processing\n",
      "17:24:50 - cmdstanpy - INFO - Chain [1] done processing\n",
      "17:24:51 - cmdstanpy - INFO - Chain [1] start processing\n",
      "17:24:51 - cmdstanpy - INFO - Chain [1] done processing\n",
      "17:24:51 - cmdstanpy - INFO - Chain [1] start processing\n"
     ]
    },
    {
     "name": "stdout",
     "output_type": "stream",
     "text": [
      "BFA - processed\n"
     ]
    },
    {
     "name": "stderr",
     "output_type": "stream",
     "text": [
      "17:24:53 - cmdstanpy - INFO - Chain [1] done processing\n",
      "17:24:53 - cmdstanpy - INFO - Chain [1] start processing\n",
      "17:24:56 - cmdstanpy - INFO - Chain [1] done processing\n",
      "17:24:56 - cmdstanpy - INFO - Chain [1] start processing\n",
      "17:24:56 - cmdstanpy - INFO - Chain [1] done processing\n",
      "17:24:57 - cmdstanpy - INFO - Chain [1] start processing\n",
      "17:24:57 - cmdstanpy - INFO - Chain [1] done processing\n",
      "17:24:57 - cmdstanpy - INFO - Chain [1] start processing\n",
      "17:24:57 - cmdstanpy - INFO - Chain [1] done processing\n",
      "17:24:58 - cmdstanpy - INFO - Chain [1] start processing\n",
      "17:24:58 - cmdstanpy - INFO - Chain [1] done processing\n",
      "17:24:59 - cmdstanpy - INFO - Chain [1] start processing\n",
      "17:24:59 - cmdstanpy - INFO - Chain [1] done processing\n",
      "17:24:59 - cmdstanpy - INFO - Chain [1] start processing\n",
      "17:24:59 - cmdstanpy - INFO - Chain [1] done processing\n",
      "17:25:00 - cmdstanpy - INFO - Chain [1] start processing\n",
      "17:25:00 - cmdstanpy - INFO - Chain [1] done processing\n"
     ]
    },
    {
     "name": "stdout",
     "output_type": "stream",
     "text": [
      "BGD - processed\n"
     ]
    },
    {
     "name": "stderr",
     "output_type": "stream",
     "text": [
      "17:25:01 - cmdstanpy - INFO - Chain [1] start processing\n",
      "17:25:03 - cmdstanpy - INFO - Chain [1] done processing\n",
      "17:25:04 - cmdstanpy - INFO - Chain [1] start processing\n",
      "17:25:04 - cmdstanpy - INFO - Chain [1] done processing\n",
      "17:25:04 - cmdstanpy - INFO - Chain [1] start processing\n",
      "17:25:04 - cmdstanpy - INFO - Chain [1] done processing\n",
      "17:25:05 - cmdstanpy - INFO - Chain [1] start processing\n",
      "17:25:05 - cmdstanpy - INFO - Chain [1] done processing\n",
      "17:25:06 - cmdstanpy - INFO - Chain [1] start processing\n",
      "17:25:06 - cmdstanpy - INFO - Chain [1] done processing\n",
      "17:25:07 - cmdstanpy - INFO - Chain [1] start processing\n",
      "17:25:07 - cmdstanpy - INFO - Chain [1] done processing\n",
      "17:25:07 - cmdstanpy - INFO - Chain [1] start processing\n",
      "17:25:07 - cmdstanpy - INFO - Chain [1] done processing\n",
      "17:25:08 - cmdstanpy - INFO - Chain [1] start processing\n",
      "17:25:08 - cmdstanpy - INFO - Chain [1] done processing\n"
     ]
    },
    {
     "name": "stdout",
     "output_type": "stream",
     "text": [
      "BGR - processed\n"
     ]
    },
    {
     "name": "stderr",
     "output_type": "stream",
     "text": [
      "17:25:08 - cmdstanpy - INFO - Chain [1] start processing\n",
      "17:25:11 - cmdstanpy - INFO - Chain [1] done processing\n",
      "17:25:12 - cmdstanpy - INFO - Chain [1] start processing\n",
      "17:25:12 - cmdstanpy - INFO - Chain [1] done processing\n",
      "17:25:13 - cmdstanpy - INFO - Chain [1] start processing\n",
      "17:25:13 - cmdstanpy - INFO - Chain [1] done processing\n",
      "17:25:13 - cmdstanpy - INFO - Chain [1] start processing\n",
      "17:25:13 - cmdstanpy - INFO - Chain [1] done processing\n",
      "17:25:14 - cmdstanpy - INFO - Chain [1] start processing\n",
      "17:25:14 - cmdstanpy - INFO - Chain [1] done processing\n",
      "17:25:14 - cmdstanpy - INFO - Chain [1] start processing\n",
      "17:25:14 - cmdstanpy - INFO - Chain [1] done processing\n",
      "17:25:15 - cmdstanpy - INFO - Chain [1] start processing\n",
      "17:25:15 - cmdstanpy - INFO - Chain [1] done processing\n"
     ]
    },
    {
     "name": "stdout",
     "output_type": "stream",
     "text": [
      "BHR - processed\n"
     ]
    },
    {
     "name": "stderr",
     "output_type": "stream",
     "text": [
      "17:25:16 - cmdstanpy - INFO - Chain [1] start processing\n",
      "17:25:16 - cmdstanpy - INFO - Chain [1] done processing\n",
      "17:25:16 - cmdstanpy - INFO - Chain [1] start processing\n",
      "17:25:16 - cmdstanpy - INFO - Chain [1] done processing\n",
      "17:25:17 - cmdstanpy - INFO - Chain [1] start processing\n",
      "17:25:17 - cmdstanpy - INFO - Chain [1] done processing\n",
      "17:25:17 - cmdstanpy - INFO - Chain [1] start processing\n",
      "17:25:17 - cmdstanpy - INFO - Chain [1] done processing\n",
      "17:25:18 - cmdstanpy - INFO - Chain [1] start processing\n",
      "17:25:18 - cmdstanpy - INFO - Chain [1] done processing\n",
      "17:25:18 - cmdstanpy - INFO - Chain [1] start processing\n",
      "17:25:18 - cmdstanpy - INFO - Chain [1] done processing\n",
      "17:25:19 - cmdstanpy - INFO - Chain [1] start processing\n",
      "17:25:19 - cmdstanpy - INFO - Chain [1] done processing\n",
      "17:25:19 - cmdstanpy - INFO - Chain [1] start processing\n"
     ]
    },
    {
     "name": "stdout",
     "output_type": "stream",
     "text": [
      "BHS - processed\n"
     ]
    },
    {
     "name": "stderr",
     "output_type": "stream",
     "text": [
      "17:25:19 - cmdstanpy - INFO - Chain [1] done processing\n",
      "17:25:20 - cmdstanpy - INFO - Chain [1] start processing\n",
      "17:25:23 - cmdstanpy - INFO - Chain [1] done processing\n",
      "17:25:23 - cmdstanpy - INFO - Chain [1] start processing\n",
      "17:25:23 - cmdstanpy - INFO - Chain [1] done processing\n",
      "17:25:24 - cmdstanpy - INFO - Chain [1] start processing\n",
      "17:25:24 - cmdstanpy - INFO - Chain [1] done processing\n",
      "17:25:24 - cmdstanpy - INFO - Chain [1] start processing\n",
      "17:25:24 - cmdstanpy - INFO - Chain [1] done processing\n",
      "17:25:24 - cmdstanpy - INFO - Chain [1] start processing\n",
      "17:25:25 - cmdstanpy - INFO - Chain [1] done processing\n",
      "17:25:25 - cmdstanpy - INFO - Chain [1] start processing\n",
      "17:25:25 - cmdstanpy - INFO - Chain [1] done processing\n",
      "17:25:26 - cmdstanpy - INFO - Chain [1] start processing\n",
      "17:25:26 - cmdstanpy - INFO - Chain [1] done processing\n"
     ]
    },
    {
     "name": "stdout",
     "output_type": "stream",
     "text": [
      "BIH - processed\n"
     ]
    },
    {
     "name": "stderr",
     "output_type": "stream",
     "text": [
      "17:25:26 - cmdstanpy - INFO - Chain [1] start processing\n",
      "17:25:26 - cmdstanpy - INFO - Chain [1] done processing\n",
      "17:25:27 - cmdstanpy - INFO - Chain [1] start processing\n",
      "17:25:27 - cmdstanpy - INFO - Chain [1] done processing\n",
      "17:25:27 - cmdstanpy - INFO - Chain [1] start processing\n",
      "17:25:27 - cmdstanpy - INFO - Chain [1] done processing\n",
      "17:25:28 - cmdstanpy - INFO - Chain [1] start processing\n",
      "17:25:28 - cmdstanpy - INFO - Chain [1] done processing\n",
      "17:25:29 - cmdstanpy - INFO - Chain [1] start processing\n",
      "17:25:29 - cmdstanpy - INFO - Chain [1] done processing\n",
      "17:25:29 - cmdstanpy - INFO - Chain [1] start processing\n",
      "17:25:29 - cmdstanpy - INFO - Chain [1] done processing\n"
     ]
    },
    {
     "name": "stdout",
     "output_type": "stream",
     "text": [
      "BLR - processed\n"
     ]
    },
    {
     "name": "stderr",
     "output_type": "stream",
     "text": [
      "17:25:30 - cmdstanpy - INFO - Chain [1] start processing\n",
      "17:25:33 - cmdstanpy - INFO - Chain [1] done processing\n",
      "17:25:34 - cmdstanpy - INFO - Chain [1] start processing\n",
      "17:25:34 - cmdstanpy - INFO - Chain [1] done processing\n",
      "17:25:34 - cmdstanpy - INFO - Chain [1] start processing\n",
      "17:25:34 - cmdstanpy - INFO - Chain [1] done processing\n",
      "17:25:35 - cmdstanpy - INFO - Chain [1] start processing\n",
      "17:25:35 - cmdstanpy - INFO - Chain [1] done processing\n",
      "17:25:36 - cmdstanpy - INFO - Chain [1] start processing\n",
      "17:25:36 - cmdstanpy - INFO - Chain [1] done processing\n",
      "17:25:37 - cmdstanpy - INFO - Chain [1] start processing\n",
      "17:25:37 - cmdstanpy - INFO - Chain [1] done processing\n",
      "17:25:37 - cmdstanpy - INFO - Chain [1] start processing\n",
      "17:25:37 - cmdstanpy - INFO - Chain [1] done processing\n"
     ]
    },
    {
     "name": "stdout",
     "output_type": "stream",
     "text": [
      "BLZ - processed\n"
     ]
    },
    {
     "name": "stderr",
     "output_type": "stream",
     "text": [
      "17:25:38 - cmdstanpy - INFO - Chain [1] start processing\n",
      "17:25:40 - cmdstanpy - INFO - Chain [1] done processing\n",
      "17:25:41 - cmdstanpy - INFO - Chain [1] start processing\n",
      "17:25:41 - cmdstanpy - INFO - Chain [1] done processing\n",
      "17:25:41 - cmdstanpy - INFO - Chain [1] start processing\n",
      "17:25:41 - cmdstanpy - INFO - Chain [1] done processing\n",
      "17:25:42 - cmdstanpy - INFO - Chain [1] start processing\n",
      "17:25:42 - cmdstanpy - INFO - Chain [1] done processing\n",
      "17:25:42 - cmdstanpy - INFO - Chain [1] start processing\n",
      "17:25:42 - cmdstanpy - INFO - Chain [1] done processing\n",
      "17:25:43 - cmdstanpy - INFO - Chain [1] start processing\n",
      "17:25:43 - cmdstanpy - INFO - Chain [1] done processing\n",
      "17:25:43 - cmdstanpy - INFO - Chain [1] start processing\n",
      "17:25:43 - cmdstanpy - INFO - Chain [1] done processing\n"
     ]
    },
    {
     "name": "stdout",
     "output_type": "stream",
     "text": [
      "BMU - processed\n"
     ]
    },
    {
     "name": "stderr",
     "output_type": "stream",
     "text": [
      "17:25:44 - cmdstanpy - INFO - Chain [1] start processing\n",
      "17:25:47 - cmdstanpy - INFO - Chain [1] done processing\n",
      "17:25:48 - cmdstanpy - INFO - Chain [1] start processing\n",
      "17:25:48 - cmdstanpy - INFO - Chain [1] done processing\n",
      "17:25:48 - cmdstanpy - INFO - Chain [1] start processing\n",
      "17:25:48 - cmdstanpy - INFO - Chain [1] done processing\n",
      "17:25:49 - cmdstanpy - INFO - Chain [1] start processing\n",
      "17:25:49 - cmdstanpy - INFO - Chain [1] done processing\n",
      "17:25:49 - cmdstanpy - INFO - Chain [1] start processing\n",
      "17:25:49 - cmdstanpy - INFO - Chain [1] done processing\n",
      "17:25:50 - cmdstanpy - INFO - Chain [1] start processing\n",
      "17:25:50 - cmdstanpy - INFO - Chain [1] done processing\n",
      "17:25:50 - cmdstanpy - INFO - Chain [1] start processing\n",
      "17:25:50 - cmdstanpy - INFO - Chain [1] done processing\n"
     ]
    },
    {
     "name": "stdout",
     "output_type": "stream",
     "text": [
      "BOL - processed\n"
     ]
    },
    {
     "name": "stderr",
     "output_type": "stream",
     "text": [
      "17:25:51 - cmdstanpy - INFO - Chain [1] start processing\n",
      "17:25:51 - cmdstanpy - INFO - Chain [1] done processing\n",
      "17:25:52 - cmdstanpy - INFO - Chain [1] start processing\n",
      "17:25:52 - cmdstanpy - INFO - Chain [1] done processing\n",
      "17:25:52 - cmdstanpy - INFO - Chain [1] start processing\n",
      "17:25:52 - cmdstanpy - INFO - Chain [1] done processing\n",
      "17:25:53 - cmdstanpy - INFO - Chain [1] start processing\n",
      "17:25:53 - cmdstanpy - INFO - Chain [1] done processing\n",
      "17:25:53 - cmdstanpy - INFO - Chain [1] start processing\n",
      "17:25:53 - cmdstanpy - INFO - Chain [1] done processing\n",
      "17:25:54 - cmdstanpy - INFO - Chain [1] start processing\n",
      "17:25:54 - cmdstanpy - INFO - Chain [1] done processing\n",
      "17:25:54 - cmdstanpy - INFO - Chain [1] start processing\n",
      "17:25:54 - cmdstanpy - INFO - Chain [1] done processing\n",
      "17:25:55 - cmdstanpy - INFO - Chain [1] start processing\n",
      "17:25:55 - cmdstanpy - INFO - Chain [1] done processing\n"
     ]
    },
    {
     "name": "stdout",
     "output_type": "stream",
     "text": [
      "BON - processed\n"
     ]
    },
    {
     "name": "stderr",
     "output_type": "stream",
     "text": [
      "17:25:56 - cmdstanpy - INFO - Chain [1] start processing\n",
      "17:25:56 - cmdstanpy - INFO - Chain [1] done processing\n",
      "17:25:56 - cmdstanpy - INFO - Chain [1] start processing\n",
      "17:25:59 - cmdstanpy - INFO - Chain [1] done processing\n",
      "17:25:59 - cmdstanpy - INFO - Chain [1] start processing\n",
      "17:25:59 - cmdstanpy - INFO - Chain [1] done processing\n",
      "17:26:00 - cmdstanpy - INFO - Chain [1] start processing\n",
      "17:26:00 - cmdstanpy - INFO - Chain [1] done processing\n",
      "17:26:00 - cmdstanpy - INFO - Chain [1] start processing\n",
      "17:26:00 - cmdstanpy - INFO - Chain [1] done processing\n",
      "17:26:01 - cmdstanpy - INFO - Chain [1] start processing\n",
      "17:26:01 - cmdstanpy - INFO - Chain [1] done processing\n",
      "17:26:01 - cmdstanpy - INFO - Chain [1] start processing\n",
      "17:26:01 - cmdstanpy - INFO - Chain [1] done processing\n",
      "17:26:02 - cmdstanpy - INFO - Chain [1] start processing\n",
      "17:26:02 - cmdstanpy - INFO - Chain [1] done processing\n"
     ]
    },
    {
     "name": "stdout",
     "output_type": "stream",
     "text": [
      "BRA - processed\n"
     ]
    },
    {
     "name": "stderr",
     "output_type": "stream",
     "text": [
      "17:26:03 - cmdstanpy - INFO - Chain [1] start processing\n",
      "17:26:03 - cmdstanpy - INFO - Chain [1] done processing\n",
      "17:26:03 - cmdstanpy - INFO - Chain [1] start processing\n",
      "17:26:03 - cmdstanpy - INFO - Chain [1] done processing\n",
      "17:26:04 - cmdstanpy - INFO - Chain [1] start processing\n",
      "17:26:04 - cmdstanpy - INFO - Chain [1] done processing\n",
      "17:26:04 - cmdstanpy - INFO - Chain [1] start processing\n",
      "17:26:05 - cmdstanpy - INFO - Chain [1] done processing\n",
      "17:26:05 - cmdstanpy - INFO - Chain [1] start processing\n",
      "17:26:05 - cmdstanpy - INFO - Chain [1] done processing\n",
      "17:26:05 - cmdstanpy - INFO - Chain [1] start processing\n",
      "17:26:05 - cmdstanpy - INFO - Chain [1] done processing\n",
      "17:26:06 - cmdstanpy - INFO - Chain [1] start processing\n",
      "17:26:06 - cmdstanpy - INFO - Chain [1] done processing\n"
     ]
    },
    {
     "name": "stdout",
     "output_type": "stream",
     "text": [
      "BRB - processed\n"
     ]
    },
    {
     "name": "stderr",
     "output_type": "stream",
     "text": [
      "17:26:07 - cmdstanpy - INFO - Chain [1] start processing\n",
      "17:26:10 - cmdstanpy - INFO - Chain [1] done processing\n",
      "17:26:10 - cmdstanpy - INFO - Chain [1] start processing\n",
      "17:26:10 - cmdstanpy - INFO - Chain [1] done processing\n",
      "17:26:11 - cmdstanpy - INFO - Chain [1] start processing\n",
      "17:26:11 - cmdstanpy - INFO - Chain [1] done processing\n",
      "17:26:11 - cmdstanpy - INFO - Chain [1] start processing\n",
      "17:26:11 - cmdstanpy - INFO - Chain [1] done processing\n",
      "17:26:12 - cmdstanpy - INFO - Chain [1] start processing\n",
      "17:26:12 - cmdstanpy - INFO - Chain [1] done processing\n",
      "17:26:13 - cmdstanpy - INFO - Chain [1] start processing\n",
      "17:26:13 - cmdstanpy - INFO - Chain [1] done processing\n",
      "17:26:13 - cmdstanpy - INFO - Chain [1] start processing\n",
      "17:26:13 - cmdstanpy - INFO - Chain [1] done processing\n"
     ]
    },
    {
     "name": "stdout",
     "output_type": "stream",
     "text": [
      "BRN - processed\n"
     ]
    },
    {
     "name": "stderr",
     "output_type": "stream",
     "text": [
      "17:26:14 - cmdstanpy - INFO - Chain [1] start processing\n",
      "17:26:14 - cmdstanpy - INFO - Chain [1] done processing\n",
      "17:26:15 - cmdstanpy - INFO - Chain [1] start processing\n",
      "17:26:15 - cmdstanpy - INFO - Chain [1] done processing\n",
      "17:26:15 - cmdstanpy - INFO - Chain [1] start processing\n",
      "17:26:15 - cmdstanpy - INFO - Chain [1] done processing\n",
      "17:26:16 - cmdstanpy - INFO - Chain [1] start processing\n",
      "17:26:16 - cmdstanpy - INFO - Chain [1] done processing\n",
      "17:26:16 - cmdstanpy - INFO - Chain [1] start processing\n",
      "17:26:16 - cmdstanpy - INFO - Chain [1] done processing\n",
      "17:26:17 - cmdstanpy - INFO - Chain [1] start processing\n",
      "17:26:17 - cmdstanpy - INFO - Chain [1] done processing\n",
      "17:26:17 - cmdstanpy - INFO - Chain [1] start processing\n",
      "17:26:18 - cmdstanpy - INFO - Chain [1] done processing\n",
      "17:26:18 - cmdstanpy - INFO - Chain [1] start processing\n",
      "17:26:18 - cmdstanpy - INFO - Chain [1] done processing\n"
     ]
    },
    {
     "name": "stdout",
     "output_type": "stream",
     "text": [
      "BTN - processed\n"
     ]
    },
    {
     "name": "stderr",
     "output_type": "stream",
     "text": [
      "17:26:19 - cmdstanpy - INFO - Chain [1] start processing\n",
      "17:26:21 - cmdstanpy - INFO - Chain [1] done processing\n",
      "17:26:21 - cmdstanpy - INFO - Chain [1] start processing\n",
      "17:26:21 - cmdstanpy - INFO - Chain [1] done processing\n",
      "17:26:22 - cmdstanpy - INFO - Chain [1] start processing\n",
      "17:26:22 - cmdstanpy - INFO - Chain [1] done processing\n",
      "17:26:22 - cmdstanpy - INFO - Chain [1] start processing\n",
      "17:26:22 - cmdstanpy - INFO - Chain [1] done processing\n",
      "17:26:23 - cmdstanpy - INFO - Chain [1] start processing\n",
      "17:26:23 - cmdstanpy - INFO - Chain [1] done processing\n",
      "17:26:24 - cmdstanpy - INFO - Chain [1] start processing\n",
      "17:26:24 - cmdstanpy - INFO - Chain [1] done processing\n",
      "17:26:24 - cmdstanpy - INFO - Chain [1] start processing\n",
      "17:26:24 - cmdstanpy - INFO - Chain [1] done processing\n"
     ]
    },
    {
     "name": "stdout",
     "output_type": "stream",
     "text": [
      "BWA - processed\n"
     ]
    },
    {
     "name": "stderr",
     "output_type": "stream",
     "text": [
      "17:26:25 - cmdstanpy - INFO - Chain [1] start processing\n",
      "17:26:28 - cmdstanpy - INFO - Chain [1] done processing\n",
      "17:26:29 - cmdstanpy - INFO - Chain [1] start processing\n",
      "17:26:29 - cmdstanpy - INFO - Chain [1] done processing\n",
      "17:26:29 - cmdstanpy - INFO - Chain [1] start processing\n",
      "17:26:29 - cmdstanpy - INFO - Chain [1] done processing\n",
      "17:26:30 - cmdstanpy - INFO - Chain [1] start processing\n",
      "17:26:30 - cmdstanpy - INFO - Chain [1] done processing\n",
      "17:26:30 - cmdstanpy - INFO - Chain [1] start processing\n",
      "17:26:30 - cmdstanpy - INFO - Chain [1] done processing\n",
      "17:26:31 - cmdstanpy - INFO - Chain [1] start processing\n",
      "17:26:31 - cmdstanpy - INFO - Chain [1] done processing\n",
      "17:26:31 - cmdstanpy - INFO - Chain [1] start processing\n",
      "17:26:32 - cmdstanpy - INFO - Chain [1] done processing\n",
      "17:26:32 - cmdstanpy - INFO - Chain [1] start processing\n"
     ]
    },
    {
     "name": "stdout",
     "output_type": "stream",
     "text": [
      "CAF - processed\n"
     ]
    },
    {
     "name": "stderr",
     "output_type": "stream",
     "text": [
      "17:26:34 - cmdstanpy - INFO - Chain [1] done processing\n",
      "17:26:34 - cmdstanpy - INFO - Chain [1] start processing\n",
      "17:26:34 - cmdstanpy - INFO - Chain [1] done processing\n",
      "17:26:35 - cmdstanpy - INFO - Chain [1] start processing\n",
      "17:26:35 - cmdstanpy - INFO - Chain [1] done processing\n",
      "17:26:35 - cmdstanpy - INFO - Chain [1] start processing\n",
      "17:26:38 - cmdstanpy - INFO - Chain [1] done processing\n",
      "17:26:39 - cmdstanpy - INFO - Chain [1] start processing\n",
      "17:26:39 - cmdstanpy - INFO - Chain [1] done processing\n",
      "17:26:39 - cmdstanpy - INFO - Chain [1] start processing\n",
      "17:26:39 - cmdstanpy - INFO - Chain [1] done processing\n",
      "17:26:40 - cmdstanpy - INFO - Chain [1] start processing\n",
      "17:26:40 - cmdstanpy - INFO - Chain [1] done processing\n",
      "17:26:41 - cmdstanpy - INFO - Chain [1] start processing\n",
      "17:26:41 - cmdstanpy - INFO - Chain [1] done processing\n",
      "17:26:41 - cmdstanpy - INFO - Chain [1] start processing\n",
      "17:26:41 - cmdstanpy - INFO - Chain [1] done processing\n",
      "17:26:42 - cmdstanpy - INFO - Chain [1] start processing\n",
      "17:26:42 - cmdstanpy - INFO - Chain [1] done processing\n",
      "17:26:42 - cmdstanpy - INFO - Chain [1] start processing\n"
     ]
    },
    {
     "name": "stdout",
     "output_type": "stream",
     "text": [
      "CAN - processed\n"
     ]
    },
    {
     "name": "stderr",
     "output_type": "stream",
     "text": [
      "17:26:47 - cmdstanpy - INFO - Chain [1] done processing\n",
      "17:26:48 - cmdstanpy - INFO - Chain [1] start processing\n",
      "17:26:48 - cmdstanpy - INFO - Chain [1] done processing\n",
      "17:26:48 - cmdstanpy - INFO - Chain [1] start processing\n",
      "17:26:49 - cmdstanpy - INFO - Chain [1] done processing\n",
      "17:26:49 - cmdstanpy - INFO - Chain [1] start processing\n",
      "17:26:51 - cmdstanpy - INFO - Chain [1] done processing\n",
      "17:26:52 - cmdstanpy - INFO - Chain [1] start processing\n",
      "17:26:52 - cmdstanpy - INFO - Chain [1] done processing\n",
      "17:26:53 - cmdstanpy - INFO - Chain [1] start processing\n",
      "17:26:53 - cmdstanpy - INFO - Chain [1] done processing\n",
      "17:26:54 - cmdstanpy - INFO - Chain [1] start processing\n",
      "17:26:54 - cmdstanpy - INFO - Chain [1] done processing\n",
      "17:26:54 - cmdstanpy - INFO - Chain [1] start processing\n",
      "17:26:54 - cmdstanpy - INFO - Chain [1] done processing\n",
      "17:26:55 - cmdstanpy - INFO - Chain [1] start processing\n",
      "17:26:55 - cmdstanpy - INFO - Chain [1] done processing\n",
      "17:26:55 - cmdstanpy - INFO - Chain [1] start processing\n",
      "17:26:55 - cmdstanpy - INFO - Chain [1] done processing\n",
      "17:26:56 - cmdstanpy - INFO - Chain [1] start processing\n",
      "17:26:56 - cmdstanpy - INFO - Chain [1] done processing\n"
     ]
    },
    {
     "name": "stdout",
     "output_type": "stream",
     "text": [
      "CHE - processed\n"
     ]
    },
    {
     "name": "stderr",
     "output_type": "stream",
     "text": [
      "17:26:56 - cmdstanpy - INFO - Chain [1] start processing\n",
      "17:26:56 - cmdstanpy - INFO - Chain [1] done processing\n",
      "17:26:57 - cmdstanpy - INFO - Chain [1] start processing\n",
      "17:26:57 - cmdstanpy - INFO - Chain [1] done processing\n",
      "17:26:58 - cmdstanpy - INFO - Chain [1] start processing\n",
      "17:27:00 - cmdstanpy - INFO - Chain [1] done processing\n",
      "17:27:00 - cmdstanpy - INFO - Chain [1] start processing\n",
      "17:27:00 - cmdstanpy - INFO - Chain [1] done processing\n",
      "17:27:01 - cmdstanpy - INFO - Chain [1] start processing\n",
      "17:27:01 - cmdstanpy - INFO - Chain [1] done processing\n",
      "17:27:01 - cmdstanpy - INFO - Chain [1] start processing\n",
      "17:27:02 - cmdstanpy - INFO - Chain [1] done processing\n",
      "17:27:02 - cmdstanpy - INFO - Chain [1] start processing\n",
      "17:27:02 - cmdstanpy - INFO - Chain [1] done processing\n",
      "17:27:02 - cmdstanpy - INFO - Chain [1] start processing\n",
      "17:27:02 - cmdstanpy - INFO - Chain [1] done processing\n",
      "17:27:03 - cmdstanpy - INFO - Chain [1] start processing\n",
      "17:27:03 - cmdstanpy - INFO - Chain [1] done processing\n",
      "17:27:03 - cmdstanpy - INFO - Chain [1] start processing\n"
     ]
    },
    {
     "name": "stdout",
     "output_type": "stream",
     "text": [
      "CHL - processed\n"
     ]
    },
    {
     "name": "stderr",
     "output_type": "stream",
     "text": [
      "17:27:05 - cmdstanpy - INFO - Chain [1] done processing\n",
      "17:27:05 - cmdstanpy - INFO - Chain [1] start processing\n",
      "17:27:05 - cmdstanpy - INFO - Chain [1] done processing\n",
      "17:27:06 - cmdstanpy - INFO - Chain [1] start processing\n",
      "17:27:09 - cmdstanpy - INFO - Chain [1] done processing\n",
      "17:27:10 - cmdstanpy - INFO - Chain [1] start processing\n",
      "17:27:10 - cmdstanpy - INFO - Chain [1] done processing\n",
      "17:27:11 - cmdstanpy - INFO - Chain [1] start processing\n",
      "17:27:11 - cmdstanpy - INFO - Chain [1] done processing\n",
      "17:27:11 - cmdstanpy - INFO - Chain [1] start processing\n",
      "17:27:11 - cmdstanpy - INFO - Chain [1] done processing\n",
      "17:27:12 - cmdstanpy - INFO - Chain [1] start processing\n",
      "17:27:12 - cmdstanpy - INFO - Chain [1] done processing\n",
      "17:27:12 - cmdstanpy - INFO - Chain [1] start processing\n",
      "17:27:12 - cmdstanpy - INFO - Chain [1] done processing\n",
      "17:27:13 - cmdstanpy - INFO - Chain [1] start processing\n",
      "17:27:13 - cmdstanpy - INFO - Chain [1] done processing\n",
      "17:27:14 - cmdstanpy - INFO - Chain [1] start processing\n"
     ]
    },
    {
     "name": "stdout",
     "output_type": "stream",
     "text": [
      "CHN - processed\n"
     ]
    },
    {
     "name": "stderr",
     "output_type": "stream",
     "text": [
      "17:27:16 - cmdstanpy - INFO - Chain [1] done processing\n",
      "17:27:17 - cmdstanpy - INFO - Chain [1] start processing\n",
      "17:27:19 - cmdstanpy - INFO - Chain [1] done processing\n",
      "17:27:19 - cmdstanpy - INFO - Chain [1] start processing\n",
      "17:27:19 - cmdstanpy - INFO - Chain [1] done processing\n",
      "17:27:20 - cmdstanpy - INFO - Chain [1] start processing\n",
      "17:27:20 - cmdstanpy - INFO - Chain [1] done processing\n",
      "17:27:20 - cmdstanpy - INFO - Chain [1] start processing\n",
      "17:27:20 - cmdstanpy - INFO - Chain [1] done processing\n",
      "17:27:21 - cmdstanpy - INFO - Chain [1] start processing\n",
      "17:27:21 - cmdstanpy - INFO - Chain [1] done processing\n",
      "17:27:21 - cmdstanpy - INFO - Chain [1] start processing\n",
      "17:27:22 - cmdstanpy - INFO - Chain [1] done processing\n",
      "17:27:22 - cmdstanpy - INFO - Chain [1] start processing\n",
      "17:27:22 - cmdstanpy - INFO - Chain [1] done processing\n",
      "17:27:23 - cmdstanpy - INFO - Chain [1] start processing\n"
     ]
    },
    {
     "name": "stdout",
     "output_type": "stream",
     "text": [
      "CIV - processed\n"
     ]
    },
    {
     "name": "stderr",
     "output_type": "stream",
     "text": [
      "17:27:25 - cmdstanpy - INFO - Chain [1] done processing\n",
      "17:27:26 - cmdstanpy - INFO - Chain [1] start processing\n",
      "17:27:29 - cmdstanpy - INFO - Chain [1] done processing\n",
      "17:27:30 - cmdstanpy - INFO - Chain [1] start processing\n",
      "17:27:30 - cmdstanpy - INFO - Chain [1] done processing\n",
      "17:27:31 - cmdstanpy - INFO - Chain [1] start processing\n",
      "17:27:31 - cmdstanpy - INFO - Chain [1] done processing\n",
      "17:27:31 - cmdstanpy - INFO - Chain [1] start processing\n",
      "17:27:31 - cmdstanpy - INFO - Chain [1] done processing\n",
      "17:27:32 - cmdstanpy - INFO - Chain [1] start processing\n",
      "17:27:32 - cmdstanpy - INFO - Chain [1] done processing\n",
      "17:27:33 - cmdstanpy - INFO - Chain [1] start processing\n",
      "17:27:33 - cmdstanpy - INFO - Chain [1] done processing\n",
      "17:27:33 - cmdstanpy - INFO - Chain [1] start processing\n",
      "17:27:33 - cmdstanpy - INFO - Chain [1] done processing\n",
      "17:27:34 - cmdstanpy - INFO - Chain [1] start processing\n"
     ]
    },
    {
     "name": "stdout",
     "output_type": "stream",
     "text": [
      "CMR - processed\n"
     ]
    },
    {
     "name": "stderr",
     "output_type": "stream",
     "text": [
      "17:27:36 - cmdstanpy - INFO - Chain [1] done processing\n",
      "17:27:36 - cmdstanpy - INFO - Chain [1] start processing\n",
      "17:27:36 - cmdstanpy - INFO - Chain [1] done processing\n",
      "17:27:37 - cmdstanpy - INFO - Chain [1] start processing\n",
      "17:27:37 - cmdstanpy - INFO - Chain [1] done processing\n",
      "17:27:38 - cmdstanpy - INFO - Chain [1] start processing\n",
      "17:27:38 - cmdstanpy - INFO - Chain [1] done processing\n",
      "17:27:38 - cmdstanpy - INFO - Chain [1] start processing\n",
      "17:27:38 - cmdstanpy - INFO - Chain [1] done processing\n",
      "17:27:39 - cmdstanpy - INFO - Chain [1] start processing\n",
      "17:27:39 - cmdstanpy - INFO - Chain [1] done processing\n",
      "17:27:39 - cmdstanpy - INFO - Chain [1] start processing\n",
      "17:27:39 - cmdstanpy - INFO - Chain [1] done processing\n",
      "17:27:40 - cmdstanpy - INFO - Chain [1] start processing\n",
      "17:27:40 - cmdstanpy - INFO - Chain [1] done processing\n",
      "17:27:40 - cmdstanpy - INFO - Chain [1] start processing\n"
     ]
    },
    {
     "name": "stdout",
     "output_type": "stream",
     "text": [
      "COD - processed\n"
     ]
    },
    {
     "name": "stderr",
     "output_type": "stream",
     "text": [
      "17:27:42 - cmdstanpy - INFO - Chain [1] done processing\n",
      "17:27:43 - cmdstanpy - INFO - Chain [1] start processing\n",
      "17:27:43 - cmdstanpy - INFO - Chain [1] done processing\n",
      "17:27:44 - cmdstanpy - INFO - Chain [1] start processing\n",
      "17:27:44 - cmdstanpy - INFO - Chain [1] done processing\n",
      "17:27:44 - cmdstanpy - INFO - Chain [1] start processing\n",
      "17:27:44 - cmdstanpy - INFO - Chain [1] done processing\n",
      "17:27:45 - cmdstanpy - INFO - Chain [1] start processing\n",
      "17:27:45 - cmdstanpy - INFO - Chain [1] done processing\n",
      "17:27:45 - cmdstanpy - INFO - Chain [1] start processing\n",
      "17:27:45 - cmdstanpy - INFO - Chain [1] done processing\n",
      "17:27:46 - cmdstanpy - INFO - Chain [1] start processing\n",
      "17:27:46 - cmdstanpy - INFO - Chain [1] done processing\n",
      "17:27:46 - cmdstanpy - INFO - Chain [1] start processing\n",
      "17:27:47 - cmdstanpy - INFO - Chain [1] done processing\n",
      "17:27:47 - cmdstanpy - INFO - Chain [1] start processing\n"
     ]
    },
    {
     "name": "stdout",
     "output_type": "stream",
     "text": [
      "COG - processed\n"
     ]
    },
    {
     "name": "stderr",
     "output_type": "stream",
     "text": [
      "17:27:50 - cmdstanpy - INFO - Chain [1] done processing\n",
      "17:27:50 - cmdstanpy - INFO - Chain [1] start processing\n",
      "17:27:50 - cmdstanpy - INFO - Chain [1] done processing\n",
      "17:27:51 - cmdstanpy - INFO - Chain [1] start processing\n",
      "17:27:51 - cmdstanpy - INFO - Chain [1] done processing\n",
      "17:27:52 - cmdstanpy - INFO - Chain [1] start processing\n",
      "17:27:56 - cmdstanpy - INFO - Chain [1] done processing\n",
      "17:27:56 - cmdstanpy - INFO - Chain [1] start processing\n",
      "17:27:56 - cmdstanpy - INFO - Chain [1] done processing\n",
      "17:27:57 - cmdstanpy - INFO - Chain [1] start processing\n",
      "17:27:57 - cmdstanpy - INFO - Chain [1] done processing\n",
      "17:27:58 - cmdstanpy - INFO - Chain [1] start processing\n",
      "17:27:58 - cmdstanpy - INFO - Chain [1] done processing\n",
      "17:27:58 - cmdstanpy - INFO - Chain [1] start processing\n",
      "17:27:58 - cmdstanpy - INFO - Chain [1] done processing\n",
      "17:27:59 - cmdstanpy - INFO - Chain [1] start processing\n",
      "17:27:59 - cmdstanpy - INFO - Chain [1] done processing\n",
      "17:27:59 - cmdstanpy - INFO - Chain [1] start processing\n",
      "17:27:59 - cmdstanpy - INFO - Chain [1] done processing\n",
      "17:28:00 - cmdstanpy - INFO - Chain [1] start processing\n"
     ]
    },
    {
     "name": "stdout",
     "output_type": "stream",
     "text": [
      "COL - processed\n"
     ]
    },
    {
     "name": "stderr",
     "output_type": "stream",
     "text": [
      "17:28:01 - cmdstanpy - INFO - Chain [1] done processing\n",
      "17:28:01 - cmdstanpy - INFO - Chain [1] start processing\n",
      "17:28:01 - cmdstanpy - INFO - Chain [1] done processing\n",
      "17:28:02 - cmdstanpy - INFO - Chain [1] start processing\n",
      "17:28:02 - cmdstanpy - INFO - Chain [1] done processing\n",
      "17:28:02 - cmdstanpy - INFO - Chain [1] start processing\n",
      "17:28:02 - cmdstanpy - INFO - Chain [1] done processing\n",
      "17:28:03 - cmdstanpy - INFO - Chain [1] start processing\n",
      "17:28:03 - cmdstanpy - INFO - Chain [1] done processing\n",
      "17:28:04 - cmdstanpy - INFO - Chain [1] start processing\n",
      "17:28:04 - cmdstanpy - INFO - Chain [1] done processing\n",
      "17:28:04 - cmdstanpy - INFO - Chain [1] start processing\n",
      "17:28:04 - cmdstanpy - INFO - Chain [1] done processing\n",
      "17:28:05 - cmdstanpy - INFO - Chain [1] start processing\n",
      "17:28:05 - cmdstanpy - INFO - Chain [1] done processing\n"
     ]
    },
    {
     "name": "stdout",
     "output_type": "stream",
     "text": [
      "COM - processed\n"
     ]
    },
    {
     "name": "stderr",
     "output_type": "stream",
     "text": [
      "17:28:05 - cmdstanpy - INFO - Chain [1] start processing\n",
      "17:28:09 - cmdstanpy - INFO - Chain [1] done processing\n",
      "17:28:10 - cmdstanpy - INFO - Chain [1] start processing\n",
      "17:28:10 - cmdstanpy - INFO - Chain [1] done processing\n",
      "17:28:10 - cmdstanpy - INFO - Chain [1] start processing\n",
      "17:28:10 - cmdstanpy - INFO - Chain [1] done processing\n",
      "17:28:11 - cmdstanpy - INFO - Chain [1] start processing\n",
      "17:28:11 - cmdstanpy - INFO - Chain [1] done processing\n",
      "17:28:11 - cmdstanpy - INFO - Chain [1] start processing\n",
      "17:28:11 - cmdstanpy - INFO - Chain [1] done processing\n",
      "17:28:12 - cmdstanpy - INFO - Chain [1] start processing\n",
      "17:28:12 - cmdstanpy - INFO - Chain [1] done processing\n",
      "17:28:12 - cmdstanpy - INFO - Chain [1] start processing\n",
      "17:28:12 - cmdstanpy - INFO - Chain [1] done processing\n",
      "17:28:13 - cmdstanpy - INFO - Chain [1] start processing\n",
      "17:28:13 - cmdstanpy - INFO - Chain [1] done processing\n"
     ]
    },
    {
     "name": "stdout",
     "output_type": "stream",
     "text": [
      "CPV - processed\n"
     ]
    },
    {
     "name": "stderr",
     "output_type": "stream",
     "text": [
      "17:28:13 - cmdstanpy - INFO - Chain [1] start processing\n",
      "17:28:13 - cmdstanpy - INFO - Chain [1] done processing\n",
      "17:28:14 - cmdstanpy - INFO - Chain [1] start processing\n",
      "17:28:14 - cmdstanpy - INFO - Chain [1] done processing\n",
      "17:28:14 - cmdstanpy - INFO - Chain [1] start processing\n",
      "17:28:18 - cmdstanpy - INFO - Chain [1] done processing\n",
      "17:28:19 - cmdstanpy - INFO - Chain [1] start processing\n",
      "17:28:19 - cmdstanpy - INFO - Chain [1] done processing\n",
      "17:28:19 - cmdstanpy - INFO - Chain [1] start processing\n",
      "17:28:19 - cmdstanpy - INFO - Chain [1] done processing\n",
      "17:28:20 - cmdstanpy - INFO - Chain [1] start processing\n",
      "17:28:20 - cmdstanpy - INFO - Chain [1] done processing\n",
      "17:28:20 - cmdstanpy - INFO - Chain [1] start processing\n",
      "17:28:20 - cmdstanpy - INFO - Chain [1] done processing\n",
      "17:28:21 - cmdstanpy - INFO - Chain [1] start processing\n",
      "17:28:21 - cmdstanpy - INFO - Chain [1] done processing\n",
      "17:28:21 - cmdstanpy - INFO - Chain [1] start processing\n",
      "17:28:21 - cmdstanpy - INFO - Chain [1] done processing\n"
     ]
    },
    {
     "name": "stdout",
     "output_type": "stream",
     "text": [
      "CRI - processed\n",
      "CUB - processed\n"
     ]
    },
    {
     "name": "stderr",
     "output_type": "stream",
     "text": [
      "17:28:23 - cmdstanpy - INFO - Chain [1] start processing\n",
      "17:28:25 - cmdstanpy - INFO - Chain [1] done processing\n",
      "17:28:25 - cmdstanpy - INFO - Chain [1] start processing\n",
      "17:28:25 - cmdstanpy - INFO - Chain [1] done processing\n",
      "17:28:26 - cmdstanpy - INFO - Chain [1] start processing\n",
      "17:28:26 - cmdstanpy - INFO - Chain [1] done processing\n",
      "17:28:26 - cmdstanpy - INFO - Chain [1] start processing\n",
      "17:28:27 - cmdstanpy - INFO - Chain [1] done processing\n",
      "17:28:27 - cmdstanpy - INFO - Chain [1] start processing\n",
      "17:28:27 - cmdstanpy - INFO - Chain [1] done processing\n",
      "17:28:28 - cmdstanpy - INFO - Chain [1] start processing\n",
      "17:28:28 - cmdstanpy - INFO - Chain [1] done processing\n",
      "17:28:28 - cmdstanpy - INFO - Chain [1] start processing\n",
      "17:28:28 - cmdstanpy - INFO - Chain [1] done processing\n"
     ]
    },
    {
     "name": "stdout",
     "output_type": "stream",
     "text": [
      "CUW - processed\n"
     ]
    },
    {
     "name": "stderr",
     "output_type": "stream",
     "text": [
      "17:28:29 - cmdstanpy - INFO - Chain [1] start processing\n",
      "17:28:32 - cmdstanpy - INFO - Chain [1] done processing\n",
      "17:28:33 - cmdstanpy - INFO - Chain [1] start processing\n",
      "17:28:33 - cmdstanpy - INFO - Chain [1] done processing\n",
      "17:28:34 - cmdstanpy - INFO - Chain [1] start processing\n",
      "17:28:34 - cmdstanpy - INFO - Chain [1] done processing\n",
      "17:28:34 - cmdstanpy - INFO - Chain [1] start processing\n",
      "17:28:34 - cmdstanpy - INFO - Chain [1] done processing\n",
      "17:28:35 - cmdstanpy - INFO - Chain [1] start processing\n",
      "17:28:35 - cmdstanpy - INFO - Chain [1] done processing\n",
      "17:28:36 - cmdstanpy - INFO - Chain [1] start processing\n",
      "17:28:36 - cmdstanpy - INFO - Chain [1] done processing\n",
      "17:28:36 - cmdstanpy - INFO - Chain [1] start processing\n",
      "17:28:36 - cmdstanpy - INFO - Chain [1] done processing\n",
      "17:28:37 - cmdstanpy - INFO - Chain [1] start processing\n"
     ]
    },
    {
     "name": "stdout",
     "output_type": "stream",
     "text": [
      "CYM - processed\n"
     ]
    },
    {
     "name": "stderr",
     "output_type": "stream",
     "text": [
      "17:28:38 - cmdstanpy - INFO - Chain [1] done processing\n",
      "17:28:39 - cmdstanpy - INFO - Chain [1] start processing\n",
      "17:28:41 - cmdstanpy - INFO - Chain [1] done processing\n",
      "17:28:42 - cmdstanpy - INFO - Chain [1] start processing\n",
      "17:28:42 - cmdstanpy - INFO - Chain [1] done processing\n",
      "17:28:43 - cmdstanpy - INFO - Chain [1] start processing\n",
      "17:28:43 - cmdstanpy - INFO - Chain [1] done processing\n",
      "17:28:43 - cmdstanpy - INFO - Chain [1] start processing\n",
      "17:28:43 - cmdstanpy - INFO - Chain [1] done processing\n",
      "17:28:44 - cmdstanpy - INFO - Chain [1] start processing\n",
      "17:28:44 - cmdstanpy - INFO - Chain [1] done processing\n",
      "17:28:44 - cmdstanpy - INFO - Chain [1] start processing\n",
      "17:28:44 - cmdstanpy - INFO - Chain [1] done processing\n",
      "17:28:45 - cmdstanpy - INFO - Chain [1] start processing\n",
      "17:28:45 - cmdstanpy - INFO - Chain [1] done processing\n",
      "17:28:45 - cmdstanpy - INFO - Chain [1] start processing\n",
      "17:28:45 - cmdstanpy - INFO - Chain [1] done processing\n"
     ]
    },
    {
     "name": "stdout",
     "output_type": "stream",
     "text": [
      "CYP - processed\n"
     ]
    },
    {
     "name": "stderr",
     "output_type": "stream",
     "text": [
      "17:28:46 - cmdstanpy - INFO - Chain [1] start processing\n",
      "17:28:46 - cmdstanpy - INFO - Chain [1] done processing\n",
      "17:28:46 - cmdstanpy - INFO - Chain [1] start processing\n",
      "17:28:46 - cmdstanpy - INFO - Chain [1] done processing\n",
      "17:28:46 - cmdstanpy - INFO - Chain [1] start processing\n",
      "17:28:50 - cmdstanpy - INFO - Chain [1] done processing\n",
      "17:28:50 - cmdstanpy - INFO - Chain [1] start processing\n",
      "17:28:50 - cmdstanpy - INFO - Chain [1] done processing\n",
      "17:28:51 - cmdstanpy - INFO - Chain [1] start processing\n",
      "17:28:51 - cmdstanpy - INFO - Chain [1] done processing\n",
      "17:28:51 - cmdstanpy - INFO - Chain [1] start processing\n",
      "17:28:51 - cmdstanpy - INFO - Chain [1] done processing\n",
      "17:28:52 - cmdstanpy - INFO - Chain [1] start processing\n",
      "17:28:52 - cmdstanpy - INFO - Chain [1] done processing\n",
      "17:28:52 - cmdstanpy - INFO - Chain [1] start processing\n",
      "17:28:52 - cmdstanpy - INFO - Chain [1] done processing\n",
      "17:28:53 - cmdstanpy - INFO - Chain [1] start processing\n",
      "17:28:53 - cmdstanpy - INFO - Chain [1] done processing\n",
      "17:28:53 - cmdstanpy - INFO - Chain [1] start processing\n",
      "17:28:53 - cmdstanpy - INFO - Chain [1] done processing\n"
     ]
    },
    {
     "name": "stdout",
     "output_type": "stream",
     "text": [
      "CZE - processed\n"
     ]
    },
    {
     "name": "stderr",
     "output_type": "stream",
     "text": [
      "17:28:54 - cmdstanpy - INFO - Chain [1] start processing\n",
      "17:28:54 - cmdstanpy - INFO - Chain [1] done processing\n",
      "17:28:54 - cmdstanpy - INFO - Chain [1] start processing\n",
      "17:28:54 - cmdstanpy - INFO - Chain [1] done processing\n",
      "17:28:55 - cmdstanpy - INFO - Chain [1] start processing\n",
      "17:28:55 - cmdstanpy - INFO - Chain [1] done processing\n",
      "17:28:55 - cmdstanpy - INFO - Chain [1] start processing\n",
      "17:28:55 - cmdstanpy - INFO - Chain [1] done processing\n",
      "17:28:56 - cmdstanpy - INFO - Chain [1] start processing\n",
      "17:28:56 - cmdstanpy - INFO - Chain [1] done processing\n",
      "17:28:56 - cmdstanpy - INFO - Chain [1] start processing\n",
      "17:28:56 - cmdstanpy - INFO - Chain [1] done processing\n",
      "17:28:57 - cmdstanpy - INFO - Chain [1] start processing\n",
      "17:28:57 - cmdstanpy - INFO - Chain [1] done processing\n",
      "17:28:57 - cmdstanpy - INFO - Chain [1] start processing\n",
      "17:28:57 - cmdstanpy - INFO - Chain [1] done processing\n",
      "17:28:58 - cmdstanpy - INFO - Chain [1] start processing\n",
      "17:28:58 - cmdstanpy - INFO - Chain [1] done processing\n"
     ]
    },
    {
     "name": "stdout",
     "output_type": "stream",
     "text": [
      "DEU - processed\n"
     ]
    },
    {
     "name": "stderr",
     "output_type": "stream",
     "text": [
      "17:28:58 - cmdstanpy - INFO - Chain [1] start processing\n",
      "17:29:03 - cmdstanpy - INFO - Chain [1] done processing\n",
      "17:29:03 - cmdstanpy - INFO - Chain [1] start processing\n",
      "17:29:03 - cmdstanpy - INFO - Chain [1] done processing\n",
      "17:29:04 - cmdstanpy - INFO - Chain [1] start processing\n",
      "17:29:04 - cmdstanpy - INFO - Chain [1] done processing\n",
      "17:29:04 - cmdstanpy - INFO - Chain [1] start processing\n",
      "17:29:04 - cmdstanpy - INFO - Chain [1] done processing\n",
      "17:29:05 - cmdstanpy - INFO - Chain [1] start processing\n",
      "17:29:05 - cmdstanpy - INFO - Chain [1] done processing\n",
      "17:29:05 - cmdstanpy - INFO - Chain [1] start processing\n",
      "17:29:05 - cmdstanpy - INFO - Chain [1] done processing\n",
      "17:29:06 - cmdstanpy - INFO - Chain [1] start processing\n",
      "17:29:06 - cmdstanpy - INFO - Chain [1] done processing\n"
     ]
    },
    {
     "name": "stdout",
     "output_type": "stream",
     "text": [
      "DJI - processed\n",
      "DMA - errored\n"
     ]
    },
    {
     "name": "stderr",
     "output_type": "stream",
     "text": [
      "17:29:07 - cmdstanpy - INFO - Chain [1] start processing\n",
      "17:29:09 - cmdstanpy - INFO - Chain [1] done processing\n",
      "17:29:09 - cmdstanpy - INFO - Chain [1] start processing\n",
      "17:29:09 - cmdstanpy - INFO - Chain [1] done processing\n",
      "17:29:10 - cmdstanpy - INFO - Chain [1] start processing\n",
      "17:29:10 - cmdstanpy - INFO - Chain [1] done processing\n",
      "17:29:11 - cmdstanpy - INFO - Chain [1] start processing\n",
      "17:29:13 - cmdstanpy - INFO - Chain [1] done processing\n",
      "17:29:14 - cmdstanpy - INFO - Chain [1] start processing\n",
      "17:29:14 - cmdstanpy - INFO - Chain [1] done processing\n",
      "17:29:14 - cmdstanpy - INFO - Chain [1] start processing\n",
      "17:29:14 - cmdstanpy - INFO - Chain [1] done processing\n",
      "17:29:15 - cmdstanpy - INFO - Chain [1] start processing\n",
      "17:29:15 - cmdstanpy - INFO - Chain [1] done processing\n",
      "17:29:15 - cmdstanpy - INFO - Chain [1] start processing\n",
      "17:29:15 - cmdstanpy - INFO - Chain [1] done processing\n",
      "17:29:16 - cmdstanpy - INFO - Chain [1] start processing\n",
      "17:29:16 - cmdstanpy - INFO - Chain [1] done processing\n",
      "17:29:16 - cmdstanpy - INFO - Chain [1] start processing\n",
      "17:29:16 - cmdstanpy - INFO - Chain [1] done processing\n",
      "17:29:17 - cmdstanpy - INFO - Chain [1] start processing\n"
     ]
    },
    {
     "name": "stdout",
     "output_type": "stream",
     "text": [
      "DNK - processed\n"
     ]
    },
    {
     "name": "stderr",
     "output_type": "stream",
     "text": [
      "17:29:17 - cmdstanpy - INFO - Chain [1] done processing\n",
      "17:29:18 - cmdstanpy - INFO - Chain [1] start processing\n",
      "17:29:22 - cmdstanpy - INFO - Chain [1] done processing\n",
      "17:29:22 - cmdstanpy - INFO - Chain [1] start processing\n",
      "17:29:22 - cmdstanpy - INFO - Chain [1] done processing\n",
      "17:29:22 - cmdstanpy - INFO - Chain [1] start processing\n",
      "17:29:23 - cmdstanpy - INFO - Chain [1] done processing\n",
      "17:29:23 - cmdstanpy - INFO - Chain [1] start processing\n",
      "17:29:23 - cmdstanpy - INFO - Chain [1] done processing\n",
      "17:29:23 - cmdstanpy - INFO - Chain [1] start processing\n",
      "17:29:24 - cmdstanpy - INFO - Chain [1] done processing\n",
      "17:29:24 - cmdstanpy - INFO - Chain [1] start processing\n",
      "17:29:24 - cmdstanpy - INFO - Chain [1] done processing\n",
      "17:29:25 - cmdstanpy - INFO - Chain [1] start processing\n",
      "17:29:25 - cmdstanpy - INFO - Chain [1] done processing\n",
      "17:29:25 - cmdstanpy - INFO - Chain [1] start processing\n",
      "17:29:25 - cmdstanpy - INFO - Chain [1] done processing\n"
     ]
    },
    {
     "name": "stdout",
     "output_type": "stream",
     "text": [
      "DOM - processed\n"
     ]
    },
    {
     "name": "stderr",
     "output_type": "stream",
     "text": [
      "17:29:26 - cmdstanpy - INFO - Chain [1] start processing\n",
      "17:29:26 - cmdstanpy - INFO - Chain [1] done processing\n",
      "17:29:26 - cmdstanpy - INFO - Chain [1] start processing\n",
      "17:29:26 - cmdstanpy - INFO - Chain [1] done processing\n",
      "17:29:27 - cmdstanpy - INFO - Chain [1] start processing\n",
      "17:29:27 - cmdstanpy - INFO - Chain [1] done processing\n",
      "17:29:27 - cmdstanpy - INFO - Chain [1] start processing\n",
      "17:29:27 - cmdstanpy - INFO - Chain [1] done processing\n",
      "17:29:28 - cmdstanpy - INFO - Chain [1] start processing\n",
      "17:29:28 - cmdstanpy - INFO - Chain [1] done processing\n",
      "17:29:28 - cmdstanpy - INFO - Chain [1] start processing\n",
      "17:29:28 - cmdstanpy - INFO - Chain [1] done processing\n",
      "17:29:29 - cmdstanpy - INFO - Chain [1] start processing\n",
      "17:29:29 - cmdstanpy - INFO - Chain [1] done processing\n",
      "17:29:29 - cmdstanpy - INFO - Chain [1] start processing\n"
     ]
    },
    {
     "name": "stdout",
     "output_type": "stream",
     "text": [
      "DZA - processed\n"
     ]
    },
    {
     "name": "stderr",
     "output_type": "stream",
     "text": [
      "17:29:29 - cmdstanpy - INFO - Chain [1] done processing\n",
      "17:29:30 - cmdstanpy - INFO - Chain [1] start processing\n",
      "17:29:30 - cmdstanpy - INFO - Chain [1] done processing\n"
     ]
    },
    {
     "name": "stdout",
     "output_type": "stream",
     "text": [
      "EA19 - processed\n"
     ]
    },
    {
     "name": "stderr",
     "output_type": "stream",
     "text": [
      "17:29:31 - cmdstanpy - INFO - Chain [1] start processing\n",
      "17:29:35 - cmdstanpy - INFO - Chain [1] done processing\n",
      "17:29:35 - cmdstanpy - INFO - Chain [1] start processing\n",
      "17:29:35 - cmdstanpy - INFO - Chain [1] done processing\n",
      "17:29:36 - cmdstanpy - INFO - Chain [1] start processing\n",
      "17:29:36 - cmdstanpy - INFO - Chain [1] done processing\n",
      "17:29:36 - cmdstanpy - INFO - Chain [1] start processing\n",
      "17:29:36 - cmdstanpy - INFO - Chain [1] done processing\n",
      "17:29:37 - cmdstanpy - INFO - Chain [1] start processing\n",
      "17:29:37 - cmdstanpy - INFO - Chain [1] done processing\n",
      "17:29:37 - cmdstanpy - INFO - Chain [1] start processing\n",
      "17:29:37 - cmdstanpy - INFO - Chain [1] done processing\n",
      "17:29:38 - cmdstanpy - INFO - Chain [1] start processing\n",
      "17:29:38 - cmdstanpy - INFO - Chain [1] done processing\n"
     ]
    },
    {
     "name": "stdout",
     "output_type": "stream",
     "text": [
      "EAS - processed\n"
     ]
    },
    {
     "name": "stderr",
     "output_type": "stream",
     "text": [
      "17:29:38 - cmdstanpy - INFO - Chain [1] start processing\n",
      "17:29:40 - cmdstanpy - INFO - Chain [1] done processing\n",
      "17:29:41 - cmdstanpy - INFO - Chain [1] start processing\n",
      "17:29:41 - cmdstanpy - INFO - Chain [1] done processing\n",
      "17:29:41 - cmdstanpy - INFO - Chain [1] start processing\n",
      "17:29:42 - cmdstanpy - INFO - Chain [1] done processing\n",
      "17:29:42 - cmdstanpy - INFO - Chain [1] start processing\n",
      "17:29:42 - cmdstanpy - INFO - Chain [1] done processing\n",
      "17:29:43 - cmdstanpy - INFO - Chain [1] start processing\n",
      "17:29:43 - cmdstanpy - INFO - Chain [1] done processing\n",
      "17:29:43 - cmdstanpy - INFO - Chain [1] start processing\n",
      "17:29:43 - cmdstanpy - INFO - Chain [1] done processing\n",
      "17:29:44 - cmdstanpy - INFO - Chain [1] start processing\n",
      "17:29:44 - cmdstanpy - INFO - Chain [1] done processing\n"
     ]
    },
    {
     "name": "stdout",
     "output_type": "stream",
     "text": [
      "ECS - processed\n"
     ]
    },
    {
     "name": "stderr",
     "output_type": "stream",
     "text": [
      "17:29:45 - cmdstanpy - INFO - Chain [1] start processing\n",
      "17:29:45 - cmdstanpy - INFO - Chain [1] done processing\n",
      "17:29:45 - cmdstanpy - INFO - Chain [1] start processing\n",
      "17:29:45 - cmdstanpy - INFO - Chain [1] done processing\n",
      "17:29:45 - cmdstanpy - INFO - Chain [1] start processing\n",
      "17:29:46 - cmdstanpy - INFO - Chain [1] done processing\n",
      "17:29:46 - cmdstanpy - INFO - Chain [1] start processing\n",
      "17:29:46 - cmdstanpy - INFO - Chain [1] done processing\n",
      "17:29:47 - cmdstanpy - INFO - Chain [1] start processing\n",
      "17:29:47 - cmdstanpy - INFO - Chain [1] done processing\n",
      "17:29:47 - cmdstanpy - INFO - Chain [1] start processing\n",
      "17:29:47 - cmdstanpy - INFO - Chain [1] done processing\n",
      "17:29:48 - cmdstanpy - INFO - Chain [1] start processing\n",
      "17:29:48 - cmdstanpy - INFO - Chain [1] done processing\n",
      "17:29:48 - cmdstanpy - INFO - Chain [1] start processing\n"
     ]
    },
    {
     "name": "stdout",
     "output_type": "stream",
     "text": [
      "ECU - processed\n"
     ]
    },
    {
     "name": "stderr",
     "output_type": "stream",
     "text": [
      "17:29:50 - cmdstanpy - INFO - Chain [1] done processing\n",
      "17:29:50 - cmdstanpy - INFO - Chain [1] start processing\n",
      "17:29:53 - cmdstanpy - INFO - Chain [1] done processing\n",
      "17:29:54 - cmdstanpy - INFO - Chain [1] start processing\n",
      "17:29:54 - cmdstanpy - INFO - Chain [1] done processing\n",
      "17:29:54 - cmdstanpy - INFO - Chain [1] start processing\n",
      "17:29:54 - cmdstanpy - INFO - Chain [1] done processing\n",
      "17:29:55 - cmdstanpy - INFO - Chain [1] start processing\n",
      "17:29:55 - cmdstanpy - INFO - Chain [1] done processing\n",
      "17:29:55 - cmdstanpy - INFO - Chain [1] start processing\n",
      "17:29:55 - cmdstanpy - INFO - Chain [1] done processing\n",
      "17:29:56 - cmdstanpy - INFO - Chain [1] start processing\n",
      "17:29:56 - cmdstanpy - INFO - Chain [1] done processing\n",
      "17:29:56 - cmdstanpy - INFO - Chain [1] start processing\n",
      "17:29:56 - cmdstanpy - INFO - Chain [1] done processing\n"
     ]
    },
    {
     "name": "stdout",
     "output_type": "stream",
     "text": [
      "EGY - processed\n"
     ]
    },
    {
     "name": "stderr",
     "output_type": "stream",
     "text": [
      "17:29:58 - cmdstanpy - INFO - Chain [1] start processing\n"
     ]
    },
    {
     "name": "stdout",
     "output_type": "stream",
     "text": [
      "ERI - processed\n"
     ]
    },
    {
     "name": "stderr",
     "output_type": "stream",
     "text": [
      "17:29:59 - cmdstanpy - INFO - Chain [1] done processing\n",
      "17:30:00 - cmdstanpy - INFO - Chain [1] start processing\n",
      "17:30:00 - cmdstanpy - INFO - Chain [1] done processing\n",
      "17:30:00 - cmdstanpy - INFO - Chain [1] start processing\n",
      "17:30:00 - cmdstanpy - INFO - Chain [1] done processing\n",
      "17:30:01 - cmdstanpy - INFO - Chain [1] start processing\n",
      "17:30:03 - cmdstanpy - INFO - Chain [1] done processing\n",
      "17:30:04 - cmdstanpy - INFO - Chain [1] start processing\n",
      "17:30:04 - cmdstanpy - INFO - Chain [1] done processing\n",
      "17:30:04 - cmdstanpy - INFO - Chain [1] start processing\n",
      "17:30:04 - cmdstanpy - INFO - Chain [1] done processing\n",
      "17:30:05 - cmdstanpy - INFO - Chain [1] start processing\n",
      "17:30:05 - cmdstanpy - INFO - Chain [1] done processing\n",
      "17:30:05 - cmdstanpy - INFO - Chain [1] start processing\n",
      "17:30:05 - cmdstanpy - INFO - Chain [1] done processing\n",
      "17:30:06 - cmdstanpy - INFO - Chain [1] start processing\n",
      "17:30:06 - cmdstanpy - INFO - Chain [1] done processing\n",
      "17:30:06 - cmdstanpy - INFO - Chain [1] start processing\n",
      "17:30:06 - cmdstanpy - INFO - Chain [1] done processing\n",
      "17:30:07 - cmdstanpy - INFO - Chain [1] start processing\n"
     ]
    },
    {
     "name": "stdout",
     "output_type": "stream",
     "text": [
      "ESP - processed\n"
     ]
    },
    {
     "name": "stderr",
     "output_type": "stream",
     "text": [
      "17:30:07 - cmdstanpy - INFO - Chain [1] done processing\n",
      "17:30:07 - cmdstanpy - INFO - Chain [1] start processing\n",
      "17:30:07 - cmdstanpy - INFO - Chain [1] done processing\n",
      "17:30:08 - cmdstanpy - INFO - Chain [1] start processing\n",
      "17:30:08 - cmdstanpy - INFO - Chain [1] done processing\n",
      "17:30:08 - cmdstanpy - INFO - Chain [1] start processing\n",
      "17:30:10 - cmdstanpy - INFO - Chain [1] done processing\n",
      "17:30:11 - cmdstanpy - INFO - Chain [1] start processing\n",
      "17:30:11 - cmdstanpy - INFO - Chain [1] done processing\n",
      "17:30:11 - cmdstanpy - INFO - Chain [1] start processing\n",
      "17:30:11 - cmdstanpy - INFO - Chain [1] done processing\n",
      "17:30:12 - cmdstanpy - INFO - Chain [1] start processing\n",
      "17:30:12 - cmdstanpy - INFO - Chain [1] done processing\n",
      "17:30:12 - cmdstanpy - INFO - Chain [1] start processing\n",
      "17:30:12 - cmdstanpy - INFO - Chain [1] done processing\n",
      "17:30:13 - cmdstanpy - INFO - Chain [1] start processing\n",
      "17:30:13 - cmdstanpy - INFO - Chain [1] done processing\n",
      "17:30:13 - cmdstanpy - INFO - Chain [1] start processing\n",
      "17:30:13 - cmdstanpy - INFO - Chain [1] done processing\n",
      "17:30:14 - cmdstanpy - INFO - Chain [1] start processing\n"
     ]
    },
    {
     "name": "stdout",
     "output_type": "stream",
     "text": [
      "EST - processed\n"
     ]
    },
    {
     "name": "stderr",
     "output_type": "stream",
     "text": [
      "17:30:16 - cmdstanpy - INFO - Chain [1] done processing\n",
      "17:30:16 - cmdstanpy - INFO - Chain [1] start processing\n",
      "17:30:18 - cmdstanpy - INFO - Chain [1] done processing\n",
      "17:30:19 - cmdstanpy - INFO - Chain [1] start processing\n",
      "17:30:19 - cmdstanpy - INFO - Chain [1] done processing\n",
      "17:30:19 - cmdstanpy - INFO - Chain [1] start processing\n",
      "17:30:19 - cmdstanpy - INFO - Chain [1] done processing\n",
      "17:30:20 - cmdstanpy - INFO - Chain [1] start processing\n",
      "17:30:20 - cmdstanpy - INFO - Chain [1] done processing\n",
      "17:30:21 - cmdstanpy - INFO - Chain [1] start processing\n",
      "17:30:21 - cmdstanpy - INFO - Chain [1] done processing\n",
      "17:30:21 - cmdstanpy - INFO - Chain [1] start processing\n",
      "17:30:21 - cmdstanpy - INFO - Chain [1] done processing\n"
     ]
    },
    {
     "name": "stdout",
     "output_type": "stream",
     "text": [
      "ETH - processed\n"
     ]
    },
    {
     "name": "stderr",
     "output_type": "stream",
     "text": [
      "17:30:22 - cmdstanpy - INFO - Chain [1] start processing\n",
      "17:30:22 - cmdstanpy - INFO - Chain [1] done processing\n",
      "17:30:22 - cmdstanpy - INFO - Chain [1] start processing\n",
      "17:30:22 - cmdstanpy - INFO - Chain [1] done processing\n",
      "17:30:23 - cmdstanpy - INFO - Chain [1] start processing\n"
     ]
    },
    {
     "name": "stdout",
     "output_type": "stream",
     "text": [
      "EU27_2020 - processed\n"
     ]
    },
    {
     "name": "stderr",
     "output_type": "stream",
     "text": [
      "17:30:26 - cmdstanpy - INFO - Chain [1] done processing\n",
      "17:30:26 - cmdstanpy - INFO - Chain [1] start processing\n",
      "17:30:26 - cmdstanpy - INFO - Chain [1] done processing\n",
      "17:30:27 - cmdstanpy - INFO - Chain [1] start processing\n",
      "17:30:27 - cmdstanpy - INFO - Chain [1] done processing\n",
      "17:30:27 - cmdstanpy - INFO - Chain [1] start processing\n",
      "17:30:29 - cmdstanpy - INFO - Chain [1] done processing\n",
      "17:30:30 - cmdstanpy - INFO - Chain [1] start processing\n",
      "17:30:30 - cmdstanpy - INFO - Chain [1] done processing\n",
      "17:30:30 - cmdstanpy - INFO - Chain [1] start processing\n",
      "17:30:30 - cmdstanpy - INFO - Chain [1] done processing\n",
      "17:30:31 - cmdstanpy - INFO - Chain [1] start processing\n",
      "17:30:31 - cmdstanpy - INFO - Chain [1] done processing\n",
      "17:30:31 - cmdstanpy - INFO - Chain [1] start processing\n",
      "17:30:32 - cmdstanpy - INFO - Chain [1] done processing\n",
      "17:30:32 - cmdstanpy - INFO - Chain [1] start processing\n",
      "17:30:32 - cmdstanpy - INFO - Chain [1] done processing\n",
      "17:30:33 - cmdstanpy - INFO - Chain [1] start processing\n",
      "17:30:33 - cmdstanpy - INFO - Chain [1] done processing\n"
     ]
    },
    {
     "name": "stdout",
     "output_type": "stream",
     "text": [
      "FIN - processed\n"
     ]
    },
    {
     "name": "stderr",
     "output_type": "stream",
     "text": [
      "17:30:34 - cmdstanpy - INFO - Chain [1] start processing\n",
      "17:30:35 - cmdstanpy - INFO - Chain [1] done processing\n",
      "17:30:36 - cmdstanpy - INFO - Chain [1] start processing\n",
      "17:30:36 - cmdstanpy - INFO - Chain [1] done processing\n",
      "17:30:37 - cmdstanpy - INFO - Chain [1] start processing\n",
      "17:30:37 - cmdstanpy - INFO - Chain [1] done processing\n",
      "17:30:37 - cmdstanpy - INFO - Chain [1] start processing\n",
      "17:30:37 - cmdstanpy - INFO - Chain [1] done processing\n",
      "17:30:38 - cmdstanpy - INFO - Chain [1] start processing\n",
      "17:30:38 - cmdstanpy - INFO - Chain [1] done processing\n",
      "17:30:38 - cmdstanpy - INFO - Chain [1] start processing\n",
      "17:30:38 - cmdstanpy - INFO - Chain [1] done processing\n",
      "17:30:39 - cmdstanpy - INFO - Chain [1] start processing\n",
      "17:30:39 - cmdstanpy - INFO - Chain [1] done processing\n",
      "17:30:39 - cmdstanpy - INFO - Chain [1] start processing\n",
      "17:30:39 - cmdstanpy - INFO - Chain [1] done processing\n"
     ]
    },
    {
     "name": "stdout",
     "output_type": "stream",
     "text": [
      "FJI - processed\n"
     ]
    },
    {
     "name": "stderr",
     "output_type": "stream",
     "text": [
      "17:30:40 - cmdstanpy - INFO - Chain [1] start processing\n",
      "17:30:40 - cmdstanpy - INFO - Chain [1] done processing\n",
      "17:30:40 - cmdstanpy - INFO - Chain [1] start processing\n",
      "17:30:40 - cmdstanpy - INFO - Chain [1] done processing\n",
      "17:30:41 - cmdstanpy - INFO - Chain [1] start processing\n",
      "17:30:43 - cmdstanpy - INFO - Chain [1] done processing\n",
      "17:30:43 - cmdstanpy - INFO - Chain [1] start processing\n",
      "17:30:43 - cmdstanpy - INFO - Chain [1] done processing\n",
      "17:30:44 - cmdstanpy - INFO - Chain [1] start processing\n",
      "17:30:44 - cmdstanpy - INFO - Chain [1] done processing\n",
      "17:30:44 - cmdstanpy - INFO - Chain [1] start processing\n",
      "17:30:44 - cmdstanpy - INFO - Chain [1] done processing\n",
      "17:30:45 - cmdstanpy - INFO - Chain [1] start processing\n",
      "17:30:45 - cmdstanpy - INFO - Chain [1] done processing\n",
      "17:30:45 - cmdstanpy - INFO - Chain [1] start processing\n",
      "17:30:45 - cmdstanpy - INFO - Chain [1] done processing\n",
      "17:30:46 - cmdstanpy - INFO - Chain [1] start processing\n",
      "17:30:46 - cmdstanpy - INFO - Chain [1] done processing\n"
     ]
    },
    {
     "name": "stdout",
     "output_type": "stream",
     "text": [
      "FRA - processed\n",
      "FSM - errored\n"
     ]
    },
    {
     "name": "stderr",
     "output_type": "stream",
     "text": [
      "17:30:47 - cmdstanpy - INFO - Chain [1] start processing\n",
      "17:30:47 - cmdstanpy - INFO - Chain [1] done processing\n"
     ]
    },
    {
     "name": "stdout",
     "output_type": "stream",
     "text": [
      "G-20 - processed\n"
     ]
    },
    {
     "name": "stderr",
     "output_type": "stream",
     "text": [
      "17:30:48 - cmdstanpy - INFO - Chain [1] start processing\n",
      "17:30:48 - cmdstanpy - INFO - Chain [1] done processing\n",
      "17:30:49 - cmdstanpy - INFO - Chain [1] start processing\n",
      "17:30:49 - cmdstanpy - INFO - Chain [1] done processing\n",
      "17:30:50 - cmdstanpy - INFO - Chain [1] start processing\n"
     ]
    },
    {
     "name": "stdout",
     "output_type": "stream",
     "text": [
      "G-7 - processed\n"
     ]
    },
    {
     "name": "stderr",
     "output_type": "stream",
     "text": [
      "17:30:51 - cmdstanpy - INFO - Chain [1] done processing\n",
      "17:30:52 - cmdstanpy - INFO - Chain [1] start processing\n",
      "17:30:54 - cmdstanpy - INFO - Chain [1] done processing\n",
      "17:30:55 - cmdstanpy - INFO - Chain [1] start processing\n",
      "17:30:55 - cmdstanpy - INFO - Chain [1] done processing\n",
      "17:30:56 - cmdstanpy - INFO - Chain [1] start processing\n",
      "17:30:56 - cmdstanpy - INFO - Chain [1] done processing\n",
      "17:30:56 - cmdstanpy - INFO - Chain [1] start processing\n",
      "17:30:56 - cmdstanpy - INFO - Chain [1] done processing\n",
      "17:30:57 - cmdstanpy - INFO - Chain [1] start processing\n",
      "17:30:57 - cmdstanpy - INFO - Chain [1] done processing\n",
      "17:30:57 - cmdstanpy - INFO - Chain [1] start processing\n",
      "17:30:57 - cmdstanpy - INFO - Chain [1] done processing\n",
      "17:30:58 - cmdstanpy - INFO - Chain [1] start processing\n",
      "17:30:58 - cmdstanpy - INFO - Chain [1] done processing\n",
      "17:30:58 - cmdstanpy - INFO - Chain [1] start processing\n"
     ]
    },
    {
     "name": "stdout",
     "output_type": "stream",
     "text": [
      "GAB - processed\n"
     ]
    },
    {
     "name": "stderr",
     "output_type": "stream",
     "text": [
      "17:31:00 - cmdstanpy - INFO - Chain [1] done processing\n",
      "17:31:00 - cmdstanpy - INFO - Chain [1] start processing\n",
      "17:31:00 - cmdstanpy - INFO - Chain [1] done processing\n",
      "17:31:01 - cmdstanpy - INFO - Chain [1] start processing\n",
      "17:31:01 - cmdstanpy - INFO - Chain [1] done processing\n",
      "17:31:01 - cmdstanpy - INFO - Chain [1] start processing\n",
      "17:31:01 - cmdstanpy - INFO - Chain [1] done processing\n",
      "17:31:02 - cmdstanpy - INFO - Chain [1] start processing\n",
      "17:31:02 - cmdstanpy - INFO - Chain [1] done processing\n",
      "17:31:02 - cmdstanpy - INFO - Chain [1] start processing\n",
      "17:31:03 - cmdstanpy - INFO - Chain [1] done processing\n",
      "17:31:03 - cmdstanpy - INFO - Chain [1] start processing\n",
      "17:31:03 - cmdstanpy - INFO - Chain [1] done processing\n",
      "17:31:03 - cmdstanpy - INFO - Chain [1] start processing\n",
      "17:31:03 - cmdstanpy - INFO - Chain [1] done processing\n",
      "17:31:04 - cmdstanpy - INFO - Chain [1] start processing\n",
      "17:31:04 - cmdstanpy - INFO - Chain [1] done processing\n",
      "17:31:04 - cmdstanpy - INFO - Chain [1] start processing\n",
      "17:31:05 - cmdstanpy - INFO - Chain [1] done processing\n",
      "17:31:05 - cmdstanpy - INFO - Chain [1] start processing\n"
     ]
    },
    {
     "name": "stdout",
     "output_type": "stream",
     "text": [
      "GBR - processed\n"
     ]
    },
    {
     "name": "stderr",
     "output_type": "stream",
     "text": [
      "17:31:07 - cmdstanpy - INFO - Chain [1] done processing\n",
      "17:31:08 - cmdstanpy - INFO - Chain [1] start processing\n"
     ]
    },
    {
     "name": "stdout",
     "output_type": "stream",
     "text": [
      "GEO - processed\n"
     ]
    },
    {
     "name": "stderr",
     "output_type": "stream",
     "text": [
      "17:31:08 - cmdstanpy - INFO - Chain [1] done processing\n",
      "17:31:09 - cmdstanpy - INFO - Chain [1] start processing\n",
      "17:31:09 - cmdstanpy - INFO - Chain [1] done processing\n",
      "17:31:09 - cmdstanpy - INFO - Chain [1] start processing\n",
      "17:31:10 - cmdstanpy - INFO - Chain [1] done processing\n",
      "17:31:10 - cmdstanpy - INFO - Chain [1] start processing\n",
      "17:31:10 - cmdstanpy - INFO - Chain [1] done processing\n",
      "17:31:11 - cmdstanpy - INFO - Chain [1] start processing\n",
      "17:31:11 - cmdstanpy - INFO - Chain [1] done processing\n",
      "17:31:11 - cmdstanpy - INFO - Chain [1] start processing\n",
      "17:31:11 - cmdstanpy - INFO - Chain [1] done processing\n",
      "17:31:12 - cmdstanpy - INFO - Chain [1] start processing\n",
      "17:31:12 - cmdstanpy - INFO - Chain [1] done processing\n",
      "17:31:12 - cmdstanpy - INFO - Chain [1] start processing\n",
      "17:31:12 - cmdstanpy - INFO - Chain [1] done processing\n",
      "17:31:13 - cmdstanpy - INFO - Chain [1] start processing\n"
     ]
    },
    {
     "name": "stdout",
     "output_type": "stream",
     "text": [
      "GHA - processed\n"
     ]
    },
    {
     "name": "stderr",
     "output_type": "stream",
     "text": [
      "17:31:15 - cmdstanpy - INFO - Chain [1] done processing\n",
      "17:31:15 - cmdstanpy - INFO - Chain [1] start processing\n",
      "17:31:17 - cmdstanpy - INFO - Chain [1] done processing\n",
      "17:31:18 - cmdstanpy - INFO - Chain [1] start processing\n",
      "17:31:18 - cmdstanpy - INFO - Chain [1] done processing\n",
      "17:31:18 - cmdstanpy - INFO - Chain [1] start processing\n",
      "17:31:18 - cmdstanpy - INFO - Chain [1] done processing\n",
      "17:31:19 - cmdstanpy - INFO - Chain [1] start processing\n",
      "17:31:19 - cmdstanpy - INFO - Chain [1] done processing\n",
      "17:31:19 - cmdstanpy - INFO - Chain [1] start processing\n",
      "17:31:19 - cmdstanpy - INFO - Chain [1] done processing\n",
      "17:31:20 - cmdstanpy - INFO - Chain [1] start processing\n",
      "17:31:20 - cmdstanpy - INFO - Chain [1] done processing\n",
      "17:31:20 - cmdstanpy - INFO - Chain [1] start processing\n",
      "17:31:20 - cmdstanpy - INFO - Chain [1] done processing\n",
      "17:31:21 - cmdstanpy - INFO - Chain [1] start processing\n"
     ]
    },
    {
     "name": "stdout",
     "output_type": "stream",
     "text": [
      "GIN - processed\n"
     ]
    },
    {
     "name": "stderr",
     "output_type": "stream",
     "text": [
      "17:31:21 - cmdstanpy - INFO - Chain [1] done processing\n",
      "17:31:21 - cmdstanpy - INFO - Chain [1] start processing\n",
      "17:31:24 - cmdstanpy - INFO - Chain [1] done processing\n",
      "17:31:25 - cmdstanpy - INFO - Chain [1] start processing\n",
      "17:31:25 - cmdstanpy - INFO - Chain [1] done processing\n",
      "17:31:25 - cmdstanpy - INFO - Chain [1] start processing\n",
      "17:31:25 - cmdstanpy - INFO - Chain [1] done processing\n",
      "17:31:26 - cmdstanpy - INFO - Chain [1] start processing\n",
      "17:31:26 - cmdstanpy - INFO - Chain [1] done processing\n",
      "17:31:26 - cmdstanpy - INFO - Chain [1] start processing\n",
      "17:31:26 - cmdstanpy - INFO - Chain [1] done processing\n",
      "17:31:27 - cmdstanpy - INFO - Chain [1] start processing\n",
      "17:31:27 - cmdstanpy - INFO - Chain [1] done processing\n",
      "17:31:27 - cmdstanpy - INFO - Chain [1] start processing\n",
      "17:31:27 - cmdstanpy - INFO - Chain [1] done processing\n"
     ]
    },
    {
     "name": "stdout",
     "output_type": "stream",
     "text": [
      "GMB - processed\n"
     ]
    },
    {
     "name": "stderr",
     "output_type": "stream",
     "text": [
      "17:31:28 - cmdstanpy - INFO - Chain [1] start processing\n",
      "17:31:32 - cmdstanpy - INFO - Chain [1] done processing\n",
      "17:31:32 - cmdstanpy - INFO - Chain [1] start processing\n",
      "17:31:32 - cmdstanpy - INFO - Chain [1] done processing\n",
      "17:31:32 - cmdstanpy - INFO - Chain [1] start processing\n",
      "17:31:33 - cmdstanpy - INFO - Chain [1] done processing\n",
      "17:31:33 - cmdstanpy - INFO - Chain [1] start processing\n",
      "17:31:33 - cmdstanpy - INFO - Chain [1] done processing\n",
      "17:31:34 - cmdstanpy - INFO - Chain [1] start processing\n",
      "17:31:34 - cmdstanpy - INFO - Chain [1] done processing\n",
      "17:31:34 - cmdstanpy - INFO - Chain [1] start processing\n",
      "17:31:34 - cmdstanpy - INFO - Chain [1] done processing\n",
      "17:31:34 - cmdstanpy - INFO - Chain [1] start processing\n",
      "17:31:35 - cmdstanpy - INFO - Chain [1] done processing\n"
     ]
    },
    {
     "name": "stdout",
     "output_type": "stream",
     "text": [
      "GNB - processed\n"
     ]
    },
    {
     "name": "stderr",
     "output_type": "stream",
     "text": [
      "17:31:35 - cmdstanpy - INFO - Chain [1] start processing\n",
      "17:31:38 - cmdstanpy - INFO - Chain [1] done processing\n",
      "17:31:39 - cmdstanpy - INFO - Chain [1] start processing\n",
      "17:31:39 - cmdstanpy - INFO - Chain [1] done processing\n",
      "17:31:39 - cmdstanpy - INFO - Chain [1] start processing\n",
      "17:31:39 - cmdstanpy - INFO - Chain [1] done processing\n",
      "17:31:40 - cmdstanpy - INFO - Chain [1] start processing\n",
      "17:31:40 - cmdstanpy - INFO - Chain [1] done processing\n",
      "17:31:40 - cmdstanpy - INFO - Chain [1] start processing\n",
      "17:31:40 - cmdstanpy - INFO - Chain [1] done processing\n",
      "17:31:41 - cmdstanpy - INFO - Chain [1] start processing\n",
      "17:31:41 - cmdstanpy - INFO - Chain [1] done processing\n",
      "17:31:41 - cmdstanpy - INFO - Chain [1] start processing\n",
      "17:31:41 - cmdstanpy - INFO - Chain [1] done processing\n",
      "17:31:42 - cmdstanpy - INFO - Chain [1] start processing\n"
     ]
    },
    {
     "name": "stdout",
     "output_type": "stream",
     "text": [
      "GNQ - processed\n"
     ]
    },
    {
     "name": "stderr",
     "output_type": "stream",
     "text": [
      "17:31:42 - cmdstanpy - INFO - Chain [1] done processing\n",
      "17:31:42 - cmdstanpy - INFO - Chain [1] start processing\n",
      "17:31:42 - cmdstanpy - INFO - Chain [1] done processing\n",
      "17:31:43 - cmdstanpy - INFO - Chain [1] start processing\n",
      "17:31:43 - cmdstanpy - INFO - Chain [1] done processing\n",
      "17:31:43 - cmdstanpy - INFO - Chain [1] start processing\n",
      "17:31:45 - cmdstanpy - INFO - Chain [1] done processing\n",
      "17:31:46 - cmdstanpy - INFO - Chain [1] start processing\n",
      "17:31:46 - cmdstanpy - INFO - Chain [1] done processing\n",
      "17:31:46 - cmdstanpy - INFO - Chain [1] start processing\n",
      "17:31:46 - cmdstanpy - INFO - Chain [1] done processing\n",
      "17:31:47 - cmdstanpy - INFO - Chain [1] start processing\n",
      "17:31:47 - cmdstanpy - INFO - Chain [1] done processing\n",
      "17:31:47 - cmdstanpy - INFO - Chain [1] start processing\n",
      "17:31:47 - cmdstanpy - INFO - Chain [1] done processing\n",
      "17:31:48 - cmdstanpy - INFO - Chain [1] start processing\n",
      "17:31:48 - cmdstanpy - INFO - Chain [1] done processing\n",
      "17:31:48 - cmdstanpy - INFO - Chain [1] start processing\n",
      "17:31:48 - cmdstanpy - INFO - Chain [1] done processing\n"
     ]
    },
    {
     "name": "stdout",
     "output_type": "stream",
     "text": [
      "GRC - processed\n",
      "GRD - errored\n"
     ]
    },
    {
     "name": "stderr",
     "output_type": "stream",
     "text": [
      "17:31:49 - cmdstanpy - INFO - Chain [1] start processing\n",
      "17:31:51 - cmdstanpy - INFO - Chain [1] done processing\n",
      "17:31:52 - cmdstanpy - INFO - Chain [1] start processing\n"
     ]
    },
    {
     "name": "stdout",
     "output_type": "stream",
     "text": [
      "GTM - processed\n"
     ]
    },
    {
     "name": "stderr",
     "output_type": "stream",
     "text": [
      "17:31:54 - cmdstanpy - INFO - Chain [1] done processing\n",
      "17:31:55 - cmdstanpy - INFO - Chain [1] start processing\n",
      "17:31:57 - cmdstanpy - INFO - Chain [1] done processing\n",
      "17:31:58 - cmdstanpy - INFO - Chain [1] start processing\n",
      "17:31:58 - cmdstanpy - INFO - Chain [1] done processing\n",
      "17:31:58 - cmdstanpy - INFO - Chain [1] start processing\n",
      "17:31:58 - cmdstanpy - INFO - Chain [1] done processing\n",
      "17:31:59 - cmdstanpy - INFO - Chain [1] start processing\n",
      "17:31:59 - cmdstanpy - INFO - Chain [1] done processing\n",
      "17:31:59 - cmdstanpy - INFO - Chain [1] start processing\n",
      "17:31:59 - cmdstanpy - INFO - Chain [1] done processing\n",
      "17:32:00 - cmdstanpy - INFO - Chain [1] start processing\n",
      "17:32:00 - cmdstanpy - INFO - Chain [1] done processing\n",
      "17:32:00 - cmdstanpy - INFO - Chain [1] start processing\n",
      "17:32:00 - cmdstanpy - INFO - Chain [1] done processing\n"
     ]
    },
    {
     "name": "stdout",
     "output_type": "stream",
     "text": [
      "GUY - processed\n"
     ]
    },
    {
     "name": "stderr",
     "output_type": "stream",
     "text": [
      "17:32:01 - cmdstanpy - INFO - Chain [1] start processing\n",
      "17:32:03 - cmdstanpy - INFO - Chain [1] done processing\n",
      "17:32:03 - cmdstanpy - INFO - Chain [1] start processing\n",
      "17:32:04 - cmdstanpy - INFO - Chain [1] done processing\n",
      "17:32:04 - cmdstanpy - INFO - Chain [1] start processing\n",
      "17:32:04 - cmdstanpy - INFO - Chain [1] done processing\n",
      "17:32:04 - cmdstanpy - INFO - Chain [1] start processing\n",
      "17:32:04 - cmdstanpy - INFO - Chain [1] done processing\n",
      "17:32:05 - cmdstanpy - INFO - Chain [1] start processing\n",
      "17:32:05 - cmdstanpy - INFO - Chain [1] done processing\n",
      "17:32:05 - cmdstanpy - INFO - Chain [1] start processing\n",
      "17:32:05 - cmdstanpy - INFO - Chain [1] done processing\n",
      "17:32:06 - cmdstanpy - INFO - Chain [1] start processing\n",
      "17:32:06 - cmdstanpy - INFO - Chain [1] done processing\n"
     ]
    },
    {
     "name": "stdout",
     "output_type": "stream",
     "text": [
      "HIC - processed\n"
     ]
    },
    {
     "name": "stderr",
     "output_type": "stream",
     "text": [
      "17:32:07 - cmdstanpy - INFO - Chain [1] start processing\n",
      "17:32:09 - cmdstanpy - INFO - Chain [1] done processing\n",
      "17:32:09 - cmdstanpy - INFO - Chain [1] start processing\n",
      "17:32:09 - cmdstanpy - INFO - Chain [1] done processing\n",
      "17:32:10 - cmdstanpy - INFO - Chain [1] start processing\n",
      "17:32:10 - cmdstanpy - INFO - Chain [1] done processing\n",
      "17:32:10 - cmdstanpy - INFO - Chain [1] start processing\n",
      "17:32:10 - cmdstanpy - INFO - Chain [1] done processing\n",
      "17:32:11 - cmdstanpy - INFO - Chain [1] start processing\n",
      "17:32:11 - cmdstanpy - INFO - Chain [1] done processing\n",
      "17:32:11 - cmdstanpy - INFO - Chain [1] start processing\n",
      "17:32:11 - cmdstanpy - INFO - Chain [1] done processing\n",
      "17:32:12 - cmdstanpy - INFO - Chain [1] start processing\n",
      "17:32:12 - cmdstanpy - INFO - Chain [1] done processing\n",
      "17:32:12 - cmdstanpy - INFO - Chain [1] start processing\n"
     ]
    },
    {
     "name": "stdout",
     "output_type": "stream",
     "text": [
      "HKG - processed\n"
     ]
    },
    {
     "name": "stderr",
     "output_type": "stream",
     "text": [
      "17:32:14 - cmdstanpy - INFO - Chain [1] done processing\n",
      "17:32:15 - cmdstanpy - INFO - Chain [1] start processing\n",
      "17:32:17 - cmdstanpy - INFO - Chain [1] done processing\n",
      "17:32:17 - cmdstanpy - INFO - Chain [1] start processing\n",
      "17:32:17 - cmdstanpy - INFO - Chain [1] done processing\n",
      "17:32:18 - cmdstanpy - INFO - Chain [1] start processing\n",
      "17:32:18 - cmdstanpy - INFO - Chain [1] done processing\n",
      "17:32:18 - cmdstanpy - INFO - Chain [1] start processing\n",
      "17:32:18 - cmdstanpy - INFO - Chain [1] done processing\n",
      "17:32:19 - cmdstanpy - INFO - Chain [1] start processing\n",
      "17:32:19 - cmdstanpy - INFO - Chain [1] done processing\n",
      "17:32:19 - cmdstanpy - INFO - Chain [1] start processing\n",
      "17:32:19 - cmdstanpy - INFO - Chain [1] done processing\n",
      "17:32:20 - cmdstanpy - INFO - Chain [1] start processing\n",
      "17:32:20 - cmdstanpy - INFO - Chain [1] done processing\n",
      "17:32:20 - cmdstanpy - INFO - Chain [1] start processing\n"
     ]
    },
    {
     "name": "stdout",
     "output_type": "stream",
     "text": [
      "HND - processed\n"
     ]
    },
    {
     "name": "stderr",
     "output_type": "stream",
     "text": [
      "17:32:21 - cmdstanpy - INFO - Chain [1] done processing\n",
      "17:32:21 - cmdstanpy - INFO - Chain [1] start processing\n",
      "17:32:24 - cmdstanpy - INFO - Chain [1] done processing\n",
      "17:32:25 - cmdstanpy - INFO - Chain [1] start processing\n",
      "17:32:25 - cmdstanpy - INFO - Chain [1] done processing\n",
      "17:32:25 - cmdstanpy - INFO - Chain [1] start processing\n",
      "17:32:25 - cmdstanpy - INFO - Chain [1] done processing\n",
      "17:32:26 - cmdstanpy - INFO - Chain [1] start processing\n",
      "17:32:26 - cmdstanpy - INFO - Chain [1] done processing\n",
      "17:32:27 - cmdstanpy - INFO - Chain [1] start processing\n",
      "17:32:27 - cmdstanpy - INFO - Chain [1] done processing\n",
      "17:32:27 - cmdstanpy - INFO - Chain [1] start processing\n",
      "17:32:27 - cmdstanpy - INFO - Chain [1] done processing\n",
      "17:32:28 - cmdstanpy - INFO - Chain [1] start processing\n",
      "17:32:28 - cmdstanpy - INFO - Chain [1] done processing\n",
      "17:32:28 - cmdstanpy - INFO - Chain [1] start processing\n"
     ]
    },
    {
     "name": "stdout",
     "output_type": "stream",
     "text": [
      "HRV - processed\n"
     ]
    },
    {
     "name": "stderr",
     "output_type": "stream",
     "text": [
      "17:32:30 - cmdstanpy - INFO - Chain [1] done processing\n",
      "17:32:31 - cmdstanpy - INFO - Chain [1] start processing\n",
      "17:32:33 - cmdstanpy - INFO - Chain [1] done processing\n",
      "17:32:34 - cmdstanpy - INFO - Chain [1] start processing\n",
      "17:32:34 - cmdstanpy - INFO - Chain [1] done processing\n",
      "17:32:34 - cmdstanpy - INFO - Chain [1] start processing\n",
      "17:32:34 - cmdstanpy - INFO - Chain [1] done processing\n",
      "17:32:35 - cmdstanpy - INFO - Chain [1] start processing\n",
      "17:32:35 - cmdstanpy - INFO - Chain [1] done processing\n",
      "17:32:35 - cmdstanpy - INFO - Chain [1] start processing\n",
      "17:32:35 - cmdstanpy - INFO - Chain [1] done processing\n",
      "17:32:36 - cmdstanpy - INFO - Chain [1] start processing\n",
      "17:32:36 - cmdstanpy - INFO - Chain [1] done processing\n",
      "17:32:36 - cmdstanpy - INFO - Chain [1] start processing\n",
      "17:32:36 - cmdstanpy - INFO - Chain [1] done processing\n",
      "17:32:37 - cmdstanpy - INFO - Chain [1] start processing\n"
     ]
    },
    {
     "name": "stdout",
     "output_type": "stream",
     "text": [
      "HTI - processed\n"
     ]
    },
    {
     "name": "stderr",
     "output_type": "stream",
     "text": [
      "17:32:39 - cmdstanpy - INFO - Chain [1] done processing\n",
      "17:32:39 - cmdstanpy - INFO - Chain [1] start processing\n",
      "17:32:39 - cmdstanpy - INFO - Chain [1] done processing\n",
      "17:32:40 - cmdstanpy - INFO - Chain [1] start processing\n",
      "17:32:40 - cmdstanpy - INFO - Chain [1] done processing\n",
      "17:32:40 - cmdstanpy - INFO - Chain [1] start processing\n",
      "17:32:42 - cmdstanpy - INFO - Chain [1] done processing\n",
      "17:32:43 - cmdstanpy - INFO - Chain [1] start processing\n",
      "17:32:43 - cmdstanpy - INFO - Chain [1] done processing\n",
      "17:32:43 - cmdstanpy - INFO - Chain [1] start processing\n",
      "17:32:43 - cmdstanpy - INFO - Chain [1] done processing\n",
      "17:32:44 - cmdstanpy - INFO - Chain [1] start processing\n",
      "17:32:44 - cmdstanpy - INFO - Chain [1] done processing\n",
      "17:32:44 - cmdstanpy - INFO - Chain [1] start processing\n",
      "17:32:44 - cmdstanpy - INFO - Chain [1] done processing\n",
      "17:32:45 - cmdstanpy - INFO - Chain [1] start processing\n",
      "17:32:45 - cmdstanpy - INFO - Chain [1] done processing\n",
      "17:32:45 - cmdstanpy - INFO - Chain [1] start processing\n",
      "17:32:45 - cmdstanpy - INFO - Chain [1] done processing\n",
      "17:32:46 - cmdstanpy - INFO - Chain [1] start processing\n"
     ]
    },
    {
     "name": "stdout",
     "output_type": "stream",
     "text": [
      "HUN - processed\n"
     ]
    },
    {
     "name": "stderr",
     "output_type": "stream",
     "text": [
      "17:32:48 - cmdstanpy - INFO - Chain [1] done processing\n",
      "17:32:48 - cmdstanpy - INFO - Chain [1] start processing\n",
      "17:32:48 - cmdstanpy - INFO - Chain [1] done processing\n",
      "17:32:49 - cmdstanpy - INFO - Chain [1] start processing\n",
      "17:32:51 - cmdstanpy - INFO - Chain [1] done processing\n",
      "17:32:51 - cmdstanpy - INFO - Chain [1] start processing\n",
      "17:32:51 - cmdstanpy - INFO - Chain [1] done processing\n",
      "17:32:52 - cmdstanpy - INFO - Chain [1] start processing\n",
      "17:32:52 - cmdstanpy - INFO - Chain [1] done processing\n",
      "17:32:52 - cmdstanpy - INFO - Chain [1] start processing\n",
      "17:32:52 - cmdstanpy - INFO - Chain [1] done processing\n",
      "17:32:53 - cmdstanpy - INFO - Chain [1] start processing\n",
      "17:32:53 - cmdstanpy - INFO - Chain [1] done processing\n",
      "17:32:53 - cmdstanpy - INFO - Chain [1] start processing\n",
      "17:32:53 - cmdstanpy - INFO - Chain [1] done processing\n",
      "17:32:54 - cmdstanpy - INFO - Chain [1] start processing\n",
      "17:32:54 - cmdstanpy - INFO - Chain [1] done processing\n",
      "17:32:54 - cmdstanpy - INFO - Chain [1] start processing\n"
     ]
    },
    {
     "name": "stdout",
     "output_type": "stream",
     "text": [
      "IDN - processed\n"
     ]
    },
    {
     "name": "stderr",
     "output_type": "stream",
     "text": [
      "17:32:55 - cmdstanpy - INFO - Chain [1] done processing\n",
      "17:32:56 - cmdstanpy - INFO - Chain [1] start processing\n",
      "17:32:56 - cmdstanpy - INFO - Chain [1] done processing\n",
      "17:32:56 - cmdstanpy - INFO - Chain [1] start processing\n",
      "17:32:58 - cmdstanpy - INFO - Chain [1] done processing\n",
      "17:32:59 - cmdstanpy - INFO - Chain [1] start processing\n",
      "17:32:59 - cmdstanpy - INFO - Chain [1] done processing\n",
      "17:32:59 - cmdstanpy - INFO - Chain [1] start processing\n",
      "17:32:59 - cmdstanpy - INFO - Chain [1] done processing\n",
      "17:33:00 - cmdstanpy - INFO - Chain [1] start processing\n",
      "17:33:00 - cmdstanpy - INFO - Chain [1] done processing\n",
      "17:33:00 - cmdstanpy - INFO - Chain [1] start processing\n",
      "17:33:00 - cmdstanpy - INFO - Chain [1] done processing\n",
      "17:33:01 - cmdstanpy - INFO - Chain [1] start processing\n",
      "17:33:01 - cmdstanpy - INFO - Chain [1] done processing\n",
      "17:33:01 - cmdstanpy - INFO - Chain [1] start processing\n",
      "17:33:01 - cmdstanpy - INFO - Chain [1] done processing\n",
      "17:33:02 - cmdstanpy - INFO - Chain [1] start processing\n"
     ]
    },
    {
     "name": "stdout",
     "output_type": "stream",
     "text": [
      "IND - processed\n"
     ]
    },
    {
     "name": "stderr",
     "output_type": "stream",
     "text": [
      "17:33:04 - cmdstanpy - INFO - Chain [1] done processing\n",
      "17:33:04 - cmdstanpy - INFO - Chain [1] start processing\n",
      "17:33:04 - cmdstanpy - INFO - Chain [1] done processing\n",
      "17:33:05 - cmdstanpy - INFO - Chain [1] start processing\n",
      "17:33:05 - cmdstanpy - INFO - Chain [1] done processing\n",
      "17:33:05 - cmdstanpy - INFO - Chain [1] start processing\n",
      "17:33:09 - cmdstanpy - INFO - Chain [1] done processing\n",
      "17:33:10 - cmdstanpy - INFO - Chain [1] start processing\n",
      "17:33:10 - cmdstanpy - INFO - Chain [1] done processing\n",
      "17:33:10 - cmdstanpy - INFO - Chain [1] start processing\n",
      "17:33:10 - cmdstanpy - INFO - Chain [1] done processing\n",
      "17:33:11 - cmdstanpy - INFO - Chain [1] start processing\n",
      "17:33:11 - cmdstanpy - INFO - Chain [1] done processing\n",
      "17:33:12 - cmdstanpy - INFO - Chain [1] start processing\n",
      "17:33:12 - cmdstanpy - INFO - Chain [1] done processing\n",
      "17:33:12 - cmdstanpy - INFO - Chain [1] start processing\n",
      "17:33:12 - cmdstanpy - INFO - Chain [1] done processing\n",
      "17:33:13 - cmdstanpy - INFO - Chain [1] start processing\n",
      "17:33:13 - cmdstanpy - INFO - Chain [1] done processing\n",
      "17:33:13 - cmdstanpy - INFO - Chain [1] start processing\n"
     ]
    },
    {
     "name": "stdout",
     "output_type": "stream",
     "text": [
      "IRL - processed\n"
     ]
    },
    {
     "name": "stderr",
     "output_type": "stream",
     "text": [
      "17:33:15 - cmdstanpy - INFO - Chain [1] done processing\n",
      "17:33:16 - cmdstanpy - INFO - Chain [1] start processing\n",
      "17:33:16 - cmdstanpy - INFO - Chain [1] done processing\n",
      "17:33:16 - cmdstanpy - INFO - Chain [1] start processing\n",
      "17:33:16 - cmdstanpy - INFO - Chain [1] done processing\n",
      "17:33:17 - cmdstanpy - INFO - Chain [1] start processing\n",
      "17:33:17 - cmdstanpy - INFO - Chain [1] done processing\n",
      "17:33:17 - cmdstanpy - INFO - Chain [1] start processing\n",
      "17:33:17 - cmdstanpy - INFO - Chain [1] done processing\n",
      "17:33:18 - cmdstanpy - INFO - Chain [1] start processing\n",
      "17:33:18 - cmdstanpy - INFO - Chain [1] done processing\n",
      "17:33:18 - cmdstanpy - INFO - Chain [1] start processing\n",
      "17:33:18 - cmdstanpy - INFO - Chain [1] done processing\n",
      "17:33:19 - cmdstanpy - INFO - Chain [1] start processing\n",
      "17:33:19 - cmdstanpy - INFO - Chain [1] done processing\n",
      "17:33:19 - cmdstanpy - INFO - Chain [1] start processing\n"
     ]
    },
    {
     "name": "stdout",
     "output_type": "stream",
     "text": [
      "IRN - processed\n"
     ]
    },
    {
     "name": "stderr",
     "output_type": "stream",
     "text": [
      "17:33:21 - cmdstanpy - INFO - Chain [1] done processing\n",
      "17:33:22 - cmdstanpy - INFO - Chain [1] start processing\n",
      "17:33:24 - cmdstanpy - INFO - Chain [1] done processing\n",
      "17:33:24 - cmdstanpy - INFO - Chain [1] start processing\n",
      "17:33:24 - cmdstanpy - INFO - Chain [1] done processing\n",
      "17:33:25 - cmdstanpy - INFO - Chain [1] start processing\n",
      "17:33:25 - cmdstanpy - INFO - Chain [1] done processing\n",
      "17:33:25 - cmdstanpy - INFO - Chain [1] start processing\n",
      "17:33:25 - cmdstanpy - INFO - Chain [1] done processing\n",
      "17:33:26 - cmdstanpy - INFO - Chain [1] start processing\n",
      "17:33:26 - cmdstanpy - INFO - Chain [1] done processing\n",
      "17:33:26 - cmdstanpy - INFO - Chain [1] start processing\n",
      "17:33:26 - cmdstanpy - INFO - Chain [1] done processing\n",
      "17:33:27 - cmdstanpy - INFO - Chain [1] start processing\n",
      "17:33:27 - cmdstanpy - INFO - Chain [1] done processing\n",
      "17:33:27 - cmdstanpy - INFO - Chain [1] start processing\n"
     ]
    },
    {
     "name": "stdout",
     "output_type": "stream",
     "text": [
      "IRQ - processed\n"
     ]
    },
    {
     "name": "stderr",
     "output_type": "stream",
     "text": [
      "17:33:29 - cmdstanpy - INFO - Chain [1] done processing\n",
      "17:33:30 - cmdstanpy - INFO - Chain [1] start processing\n",
      "17:33:30 - cmdstanpy - INFO - Chain [1] done processing\n",
      "17:33:30 - cmdstanpy - INFO - Chain [1] start processing\n",
      "17:33:30 - cmdstanpy - INFO - Chain [1] done processing\n",
      "17:33:31 - cmdstanpy - INFO - Chain [1] start processing\n",
      "17:33:31 - cmdstanpy - INFO - Chain [1] done processing\n",
      "17:33:31 - cmdstanpy - INFO - Chain [1] start processing\n",
      "17:33:31 - cmdstanpy - INFO - Chain [1] done processing\n",
      "17:33:32 - cmdstanpy - INFO - Chain [1] start processing\n",
      "17:33:32 - cmdstanpy - INFO - Chain [1] done processing\n",
      "17:33:32 - cmdstanpy - INFO - Chain [1] start processing\n",
      "17:33:32 - cmdstanpy - INFO - Chain [1] done processing\n",
      "17:33:33 - cmdstanpy - INFO - Chain [1] start processing\n",
      "17:33:33 - cmdstanpy - INFO - Chain [1] done processing\n",
      "17:33:33 - cmdstanpy - INFO - Chain [1] start processing\n",
      "17:33:33 - cmdstanpy - INFO - Chain [1] done processing\n",
      "17:33:34 - cmdstanpy - INFO - Chain [1] start processing\n",
      "17:33:34 - cmdstanpy - INFO - Chain [1] done processing\n",
      "17:33:34 - cmdstanpy - INFO - Chain [1] start processing\n"
     ]
    },
    {
     "name": "stdout",
     "output_type": "stream",
     "text": [
      "ISL - processed\n"
     ]
    },
    {
     "name": "stderr",
     "output_type": "stream",
     "text": [
      "17:33:36 - cmdstanpy - INFO - Chain [1] done processing\n",
      "17:33:36 - cmdstanpy - INFO - Chain [1] start processing\n",
      "17:33:36 - cmdstanpy - INFO - Chain [1] done processing\n",
      "17:33:37 - cmdstanpy - INFO - Chain [1] start processing\n",
      "17:33:37 - cmdstanpy - INFO - Chain [1] done processing\n",
      "17:33:37 - cmdstanpy - INFO - Chain [1] start processing\n",
      "17:33:38 - cmdstanpy - INFO - Chain [1] done processing\n",
      "17:33:38 - cmdstanpy - INFO - Chain [1] start processing\n",
      "17:33:38 - cmdstanpy - INFO - Chain [1] done processing\n",
      "17:33:38 - cmdstanpy - INFO - Chain [1] start processing\n",
      "17:33:39 - cmdstanpy - INFO - Chain [1] done processing\n",
      "17:33:39 - cmdstanpy - INFO - Chain [1] start processing\n",
      "17:33:39 - cmdstanpy - INFO - Chain [1] done processing\n",
      "17:33:39 - cmdstanpy - INFO - Chain [1] start processing\n",
      "17:33:39 - cmdstanpy - INFO - Chain [1] done processing\n",
      "17:33:40 - cmdstanpy - INFO - Chain [1] start processing\n",
      "17:33:40 - cmdstanpy - INFO - Chain [1] done processing\n",
      "17:33:41 - cmdstanpy - INFO - Chain [1] start processing\n",
      "17:33:41 - cmdstanpy - INFO - Chain [1] done processing\n",
      "17:33:41 - cmdstanpy - INFO - Chain [1] start processing\n",
      "17:33:41 - cmdstanpy - INFO - Chain [1] done processing\n"
     ]
    },
    {
     "name": "stdout",
     "output_type": "stream",
     "text": [
      "ISR - processed\n"
     ]
    },
    {
     "name": "stderr",
     "output_type": "stream",
     "text": [
      "17:33:42 - cmdstanpy - INFO - Chain [1] start processing\n",
      "17:33:42 - cmdstanpy - INFO - Chain [1] done processing\n",
      "17:33:42 - cmdstanpy - INFO - Chain [1] start processing\n",
      "17:33:42 - cmdstanpy - INFO - Chain [1] done processing\n",
      "17:33:43 - cmdstanpy - INFO - Chain [1] start processing\n",
      "17:33:45 - cmdstanpy - INFO - Chain [1] done processing\n",
      "17:33:45 - cmdstanpy - INFO - Chain [1] start processing\n",
      "17:33:45 - cmdstanpy - INFO - Chain [1] done processing\n",
      "17:33:46 - cmdstanpy - INFO - Chain [1] start processing\n",
      "17:33:46 - cmdstanpy - INFO - Chain [1] done processing\n",
      "17:33:46 - cmdstanpy - INFO - Chain [1] start processing\n",
      "17:33:46 - cmdstanpy - INFO - Chain [1] done processing\n",
      "17:33:47 - cmdstanpy - INFO - Chain [1] start processing\n",
      "17:33:47 - cmdstanpy - INFO - Chain [1] done processing\n",
      "17:33:47 - cmdstanpy - INFO - Chain [1] start processing\n",
      "17:33:47 - cmdstanpy - INFO - Chain [1] done processing\n",
      "17:33:48 - cmdstanpy - INFO - Chain [1] start processing\n",
      "17:33:48 - cmdstanpy - INFO - Chain [1] done processing\n",
      "17:33:48 - cmdstanpy - INFO - Chain [1] start processing\n"
     ]
    },
    {
     "name": "stdout",
     "output_type": "stream",
     "text": [
      "ITA - processed\n"
     ]
    },
    {
     "name": "stderr",
     "output_type": "stream",
     "text": [
      "17:33:50 - cmdstanpy - INFO - Chain [1] done processing\n",
      "17:33:51 - cmdstanpy - INFO - Chain [1] start processing\n",
      "17:33:54 - cmdstanpy - INFO - Chain [1] done processing\n",
      "17:33:55 - cmdstanpy - INFO - Chain [1] start processing\n",
      "17:33:55 - cmdstanpy - INFO - Chain [1] done processing\n",
      "17:33:55 - cmdstanpy - INFO - Chain [1] start processing\n",
      "17:33:55 - cmdstanpy - INFO - Chain [1] done processing\n",
      "17:33:56 - cmdstanpy - INFO - Chain [1] start processing\n",
      "17:33:56 - cmdstanpy - INFO - Chain [1] done processing\n",
      "17:33:56 - cmdstanpy - INFO - Chain [1] start processing\n",
      "17:33:56 - cmdstanpy - INFO - Chain [1] done processing\n",
      "17:33:57 - cmdstanpy - INFO - Chain [1] start processing\n",
      "17:33:57 - cmdstanpy - INFO - Chain [1] done processing\n",
      "17:33:57 - cmdstanpy - INFO - Chain [1] start processing\n",
      "17:33:58 - cmdstanpy - INFO - Chain [1] done processing\n",
      "17:33:58 - cmdstanpy - INFO - Chain [1] start processing\n",
      "17:33:58 - cmdstanpy - INFO - Chain [1] done processing\n"
     ]
    },
    {
     "name": "stdout",
     "output_type": "stream",
     "text": [
      "JAM - processed\n"
     ]
    },
    {
     "name": "stderr",
     "output_type": "stream",
     "text": [
      "17:33:59 - cmdstanpy - INFO - Chain [1] start processing\n",
      "17:34:03 - cmdstanpy - INFO - Chain [1] done processing\n",
      "17:34:04 - cmdstanpy - INFO - Chain [1] start processing\n",
      "17:34:04 - cmdstanpy - INFO - Chain [1] done processing\n",
      "17:34:04 - cmdstanpy - INFO - Chain [1] start processing\n",
      "17:34:04 - cmdstanpy - INFO - Chain [1] done processing\n",
      "17:34:05 - cmdstanpy - INFO - Chain [1] start processing\n",
      "17:34:05 - cmdstanpy - INFO - Chain [1] done processing\n",
      "17:34:05 - cmdstanpy - INFO - Chain [1] start processing\n",
      "17:34:05 - cmdstanpy - INFO - Chain [1] done processing\n",
      "17:34:06 - cmdstanpy - INFO - Chain [1] start processing\n",
      "17:34:06 - cmdstanpy - INFO - Chain [1] done processing\n",
      "17:34:06 - cmdstanpy - INFO - Chain [1] start processing\n",
      "17:34:06 - cmdstanpy - INFO - Chain [1] done processing\n",
      "17:34:07 - cmdstanpy - INFO - Chain [1] start processing\n"
     ]
    },
    {
     "name": "stdout",
     "output_type": "stream",
     "text": [
      "JOR - processed\n"
     ]
    },
    {
     "name": "stderr",
     "output_type": "stream",
     "text": [
      "17:34:09 - cmdstanpy - INFO - Chain [1] done processing\n",
      "17:34:10 - cmdstanpy - INFO - Chain [1] start processing\n",
      "17:34:10 - cmdstanpy - INFO - Chain [1] done processing\n",
      "17:34:10 - cmdstanpy - INFO - Chain [1] start processing\n",
      "17:34:10 - cmdstanpy - INFO - Chain [1] done processing\n",
      "17:34:11 - cmdstanpy - INFO - Chain [1] start processing\n",
      "17:34:11 - cmdstanpy - INFO - Chain [1] done processing\n",
      "17:34:11 - cmdstanpy - INFO - Chain [1] start processing\n",
      "17:34:11 - cmdstanpy - INFO - Chain [1] done processing\n",
      "17:34:12 - cmdstanpy - INFO - Chain [1] start processing\n",
      "17:34:12 - cmdstanpy - INFO - Chain [1] done processing\n",
      "17:34:12 - cmdstanpy - INFO - Chain [1] start processing\n",
      "17:34:12 - cmdstanpy - INFO - Chain [1] done processing\n",
      "17:34:13 - cmdstanpy - INFO - Chain [1] start processing\n",
      "17:34:13 - cmdstanpy - INFO - Chain [1] done processing\n",
      "17:34:13 - cmdstanpy - INFO - Chain [1] start processing\n",
      "17:34:13 - cmdstanpy - INFO - Chain [1] done processing\n",
      "17:34:14 - cmdstanpy - INFO - Chain [1] start processing\n",
      "17:34:14 - cmdstanpy - INFO - Chain [1] done processing\n",
      "17:34:14 - cmdstanpy - INFO - Chain [1] start processing\n"
     ]
    },
    {
     "name": "stdout",
     "output_type": "stream",
     "text": [
      "JPN - processed\n"
     ]
    },
    {
     "name": "stderr",
     "output_type": "stream",
     "text": [
      "17:34:16 - cmdstanpy - INFO - Chain [1] done processing\n",
      "17:34:17 - cmdstanpy - INFO - Chain [1] start processing\n",
      "17:34:20 - cmdstanpy - INFO - Chain [1] done processing\n",
      "17:34:20 - cmdstanpy - INFO - Chain [1] start processing\n",
      "17:34:20 - cmdstanpy - INFO - Chain [1] done processing\n",
      "17:34:21 - cmdstanpy - INFO - Chain [1] start processing\n",
      "17:34:21 - cmdstanpy - INFO - Chain [1] done processing\n",
      "17:34:21 - cmdstanpy - INFO - Chain [1] start processing\n",
      "17:34:21 - cmdstanpy - INFO - Chain [1] done processing\n",
      "17:34:22 - cmdstanpy - INFO - Chain [1] start processing\n",
      "17:34:22 - cmdstanpy - INFO - Chain [1] done processing\n",
      "17:34:22 - cmdstanpy - INFO - Chain [1] start processing\n",
      "17:34:22 - cmdstanpy - INFO - Chain [1] done processing\n",
      "17:34:23 - cmdstanpy - INFO - Chain [1] start processing\n",
      "17:34:23 - cmdstanpy - INFO - Chain [1] done processing\n",
      "17:34:23 - cmdstanpy - INFO - Chain [1] start processing\n"
     ]
    },
    {
     "name": "stdout",
     "output_type": "stream",
     "text": [
      "KAZ - processed\n"
     ]
    },
    {
     "name": "stderr",
     "output_type": "stream",
     "text": [
      "17:34:24 - cmdstanpy - INFO - Chain [1] done processing\n",
      "17:34:25 - cmdstanpy - INFO - Chain [1] start processing\n",
      "17:34:27 - cmdstanpy - INFO - Chain [1] done processing\n",
      "17:34:27 - cmdstanpy - INFO - Chain [1] start processing\n",
      "17:34:27 - cmdstanpy - INFO - Chain [1] done processing\n",
      "17:34:28 - cmdstanpy - INFO - Chain [1] start processing\n",
      "17:34:28 - cmdstanpy - INFO - Chain [1] done processing\n",
      "17:34:28 - cmdstanpy - INFO - Chain [1] start processing\n",
      "17:34:28 - cmdstanpy - INFO - Chain [1] done processing\n",
      "17:34:29 - cmdstanpy - INFO - Chain [1] start processing\n",
      "17:34:29 - cmdstanpy - INFO - Chain [1] done processing\n",
      "17:34:29 - cmdstanpy - INFO - Chain [1] start processing\n",
      "17:34:29 - cmdstanpy - INFO - Chain [1] done processing\n",
      "17:34:30 - cmdstanpy - INFO - Chain [1] start processing\n",
      "17:34:30 - cmdstanpy - INFO - Chain [1] done processing\n",
      "17:34:30 - cmdstanpy - INFO - Chain [1] start processing\n"
     ]
    },
    {
     "name": "stdout",
     "output_type": "stream",
     "text": [
      "KEN - processed\n"
     ]
    },
    {
     "name": "stderr",
     "output_type": "stream",
     "text": [
      "17:34:32 - cmdstanpy - INFO - Chain [1] done processing\n",
      "17:34:33 - cmdstanpy - INFO - Chain [1] start processing\n",
      "17:34:33 - cmdstanpy - INFO - Chain [1] done processing\n",
      "17:34:33 - cmdstanpy - INFO - Chain [1] start processing\n",
      "17:34:34 - cmdstanpy - INFO - Chain [1] done processing\n",
      "17:34:34 - cmdstanpy - INFO - Chain [1] start processing\n",
      "17:34:34 - cmdstanpy - INFO - Chain [1] done processing\n",
      "17:34:34 - cmdstanpy - INFO - Chain [1] start processing\n",
      "17:34:35 - cmdstanpy - INFO - Chain [1] done processing\n",
      "17:34:35 - cmdstanpy - INFO - Chain [1] start processing\n",
      "17:34:35 - cmdstanpy - INFO - Chain [1] done processing\n",
      "17:34:36 - cmdstanpy - INFO - Chain [1] start processing\n",
      "17:34:36 - cmdstanpy - INFO - Chain [1] done processing\n",
      "17:34:36 - cmdstanpy - INFO - Chain [1] start processing\n",
      "17:34:36 - cmdstanpy - INFO - Chain [1] done processing\n",
      "17:34:37 - cmdstanpy - INFO - Chain [1] start processing\n"
     ]
    },
    {
     "name": "stdout",
     "output_type": "stream",
     "text": [
      "KGZ - processed\n"
     ]
    },
    {
     "name": "stderr",
     "output_type": "stream",
     "text": [
      "17:34:38 - cmdstanpy - INFO - Chain [1] done processing\n",
      "17:34:39 - cmdstanpy - INFO - Chain [1] start processing\n",
      "17:34:42 - cmdstanpy - INFO - Chain [1] done processing\n",
      "17:34:43 - cmdstanpy - INFO - Chain [1] start processing\n",
      "17:34:43 - cmdstanpy - INFO - Chain [1] done processing\n",
      "17:34:43 - cmdstanpy - INFO - Chain [1] start processing\n",
      "17:34:43 - cmdstanpy - INFO - Chain [1] done processing\n",
      "17:34:44 - cmdstanpy - INFO - Chain [1] start processing\n",
      "17:34:44 - cmdstanpy - INFO - Chain [1] done processing\n",
      "17:34:44 - cmdstanpy - INFO - Chain [1] start processing\n",
      "17:34:44 - cmdstanpy - INFO - Chain [1] done processing\n",
      "17:34:45 - cmdstanpy - INFO - Chain [1] start processing\n",
      "17:34:45 - cmdstanpy - INFO - Chain [1] done processing\n",
      "17:34:45 - cmdstanpy - INFO - Chain [1] start processing\n",
      "17:34:45 - cmdstanpy - INFO - Chain [1] done processing\n",
      "17:34:46 - cmdstanpy - INFO - Chain [1] start processing\n"
     ]
    },
    {
     "name": "stdout",
     "output_type": "stream",
     "text": [
      "KHM - processed\n"
     ]
    },
    {
     "name": "stderr",
     "output_type": "stream",
     "text": [
      "17:34:48 - cmdstanpy - INFO - Chain [1] done processing\n"
     ]
    },
    {
     "name": "stdout",
     "output_type": "stream",
     "text": [
      "KIR - processed\n"
     ]
    },
    {
     "name": "stderr",
     "output_type": "stream",
     "text": [
      "17:34:49 - cmdstanpy - INFO - Chain [1] start processing\n",
      "17:34:52 - cmdstanpy - INFO - Chain [1] done processing\n",
      "17:34:52 - cmdstanpy - INFO - Chain [1] start processing\n",
      "17:34:52 - cmdstanpy - INFO - Chain [1] done processing\n",
      "17:34:53 - cmdstanpy - INFO - Chain [1] start processing\n",
      "17:34:53 - cmdstanpy - INFO - Chain [1] done processing\n",
      "17:34:53 - cmdstanpy - INFO - Chain [1] start processing\n",
      "17:34:53 - cmdstanpy - INFO - Chain [1] done processing\n",
      "17:34:54 - cmdstanpy - INFO - Chain [1] start processing\n",
      "17:34:54 - cmdstanpy - INFO - Chain [1] done processing\n",
      "17:34:54 - cmdstanpy - INFO - Chain [1] start processing\n",
      "17:34:54 - cmdstanpy - INFO - Chain [1] done processing\n",
      "17:34:55 - cmdstanpy - INFO - Chain [1] start processing\n",
      "17:34:55 - cmdstanpy - INFO - Chain [1] done processing\n",
      "17:34:55 - cmdstanpy - INFO - Chain [1] start processing\n",
      "17:34:55 - cmdstanpy - INFO - Chain [1] done processing\n"
     ]
    },
    {
     "name": "stdout",
     "output_type": "stream",
     "text": [
      "KNA - processed\n"
     ]
    },
    {
     "name": "stderr",
     "output_type": "stream",
     "text": [
      "17:34:56 - cmdstanpy - INFO - Chain [1] start processing\n",
      "17:34:56 - cmdstanpy - INFO - Chain [1] done processing\n",
      "17:34:56 - cmdstanpy - INFO - Chain [1] start processing\n",
      "17:34:56 - cmdstanpy - INFO - Chain [1] done processing\n",
      "17:34:57 - cmdstanpy - INFO - Chain [1] start processing\n",
      "17:34:57 - cmdstanpy - INFO - Chain [1] done processing\n",
      "17:34:57 - cmdstanpy - INFO - Chain [1] start processing\n",
      "17:34:57 - cmdstanpy - INFO - Chain [1] done processing\n",
      "17:34:58 - cmdstanpy - INFO - Chain [1] start processing\n",
      "17:34:58 - cmdstanpy - INFO - Chain [1] done processing\n",
      "17:34:58 - cmdstanpy - INFO - Chain [1] start processing\n",
      "17:34:58 - cmdstanpy - INFO - Chain [1] done processing\n",
      "17:34:59 - cmdstanpy - INFO - Chain [1] start processing\n",
      "17:34:59 - cmdstanpy - INFO - Chain [1] done processing\n",
      "17:34:59 - cmdstanpy - INFO - Chain [1] start processing\n",
      "17:34:59 - cmdstanpy - INFO - Chain [1] done processing\n",
      "17:35:00 - cmdstanpy - INFO - Chain [1] start processing\n",
      "17:35:00 - cmdstanpy - INFO - Chain [1] done processing\n",
      "17:35:00 - cmdstanpy - INFO - Chain [1] start processing\n"
     ]
    },
    {
     "name": "stdout",
     "output_type": "stream",
     "text": [
      "KOR - processed\n"
     ]
    },
    {
     "name": "stderr",
     "output_type": "stream",
     "text": [
      "17:35:02 - cmdstanpy - INFO - Chain [1] done processing\n",
      "17:35:03 - cmdstanpy - INFO - Chain [1] start processing\n",
      "17:35:08 - cmdstanpy - INFO - Chain [1] done processing\n",
      "17:35:08 - cmdstanpy - INFO - Chain [1] start processing\n",
      "17:35:08 - cmdstanpy - INFO - Chain [1] done processing\n",
      "17:35:08 - cmdstanpy - INFO - Chain [1] start processing\n",
      "17:35:09 - cmdstanpy - INFO - Chain [1] done processing\n",
      "17:35:09 - cmdstanpy - INFO - Chain [1] start processing\n",
      "17:35:09 - cmdstanpy - INFO - Chain [1] done processing\n",
      "17:35:09 - cmdstanpy - INFO - Chain [1] start processing\n",
      "17:35:10 - cmdstanpy - INFO - Chain [1] done processing\n",
      "17:35:10 - cmdstanpy - INFO - Chain [1] start processing\n",
      "17:35:10 - cmdstanpy - INFO - Chain [1] done processing\n",
      "17:35:11 - cmdstanpy - INFO - Chain [1] start processing\n",
      "17:35:11 - cmdstanpy - INFO - Chain [1] done processing\n",
      "17:35:11 - cmdstanpy - INFO - Chain [1] start processing\n"
     ]
    },
    {
     "name": "stdout",
     "output_type": "stream",
     "text": [
      "KWT - processed\n"
     ]
    },
    {
     "name": "stderr",
     "output_type": "stream",
     "text": [
      "17:35:12 - cmdstanpy - INFO - Chain [1] done processing\n",
      "17:35:13 - cmdstanpy - INFO - Chain [1] start processing\n",
      "17:35:15 - cmdstanpy - INFO - Chain [1] done processing\n",
      "17:35:16 - cmdstanpy - INFO - Chain [1] start processing\n",
      "17:35:16 - cmdstanpy - INFO - Chain [1] done processing\n",
      "17:35:16 - cmdstanpy - INFO - Chain [1] start processing\n",
      "17:35:16 - cmdstanpy - INFO - Chain [1] done processing\n",
      "17:35:17 - cmdstanpy - INFO - Chain [1] start processing\n",
      "17:35:17 - cmdstanpy - INFO - Chain [1] done processing\n",
      "17:35:17 - cmdstanpy - INFO - Chain [1] start processing\n",
      "17:35:17 - cmdstanpy - INFO - Chain [1] done processing\n",
      "17:35:18 - cmdstanpy - INFO - Chain [1] start processing\n",
      "17:35:18 - cmdstanpy - INFO - Chain [1] done processing\n",
      "17:35:18 - cmdstanpy - INFO - Chain [1] start processing\n",
      "17:35:18 - cmdstanpy - INFO - Chain [1] done processing\n",
      "17:35:19 - cmdstanpy - INFO - Chain [1] start processing\n"
     ]
    },
    {
     "name": "stdout",
     "output_type": "stream",
     "text": [
      "LAO - processed\n"
     ]
    },
    {
     "name": "stderr",
     "output_type": "stream",
     "text": [
      "17:35:19 - cmdstanpy - INFO - Chain [1] done processing\n",
      "17:35:20 - cmdstanpy - INFO - Chain [1] start processing\n"
     ]
    },
    {
     "name": "stdout",
     "output_type": "stream",
     "text": [
      "LBN - processed\n"
     ]
    },
    {
     "name": "stderr",
     "output_type": "stream",
     "text": [
      "17:35:21 - cmdstanpy - INFO - Chain [1] done processing\n",
      "17:35:22 - cmdstanpy - INFO - Chain [1] start processing\n",
      "17:35:22 - cmdstanpy - INFO - Chain [1] done processing\n",
      "17:35:22 - cmdstanpy - INFO - Chain [1] start processing\n",
      "17:35:22 - cmdstanpy - INFO - Chain [1] done processing\n",
      "17:35:23 - cmdstanpy - INFO - Chain [1] start processing\n",
      "17:35:23 - cmdstanpy - INFO - Chain [1] done processing\n",
      "17:35:23 - cmdstanpy - INFO - Chain [1] start processing\n",
      "17:35:24 - cmdstanpy - INFO - Chain [1] done processing\n",
      "17:35:24 - cmdstanpy - INFO - Chain [1] start processing\n",
      "17:35:24 - cmdstanpy - INFO - Chain [1] done processing\n",
      "17:35:25 - cmdstanpy - INFO - Chain [1] start processing\n",
      "17:35:25 - cmdstanpy - INFO - Chain [1] done processing\n",
      "17:35:25 - cmdstanpy - INFO - Chain [1] start processing\n",
      "17:35:25 - cmdstanpy - INFO - Chain [1] done processing\n"
     ]
    },
    {
     "name": "stdout",
     "output_type": "stream",
     "text": [
      "LBR - processed\n",
      "LBY - processed\n",
      "LCA - errored\n"
     ]
    },
    {
     "name": "stderr",
     "output_type": "stream",
     "text": [
      "17:35:27 - cmdstanpy - INFO - Chain [1] start processing\n",
      "17:35:31 - cmdstanpy - INFO - Chain [1] done processing\n",
      "17:35:31 - cmdstanpy - INFO - Chain [1] start processing\n",
      "17:35:31 - cmdstanpy - INFO - Chain [1] done processing\n",
      "17:35:32 - cmdstanpy - INFO - Chain [1] start processing\n",
      "17:35:32 - cmdstanpy - INFO - Chain [1] done processing\n",
      "17:35:32 - cmdstanpy - INFO - Chain [1] start processing\n",
      "17:35:32 - cmdstanpy - INFO - Chain [1] done processing\n",
      "17:35:33 - cmdstanpy - INFO - Chain [1] start processing\n",
      "17:35:33 - cmdstanpy - INFO - Chain [1] done processing\n",
      "17:35:33 - cmdstanpy - INFO - Chain [1] start processing\n",
      "17:35:33 - cmdstanpy - INFO - Chain [1] done processing\n",
      "17:35:34 - cmdstanpy - INFO - Chain [1] start processing\n",
      "17:35:34 - cmdstanpy - INFO - Chain [1] done processing\n"
     ]
    },
    {
     "name": "stdout",
     "output_type": "stream",
     "text": [
      "LCN - processed\n"
     ]
    },
    {
     "name": "stderr",
     "output_type": "stream",
     "text": [
      "17:35:34 - cmdstanpy - INFO - Chain [1] start processing\n",
      "17:35:38 - cmdstanpy - INFO - Chain [1] done processing\n",
      "17:35:39 - cmdstanpy - INFO - Chain [1] start processing\n",
      "17:35:39 - cmdstanpy - INFO - Chain [1] done processing\n",
      "17:35:39 - cmdstanpy - INFO - Chain [1] start processing\n",
      "17:35:39 - cmdstanpy - INFO - Chain [1] done processing\n",
      "17:35:40 - cmdstanpy - INFO - Chain [1] start processing\n",
      "17:35:40 - cmdstanpy - INFO - Chain [1] done processing\n",
      "17:35:40 - cmdstanpy - INFO - Chain [1] start processing\n",
      "17:35:41 - cmdstanpy - INFO - Chain [1] done processing\n",
      "17:35:41 - cmdstanpy - INFO - Chain [1] start processing\n",
      "17:35:41 - cmdstanpy - INFO - Chain [1] done processing\n",
      "17:35:41 - cmdstanpy - INFO - Chain [1] start processing\n",
      "17:35:42 - cmdstanpy - INFO - Chain [1] done processing\n",
      "17:35:42 - cmdstanpy - INFO - Chain [1] start processing\n"
     ]
    },
    {
     "name": "stdout",
     "output_type": "stream",
     "text": [
      "LIC - processed\n"
     ]
    },
    {
     "name": "stderr",
     "output_type": "stream",
     "text": [
      "17:35:42 - cmdstanpy - INFO - Chain [1] done processing\n",
      "17:35:43 - cmdstanpy - INFO - Chain [1] start processing\n",
      "17:35:43 - cmdstanpy - INFO - Chain [1] done processing\n",
      "17:35:43 - cmdstanpy - INFO - Chain [1] start processing\n",
      "17:35:43 - cmdstanpy - INFO - Chain [1] done processing\n",
      "17:35:44 - cmdstanpy - INFO - Chain [1] start processing\n",
      "17:35:44 - cmdstanpy - INFO - Chain [1] done processing\n",
      "17:35:44 - cmdstanpy - INFO - Chain [1] start processing\n",
      "17:35:44 - cmdstanpy - INFO - Chain [1] done processing\n",
      "17:35:45 - cmdstanpy - INFO - Chain [1] start processing\n",
      "17:35:45 - cmdstanpy - INFO - Chain [1] done processing\n",
      "17:35:45 - cmdstanpy - INFO - Chain [1] start processing\n",
      "17:35:45 - cmdstanpy - INFO - Chain [1] done processing\n",
      "17:35:46 - cmdstanpy - INFO - Chain [1] start processing\n",
      "17:35:46 - cmdstanpy - INFO - Chain [1] done processing\n"
     ]
    },
    {
     "name": "stdout",
     "output_type": "stream",
     "text": [
      "LKA - processed\n"
     ]
    },
    {
     "name": "stderr",
     "output_type": "stream",
     "text": [
      "17:35:47 - cmdstanpy - INFO - Chain [1] start processing\n",
      "17:35:47 - cmdstanpy - INFO - Chain [1] done processing\n",
      "17:35:47 - cmdstanpy - INFO - Chain [1] start processing\n",
      "17:35:47 - cmdstanpy - INFO - Chain [1] done processing\n",
      "17:35:48 - cmdstanpy - INFO - Chain [1] start processing\n",
      "17:35:48 - cmdstanpy - INFO - Chain [1] done processing\n",
      "17:35:48 - cmdstanpy - INFO - Chain [1] start processing\n",
      "17:35:48 - cmdstanpy - INFO - Chain [1] done processing\n",
      "17:35:49 - cmdstanpy - INFO - Chain [1] start processing\n",
      "17:35:49 - cmdstanpy - INFO - Chain [1] done processing\n",
      "17:35:49 - cmdstanpy - INFO - Chain [1] start processing\n",
      "17:35:49 - cmdstanpy - INFO - Chain [1] done processing\n",
      "17:35:50 - cmdstanpy - INFO - Chain [1] start processing\n",
      "17:35:50 - cmdstanpy - INFO - Chain [1] done processing\n",
      "17:35:50 - cmdstanpy - INFO - Chain [1] start processing\n",
      "17:35:50 - cmdstanpy - INFO - Chain [1] done processing\n"
     ]
    },
    {
     "name": "stdout",
     "output_type": "stream",
     "text": [
      "LMC - processed\n"
     ]
    },
    {
     "name": "stderr",
     "output_type": "stream",
     "text": [
      "17:35:51 - cmdstanpy - INFO - Chain [1] start processing\n",
      "17:35:54 - cmdstanpy - INFO - Chain [1] done processing\n",
      "17:35:54 - cmdstanpy - INFO - Chain [1] start processing\n",
      "17:35:54 - cmdstanpy - INFO - Chain [1] done processing\n",
      "17:35:55 - cmdstanpy - INFO - Chain [1] start processing\n",
      "17:35:55 - cmdstanpy - INFO - Chain [1] done processing\n",
      "17:35:56 - cmdstanpy - INFO - Chain [1] start processing\n",
      "17:35:56 - cmdstanpy - INFO - Chain [1] done processing\n",
      "17:35:56 - cmdstanpy - INFO - Chain [1] start processing\n",
      "17:35:56 - cmdstanpy - INFO - Chain [1] done processing\n",
      "17:35:57 - cmdstanpy - INFO - Chain [1] start processing\n",
      "17:35:57 - cmdstanpy - INFO - Chain [1] done processing\n",
      "17:35:57 - cmdstanpy - INFO - Chain [1] start processing\n"
     ]
    },
    {
     "name": "stdout",
     "output_type": "stream",
     "text": [
      "LSO - processed\n"
     ]
    },
    {
     "name": "stderr",
     "output_type": "stream",
     "text": [
      "17:35:59 - cmdstanpy - INFO - Chain [1] done processing\n",
      "17:35:59 - cmdstanpy - INFO - Chain [1] start processing\n",
      "17:35:59 - cmdstanpy - INFO - Chain [1] done processing\n",
      "17:36:00 - cmdstanpy - INFO - Chain [1] start processing\n",
      "17:36:00 - cmdstanpy - INFO - Chain [1] done processing\n",
      "17:36:00 - cmdstanpy - INFO - Chain [1] start processing\n",
      "17:36:03 - cmdstanpy - INFO - Chain [1] done processing\n",
      "17:36:03 - cmdstanpy - INFO - Chain [1] start processing\n",
      "17:36:04 - cmdstanpy - INFO - Chain [1] done processing\n",
      "17:36:04 - cmdstanpy - INFO - Chain [1] start processing\n",
      "17:36:04 - cmdstanpy - INFO - Chain [1] done processing\n",
      "17:36:04 - cmdstanpy - INFO - Chain [1] start processing\n",
      "17:36:05 - cmdstanpy - INFO - Chain [1] done processing\n",
      "17:36:05 - cmdstanpy - INFO - Chain [1] start processing\n",
      "17:36:05 - cmdstanpy - INFO - Chain [1] done processing\n",
      "17:36:06 - cmdstanpy - INFO - Chain [1] start processing\n",
      "17:36:06 - cmdstanpy - INFO - Chain [1] done processing\n",
      "17:36:06 - cmdstanpy - INFO - Chain [1] start processing\n",
      "17:36:06 - cmdstanpy - INFO - Chain [1] done processing\n",
      "17:36:07 - cmdstanpy - INFO - Chain [1] start processing\n"
     ]
    },
    {
     "name": "stdout",
     "output_type": "stream",
     "text": [
      "LTU - processed\n"
     ]
    },
    {
     "name": "stderr",
     "output_type": "stream",
     "text": [
      "17:36:09 - cmdstanpy - INFO - Chain [1] done processing\n",
      "17:36:09 - cmdstanpy - INFO - Chain [1] start processing\n",
      "17:36:09 - cmdstanpy - INFO - Chain [1] done processing\n",
      "17:36:10 - cmdstanpy - INFO - Chain [1] start processing\n",
      "17:36:10 - cmdstanpy - INFO - Chain [1] done processing\n",
      "17:36:10 - cmdstanpy - INFO - Chain [1] start processing\n",
      "17:36:12 - cmdstanpy - INFO - Chain [1] done processing\n",
      "17:36:13 - cmdstanpy - INFO - Chain [1] start processing\n",
      "17:36:13 - cmdstanpy - INFO - Chain [1] done processing\n",
      "17:36:13 - cmdstanpy - INFO - Chain [1] start processing\n",
      "17:36:13 - cmdstanpy - INFO - Chain [1] done processing\n",
      "17:36:14 - cmdstanpy - INFO - Chain [1] start processing\n",
      "17:36:14 - cmdstanpy - INFO - Chain [1] done processing\n",
      "17:36:14 - cmdstanpy - INFO - Chain [1] start processing\n",
      "17:36:14 - cmdstanpy - INFO - Chain [1] done processing\n",
      "17:36:15 - cmdstanpy - INFO - Chain [1] start processing\n",
      "17:36:15 - cmdstanpy - INFO - Chain [1] done processing\n",
      "17:36:15 - cmdstanpy - INFO - Chain [1] start processing\n",
      "17:36:15 - cmdstanpy - INFO - Chain [1] done processing\n",
      "17:36:16 - cmdstanpy - INFO - Chain [1] start processing\n"
     ]
    },
    {
     "name": "stdout",
     "output_type": "stream",
     "text": [
      "LUX - processed\n"
     ]
    },
    {
     "name": "stderr",
     "output_type": "stream",
     "text": [
      "17:36:16 - cmdstanpy - INFO - Chain [1] done processing\n",
      "17:36:16 - cmdstanpy - INFO - Chain [1] start processing\n",
      "17:36:16 - cmdstanpy - INFO - Chain [1] done processing\n",
      "17:36:17 - cmdstanpy - INFO - Chain [1] start processing\n",
      "17:36:17 - cmdstanpy - INFO - Chain [1] done processing\n",
      "17:36:17 - cmdstanpy - INFO - Chain [1] start processing\n",
      "17:36:21 - cmdstanpy - INFO - Chain [1] done processing\n",
      "17:36:21 - cmdstanpy - INFO - Chain [1] start processing\n",
      "17:36:21 - cmdstanpy - INFO - Chain [1] done processing\n",
      "17:36:22 - cmdstanpy - INFO - Chain [1] start processing\n",
      "17:36:22 - cmdstanpy - INFO - Chain [1] done processing\n",
      "17:36:22 - cmdstanpy - INFO - Chain [1] start processing\n",
      "17:36:22 - cmdstanpy - INFO - Chain [1] done processing\n",
      "17:36:23 - cmdstanpy - INFO - Chain [1] start processing\n",
      "17:36:23 - cmdstanpy - INFO - Chain [1] done processing\n",
      "17:36:23 - cmdstanpy - INFO - Chain [1] start processing\n",
      "17:36:23 - cmdstanpy - INFO - Chain [1] done processing\n",
      "17:36:24 - cmdstanpy - INFO - Chain [1] start processing\n",
      "17:36:24 - cmdstanpy - INFO - Chain [1] done processing\n",
      "17:36:24 - cmdstanpy - INFO - Chain [1] start processing\n"
     ]
    },
    {
     "name": "stdout",
     "output_type": "stream",
     "text": [
      "LVA - processed\n"
     ]
    },
    {
     "name": "stderr",
     "output_type": "stream",
     "text": [
      "17:36:26 - cmdstanpy - INFO - Chain [1] done processing\n",
      "17:36:27 - cmdstanpy - INFO - Chain [1] start processing\n",
      "17:36:29 - cmdstanpy - INFO - Chain [1] done processing\n",
      "17:36:29 - cmdstanpy - INFO - Chain [1] start processing\n",
      "17:36:30 - cmdstanpy - INFO - Chain [1] done processing\n",
      "17:36:30 - cmdstanpy - INFO - Chain [1] start processing\n",
      "17:36:30 - cmdstanpy - INFO - Chain [1] done processing\n",
      "17:36:31 - cmdstanpy - INFO - Chain [1] start processing\n",
      "17:36:31 - cmdstanpy - INFO - Chain [1] done processing\n",
      "17:36:31 - cmdstanpy - INFO - Chain [1] start processing\n",
      "17:36:31 - cmdstanpy - INFO - Chain [1] done processing\n",
      "17:36:32 - cmdstanpy - INFO - Chain [1] start processing\n",
      "17:36:32 - cmdstanpy - INFO - Chain [1] done processing\n",
      "17:36:32 - cmdstanpy - INFO - Chain [1] start processing\n",
      "17:36:32 - cmdstanpy - INFO - Chain [1] done processing\n",
      "17:36:33 - cmdstanpy - INFO - Chain [1] start processing\n"
     ]
    },
    {
     "name": "stdout",
     "output_type": "stream",
     "text": [
      "MAR - processed\n"
     ]
    },
    {
     "name": "stderr",
     "output_type": "stream",
     "text": [
      "17:36:35 - cmdstanpy - INFO - Chain [1] done processing\n",
      "17:36:36 - cmdstanpy - INFO - Chain [1] start processing\n",
      "17:36:40 - cmdstanpy - INFO - Chain [1] done processing\n",
      "17:36:40 - cmdstanpy - INFO - Chain [1] start processing\n",
      "17:36:40 - cmdstanpy - INFO - Chain [1] done processing\n",
      "17:36:41 - cmdstanpy - INFO - Chain [1] start processing\n",
      "17:36:41 - cmdstanpy - INFO - Chain [1] done processing\n",
      "17:36:41 - cmdstanpy - INFO - Chain [1] start processing\n",
      "17:36:41 - cmdstanpy - INFO - Chain [1] done processing\n",
      "17:36:42 - cmdstanpy - INFO - Chain [1] start processing\n",
      "17:36:42 - cmdstanpy - INFO - Chain [1] done processing\n",
      "17:36:42 - cmdstanpy - INFO - Chain [1] start processing\n",
      "17:36:42 - cmdstanpy - INFO - Chain [1] done processing\n",
      "17:36:43 - cmdstanpy - INFO - Chain [1] start processing\n",
      "17:36:43 - cmdstanpy - INFO - Chain [1] done processing\n",
      "17:36:43 - cmdstanpy - INFO - Chain [1] start processing\n",
      "17:36:43 - cmdstanpy - INFO - Chain [1] done processing\n"
     ]
    },
    {
     "name": "stdout",
     "output_type": "stream",
     "text": [
      "MDA - processed\n"
     ]
    },
    {
     "name": "stderr",
     "output_type": "stream",
     "text": [
      "17:36:44 - cmdstanpy - INFO - Chain [1] start processing\n",
      "17:36:47 - cmdstanpy - INFO - Chain [1] done processing\n",
      "17:36:47 - cmdstanpy - INFO - Chain [1] start processing\n",
      "17:36:47 - cmdstanpy - INFO - Chain [1] done processing\n",
      "17:36:48 - cmdstanpy - INFO - Chain [1] start processing\n",
      "17:36:48 - cmdstanpy - INFO - Chain [1] done processing\n",
      "17:36:48 - cmdstanpy - INFO - Chain [1] start processing\n",
      "17:36:48 - cmdstanpy - INFO - Chain [1] done processing\n",
      "17:36:49 - cmdstanpy - INFO - Chain [1] start processing\n",
      "17:36:49 - cmdstanpy - INFO - Chain [1] done processing\n",
      "17:36:49 - cmdstanpy - INFO - Chain [1] start processing\n",
      "17:36:50 - cmdstanpy - INFO - Chain [1] done processing\n",
      "17:36:50 - cmdstanpy - INFO - Chain [1] start processing\n",
      "17:36:50 - cmdstanpy - INFO - Chain [1] done processing\n"
     ]
    },
    {
     "name": "stdout",
     "output_type": "stream",
     "text": [
      "MDG - processed\n"
     ]
    },
    {
     "name": "stderr",
     "output_type": "stream",
     "text": [
      "17:36:51 - cmdstanpy - INFO - Chain [1] start processing\n",
      "17:36:53 - cmdstanpy - INFO - Chain [1] done processing\n",
      "17:36:53 - cmdstanpy - INFO - Chain [1] start processing\n",
      "17:36:54 - cmdstanpy - INFO - Chain [1] done processing\n",
      "17:36:54 - cmdstanpy - INFO - Chain [1] start processing\n",
      "17:36:54 - cmdstanpy - INFO - Chain [1] done processing\n",
      "17:36:55 - cmdstanpy - INFO - Chain [1] start processing\n",
      "17:36:55 - cmdstanpy - INFO - Chain [1] done processing\n",
      "17:36:55 - cmdstanpy - INFO - Chain [1] start processing\n",
      "17:36:55 - cmdstanpy - INFO - Chain [1] done processing\n",
      "17:36:56 - cmdstanpy - INFO - Chain [1] start processing\n",
      "17:36:56 - cmdstanpy - INFO - Chain [1] done processing\n",
      "17:36:56 - cmdstanpy - INFO - Chain [1] start processing\n",
      "17:36:56 - cmdstanpy - INFO - Chain [1] done processing\n"
     ]
    },
    {
     "name": "stdout",
     "output_type": "stream",
     "text": [
      "MDV - processed\n"
     ]
    },
    {
     "name": "stderr",
     "output_type": "stream",
     "text": [
      "17:36:57 - cmdstanpy - INFO - Chain [1] start processing\n",
      "17:37:01 - cmdstanpy - INFO - Chain [1] done processing\n",
      "17:37:02 - cmdstanpy - INFO - Chain [1] start processing\n",
      "17:37:02 - cmdstanpy - INFO - Chain [1] done processing\n",
      "17:37:02 - cmdstanpy - INFO - Chain [1] start processing\n",
      "17:37:02 - cmdstanpy - INFO - Chain [1] done processing\n",
      "17:37:03 - cmdstanpy - INFO - Chain [1] start processing\n",
      "17:37:03 - cmdstanpy - INFO - Chain [1] done processing\n",
      "17:37:03 - cmdstanpy - INFO - Chain [1] start processing\n",
      "17:37:03 - cmdstanpy - INFO - Chain [1] done processing\n",
      "17:37:04 - cmdstanpy - INFO - Chain [1] start processing\n",
      "17:37:04 - cmdstanpy - INFO - Chain [1] done processing\n",
      "17:37:04 - cmdstanpy - INFO - Chain [1] start processing\n",
      "17:37:04 - cmdstanpy - INFO - Chain [1] done processing\n",
      "17:37:05 - cmdstanpy - INFO - Chain [1] start processing\n"
     ]
    },
    {
     "name": "stdout",
     "output_type": "stream",
     "text": [
      "MEA - processed\n"
     ]
    },
    {
     "name": "stderr",
     "output_type": "stream",
     "text": [
      "17:37:06 - cmdstanpy - INFO - Chain [1] done processing\n",
      "17:37:07 - cmdstanpy - INFO - Chain [1] start processing\n",
      "17:37:07 - cmdstanpy - INFO - Chain [1] done processing\n",
      "17:37:07 - cmdstanpy - INFO - Chain [1] start processing\n",
      "17:37:08 - cmdstanpy - INFO - Chain [1] done processing\n",
      "17:37:08 - cmdstanpy - INFO - Chain [1] start processing\n",
      "17:37:08 - cmdstanpy - INFO - Chain [1] done processing\n",
      "17:37:09 - cmdstanpy - INFO - Chain [1] start processing\n",
      "17:37:09 - cmdstanpy - INFO - Chain [1] done processing\n",
      "17:37:09 - cmdstanpy - INFO - Chain [1] start processing\n",
      "17:37:09 - cmdstanpy - INFO - Chain [1] done processing\n",
      "17:37:10 - cmdstanpy - INFO - Chain [1] start processing\n",
      "17:37:10 - cmdstanpy - INFO - Chain [1] done processing\n",
      "17:37:10 - cmdstanpy - INFO - Chain [1] start processing\n",
      "17:37:10 - cmdstanpy - INFO - Chain [1] done processing\n",
      "17:37:11 - cmdstanpy - INFO - Chain [1] start processing\n",
      "17:37:11 - cmdstanpy - INFO - Chain [1] done processing\n",
      "17:37:11 - cmdstanpy - INFO - Chain [1] start processing\n",
      "17:37:11 - cmdstanpy - INFO - Chain [1] done processing\n"
     ]
    },
    {
     "name": "stdout",
     "output_type": "stream",
     "text": [
      "MEX - processed\n",
      "MHL - errored\n"
     ]
    },
    {
     "name": "stderr",
     "output_type": "stream",
     "text": [
      "17:37:12 - cmdstanpy - INFO - Chain [1] start processing\n",
      "17:37:14 - cmdstanpy - INFO - Chain [1] done processing\n",
      "17:37:15 - cmdstanpy - INFO - Chain [1] start processing\n",
      "17:37:17 - cmdstanpy - INFO - Chain [1] done processing\n",
      "17:37:18 - cmdstanpy - INFO - Chain [1] start processing\n",
      "17:37:18 - cmdstanpy - INFO - Chain [1] done processing\n",
      "17:37:18 - cmdstanpy - INFO - Chain [1] start processing\n",
      "17:37:18 - cmdstanpy - INFO - Chain [1] done processing\n",
      "17:37:19 - cmdstanpy - INFO - Chain [1] start processing\n",
      "17:37:19 - cmdstanpy - INFO - Chain [1] done processing\n",
      "17:37:19 - cmdstanpy - INFO - Chain [1] start processing\n",
      "17:37:19 - cmdstanpy - INFO - Chain [1] done processing\n",
      "17:37:20 - cmdstanpy - INFO - Chain [1] start processing\n",
      "17:37:20 - cmdstanpy - INFO - Chain [1] done processing\n",
      "17:37:20 - cmdstanpy - INFO - Chain [1] start processing\n",
      "17:37:20 - cmdstanpy - INFO - Chain [1] done processing\n",
      "17:37:21 - cmdstanpy - INFO - Chain [1] start processing\n"
     ]
    },
    {
     "name": "stdout",
     "output_type": "stream",
     "text": [
      "MKD - processed\n"
     ]
    },
    {
     "name": "stderr",
     "output_type": "stream",
     "text": [
      "17:37:22 - cmdstanpy - INFO - Chain [1] done processing\n",
      "17:37:22 - cmdstanpy - INFO - Chain [1] start processing\n",
      "17:37:22 - cmdstanpy - INFO - Chain [1] done processing\n",
      "17:37:23 - cmdstanpy - INFO - Chain [1] start processing\n",
      "17:37:23 - cmdstanpy - INFO - Chain [1] done processing\n",
      "17:37:23 - cmdstanpy - INFO - Chain [1] start processing\n",
      "17:37:23 - cmdstanpy - INFO - Chain [1] done processing\n",
      "17:37:24 - cmdstanpy - INFO - Chain [1] start processing\n",
      "17:37:24 - cmdstanpy - INFO - Chain [1] done processing\n",
      "17:37:24 - cmdstanpy - INFO - Chain [1] start processing\n",
      "17:37:25 - cmdstanpy - INFO - Chain [1] done processing\n",
      "17:37:25 - cmdstanpy - INFO - Chain [1] start processing\n",
      "17:37:25 - cmdstanpy - INFO - Chain [1] done processing\n",
      "17:37:25 - cmdstanpy - INFO - Chain [1] start processing\n",
      "17:37:25 - cmdstanpy - INFO - Chain [1] done processing\n",
      "17:37:26 - cmdstanpy - INFO - Chain [1] start processing\n"
     ]
    },
    {
     "name": "stdout",
     "output_type": "stream",
     "text": [
      "MLI - processed\n"
     ]
    },
    {
     "name": "stderr",
     "output_type": "stream",
     "text": [
      "17:37:28 - cmdstanpy - INFO - Chain [1] done processing\n",
      "17:37:28 - cmdstanpy - INFO - Chain [1] start processing\n",
      "17:37:28 - cmdstanpy - INFO - Chain [1] done processing\n",
      "17:37:29 - cmdstanpy - INFO - Chain [1] start processing\n",
      "17:37:29 - cmdstanpy - INFO - Chain [1] done processing\n",
      "17:37:29 - cmdstanpy - INFO - Chain [1] start processing\n",
      "17:37:29 - cmdstanpy - INFO - Chain [1] done processing\n",
      "17:37:30 - cmdstanpy - INFO - Chain [1] start processing\n",
      "17:37:30 - cmdstanpy - INFO - Chain [1] done processing\n",
      "17:37:30 - cmdstanpy - INFO - Chain [1] start processing\n",
      "17:37:30 - cmdstanpy - INFO - Chain [1] done processing\n",
      "17:37:31 - cmdstanpy - INFO - Chain [1] start processing\n",
      "17:37:31 - cmdstanpy - INFO - Chain [1] done processing\n",
      "17:37:31 - cmdstanpy - INFO - Chain [1] start processing\n",
      "17:37:31 - cmdstanpy - INFO - Chain [1] done processing\n",
      "17:37:32 - cmdstanpy - INFO - Chain [1] start processing\n"
     ]
    },
    {
     "name": "stdout",
     "output_type": "stream",
     "text": [
      "MLT - processed\n"
     ]
    },
    {
     "name": "stderr",
     "output_type": "stream",
     "text": [
      "17:37:34 - cmdstanpy - INFO - Chain [1] done processing\n",
      "17:37:34 - cmdstanpy - INFO - Chain [1] start processing\n",
      "17:37:34 - cmdstanpy - INFO - Chain [1] done processing\n",
      "17:37:35 - cmdstanpy - INFO - Chain [1] start processing\n",
      "17:37:35 - cmdstanpy - INFO - Chain [1] done processing\n",
      "17:37:36 - cmdstanpy - INFO - Chain [1] start processing\n",
      "17:37:36 - cmdstanpy - INFO - Chain [1] done processing\n",
      "17:37:36 - cmdstanpy - INFO - Chain [1] start processing\n",
      "17:37:36 - cmdstanpy - INFO - Chain [1] done processing\n",
      "17:37:37 - cmdstanpy - INFO - Chain [1] start processing\n",
      "17:37:37 - cmdstanpy - INFO - Chain [1] done processing\n",
      "17:37:37 - cmdstanpy - INFO - Chain [1] start processing\n",
      "17:37:37 - cmdstanpy - INFO - Chain [1] done processing\n",
      "17:37:38 - cmdstanpy - INFO - Chain [1] start processing\n",
      "17:37:38 - cmdstanpy - INFO - Chain [1] done processing\n",
      "17:37:38 - cmdstanpy - INFO - Chain [1] start processing\n"
     ]
    },
    {
     "name": "stdout",
     "output_type": "stream",
     "text": [
      "MMR - processed\n"
     ]
    },
    {
     "name": "stderr",
     "output_type": "stream",
     "text": [
      "17:37:40 - cmdstanpy - INFO - Chain [1] done processing\n",
      "17:37:40 - cmdstanpy - INFO - Chain [1] start processing\n",
      "17:37:43 - cmdstanpy - INFO - Chain [1] done processing\n",
      "17:37:44 - cmdstanpy - INFO - Chain [1] start processing\n",
      "17:37:44 - cmdstanpy - INFO - Chain [1] done processing\n",
      "17:37:44 - cmdstanpy - INFO - Chain [1] start processing\n",
      "17:37:44 - cmdstanpy - INFO - Chain [1] done processing\n",
      "17:37:45 - cmdstanpy - INFO - Chain [1] start processing\n",
      "17:37:45 - cmdstanpy - INFO - Chain [1] done processing\n",
      "17:37:45 - cmdstanpy - INFO - Chain [1] start processing\n",
      "17:37:45 - cmdstanpy - INFO - Chain [1] done processing\n",
      "17:37:46 - cmdstanpy - INFO - Chain [1] start processing\n",
      "17:37:46 - cmdstanpy - INFO - Chain [1] done processing\n",
      "17:37:46 - cmdstanpy - INFO - Chain [1] start processing\n",
      "17:37:46 - cmdstanpy - INFO - Chain [1] done processing\n",
      "17:37:47 - cmdstanpy - INFO - Chain [1] start processing\n"
     ]
    },
    {
     "name": "stdout",
     "output_type": "stream",
     "text": [
      "MNE - processed\n"
     ]
    },
    {
     "name": "stderr",
     "output_type": "stream",
     "text": [
      "17:37:49 - cmdstanpy - INFO - Chain [1] done processing\n",
      "17:37:50 - cmdstanpy - INFO - Chain [1] start processing\n",
      "17:37:52 - cmdstanpy - INFO - Chain [1] done processing\n",
      "17:37:53 - cmdstanpy - INFO - Chain [1] start processing\n",
      "17:37:53 - cmdstanpy - INFO - Chain [1] done processing\n",
      "17:37:53 - cmdstanpy - INFO - Chain [1] start processing\n",
      "17:37:53 - cmdstanpy - INFO - Chain [1] done processing\n",
      "17:37:54 - cmdstanpy - INFO - Chain [1] start processing\n",
      "17:37:54 - cmdstanpy - INFO - Chain [1] done processing\n",
      "17:37:54 - cmdstanpy - INFO - Chain [1] start processing\n",
      "17:37:54 - cmdstanpy - INFO - Chain [1] done processing\n",
      "17:37:55 - cmdstanpy - INFO - Chain [1] start processing\n",
      "17:37:55 - cmdstanpy - INFO - Chain [1] done processing\n",
      "17:37:55 - cmdstanpy - INFO - Chain [1] start processing\n",
      "17:37:55 - cmdstanpy - INFO - Chain [1] done processing\n",
      "17:37:56 - cmdstanpy - INFO - Chain [1] start processing\n"
     ]
    },
    {
     "name": "stdout",
     "output_type": "stream",
     "text": [
      "MNG - processed\n"
     ]
    },
    {
     "name": "stderr",
     "output_type": "stream",
     "text": [
      "17:37:56 - cmdstanpy - INFO - Chain [1] done processing\n",
      "17:37:57 - cmdstanpy - INFO - Chain [1] start processing\n",
      "17:37:59 - cmdstanpy - INFO - Chain [1] done processing\n",
      "17:38:00 - cmdstanpy - INFO - Chain [1] start processing\n",
      "17:38:00 - cmdstanpy - INFO - Chain [1] done processing\n",
      "17:38:00 - cmdstanpy - INFO - Chain [1] start processing\n",
      "17:38:00 - cmdstanpy - INFO - Chain [1] done processing\n",
      "17:38:01 - cmdstanpy - INFO - Chain [1] start processing\n",
      "17:38:01 - cmdstanpy - INFO - Chain [1] done processing\n",
      "17:38:01 - cmdstanpy - INFO - Chain [1] start processing\n",
      "17:38:01 - cmdstanpy - INFO - Chain [1] done processing\n",
      "17:38:02 - cmdstanpy - INFO - Chain [1] start processing\n",
      "17:38:02 - cmdstanpy - INFO - Chain [1] done processing\n",
      "17:38:02 - cmdstanpy - INFO - Chain [1] start processing\n",
      "17:38:02 - cmdstanpy - INFO - Chain [1] done processing\n",
      "17:38:03 - cmdstanpy - INFO - Chain [1] start processing\n"
     ]
    },
    {
     "name": "stdout",
     "output_type": "stream",
     "text": [
      "MOZ - processed\n"
     ]
    },
    {
     "name": "stderr",
     "output_type": "stream",
     "text": [
      "17:38:04 - cmdstanpy - INFO - Chain [1] done processing\n",
      "17:38:05 - cmdstanpy - INFO - Chain [1] start processing\n",
      "17:38:05 - cmdstanpy - INFO - Chain [1] done processing\n",
      "17:38:05 - cmdstanpy - INFO - Chain [1] start processing\n",
      "17:38:05 - cmdstanpy - INFO - Chain [1] done processing\n",
      "17:38:06 - cmdstanpy - INFO - Chain [1] start processing\n",
      "17:38:06 - cmdstanpy - INFO - Chain [1] done processing\n",
      "17:38:06 - cmdstanpy - INFO - Chain [1] start processing\n",
      "17:38:06 - cmdstanpy - INFO - Chain [1] done processing\n",
      "17:38:07 - cmdstanpy - INFO - Chain [1] start processing\n",
      "17:38:07 - cmdstanpy - INFO - Chain [1] done processing\n",
      "17:38:07 - cmdstanpy - INFO - Chain [1] start processing\n",
      "17:38:07 - cmdstanpy - INFO - Chain [1] done processing\n",
      "17:38:08 - cmdstanpy - INFO - Chain [1] start processing\n",
      "17:38:08 - cmdstanpy - INFO - Chain [1] done processing\n"
     ]
    },
    {
     "name": "stdout",
     "output_type": "stream",
     "text": [
      "MRT - processed\n"
     ]
    },
    {
     "name": "stderr",
     "output_type": "stream",
     "text": [
      "17:38:09 - cmdstanpy - INFO - Chain [1] start processing\n",
      "17:38:09 - cmdstanpy - INFO - Chain [1] done processing\n",
      "17:38:09 - cmdstanpy - INFO - Chain [1] start processing\n",
      "17:38:09 - cmdstanpy - INFO - Chain [1] done processing\n",
      "17:38:10 - cmdstanpy - INFO - Chain [1] start processing\n",
      "17:38:10 - cmdstanpy - INFO - Chain [1] done processing\n",
      "17:38:10 - cmdstanpy - INFO - Chain [1] start processing\n",
      "17:38:10 - cmdstanpy - INFO - Chain [1] done processing\n",
      "17:38:11 - cmdstanpy - INFO - Chain [1] start processing\n",
      "17:38:11 - cmdstanpy - INFO - Chain [1] done processing\n",
      "17:38:11 - cmdstanpy - INFO - Chain [1] start processing\n",
      "17:38:11 - cmdstanpy - INFO - Chain [1] done processing\n",
      "17:38:12 - cmdstanpy - INFO - Chain [1] start processing\n",
      "17:38:12 - cmdstanpy - INFO - Chain [1] done processing\n",
      "17:38:12 - cmdstanpy - INFO - Chain [1] start processing\n"
     ]
    },
    {
     "name": "stdout",
     "output_type": "stream",
     "text": [
      "MSR - processed\n"
     ]
    },
    {
     "name": "stderr",
     "output_type": "stream",
     "text": [
      "17:38:14 - cmdstanpy - INFO - Chain [1] done processing\n",
      "17:38:15 - cmdstanpy - INFO - Chain [1] start processing\n",
      "17:38:17 - cmdstanpy - INFO - Chain [1] done processing\n",
      "17:38:18 - cmdstanpy - INFO - Chain [1] start processing\n",
      "17:38:18 - cmdstanpy - INFO - Chain [1] done processing\n",
      "17:38:18 - cmdstanpy - INFO - Chain [1] start processing\n",
      "17:38:18 - cmdstanpy - INFO - Chain [1] done processing\n",
      "17:38:19 - cmdstanpy - INFO - Chain [1] start processing\n",
      "17:38:19 - cmdstanpy - INFO - Chain [1] done processing\n",
      "17:38:19 - cmdstanpy - INFO - Chain [1] start processing\n",
      "17:38:19 - cmdstanpy - INFO - Chain [1] done processing\n",
      "17:38:20 - cmdstanpy - INFO - Chain [1] start processing\n",
      "17:38:20 - cmdstanpy - INFO - Chain [1] done processing\n",
      "17:38:20 - cmdstanpy - INFO - Chain [1] start processing\n",
      "17:38:20 - cmdstanpy - INFO - Chain [1] done processing\n",
      "17:38:20 - cmdstanpy - INFO - Chain [1] start processing\n"
     ]
    },
    {
     "name": "stdout",
     "output_type": "stream",
     "text": [
      "MUS - processed\n"
     ]
    },
    {
     "name": "stderr",
     "output_type": "stream",
     "text": [
      "17:38:22 - cmdstanpy - INFO - Chain [1] done processing\n",
      "17:38:23 - cmdstanpy - INFO - Chain [1] start processing\n",
      "17:38:25 - cmdstanpy - INFO - Chain [1] done processing\n",
      "17:38:25 - cmdstanpy - INFO - Chain [1] start processing\n",
      "17:38:25 - cmdstanpy - INFO - Chain [1] done processing\n",
      "17:38:26 - cmdstanpy - INFO - Chain [1] start processing\n",
      "17:38:26 - cmdstanpy - INFO - Chain [1] done processing\n",
      "17:38:26 - cmdstanpy - INFO - Chain [1] start processing\n",
      "17:38:26 - cmdstanpy - INFO - Chain [1] done processing\n",
      "17:38:27 - cmdstanpy - INFO - Chain [1] start processing\n",
      "17:38:27 - cmdstanpy - INFO - Chain [1] done processing\n",
      "17:38:27 - cmdstanpy - INFO - Chain [1] start processing\n",
      "17:38:27 - cmdstanpy - INFO - Chain [1] done processing\n",
      "17:38:28 - cmdstanpy - INFO - Chain [1] start processing\n",
      "17:38:28 - cmdstanpy - INFO - Chain [1] done processing\n",
      "17:38:28 - cmdstanpy - INFO - Chain [1] start processing\n"
     ]
    },
    {
     "name": "stdout",
     "output_type": "stream",
     "text": [
      "MWI - processed\n"
     ]
    },
    {
     "name": "stderr",
     "output_type": "stream",
     "text": [
      "17:38:30 - cmdstanpy - INFO - Chain [1] done processing\n",
      "17:38:31 - cmdstanpy - INFO - Chain [1] start processing\n",
      "17:38:36 - cmdstanpy - INFO - Chain [1] done processing\n",
      "17:38:37 - cmdstanpy - INFO - Chain [1] start processing\n",
      "17:38:37 - cmdstanpy - INFO - Chain [1] done processing\n",
      "17:38:37 - cmdstanpy - INFO - Chain [1] start processing\n",
      "17:38:37 - cmdstanpy - INFO - Chain [1] done processing\n",
      "17:38:38 - cmdstanpy - INFO - Chain [1] start processing\n",
      "17:38:38 - cmdstanpy - INFO - Chain [1] done processing\n",
      "17:38:38 - cmdstanpy - INFO - Chain [1] start processing\n",
      "17:38:38 - cmdstanpy - INFO - Chain [1] done processing\n",
      "17:38:39 - cmdstanpy - INFO - Chain [1] start processing\n",
      "17:38:39 - cmdstanpy - INFO - Chain [1] done processing\n",
      "17:38:39 - cmdstanpy - INFO - Chain [1] start processing\n",
      "17:38:39 - cmdstanpy - INFO - Chain [1] done processing\n"
     ]
    },
    {
     "name": "stdout",
     "output_type": "stream",
     "text": [
      "MYS - processed\n"
     ]
    },
    {
     "name": "stderr",
     "output_type": "stream",
     "text": [
      "17:38:40 - cmdstanpy - INFO - Chain [1] start processing\n",
      "17:38:43 - cmdstanpy - INFO - Chain [1] done processing\n",
      "17:38:43 - cmdstanpy - INFO - Chain [1] start processing\n",
      "17:38:43 - cmdstanpy - INFO - Chain [1] done processing\n",
      "17:38:44 - cmdstanpy - INFO - Chain [1] start processing\n",
      "17:38:44 - cmdstanpy - INFO - Chain [1] done processing\n",
      "17:38:44 - cmdstanpy - INFO - Chain [1] start processing\n",
      "17:38:44 - cmdstanpy - INFO - Chain [1] done processing\n",
      "17:38:45 - cmdstanpy - INFO - Chain [1] start processing\n",
      "17:38:45 - cmdstanpy - INFO - Chain [1] done processing\n",
      "17:38:45 - cmdstanpy - INFO - Chain [1] start processing\n",
      "17:38:46 - cmdstanpy - INFO - Chain [1] done processing\n",
      "17:38:46 - cmdstanpy - INFO - Chain [1] start processing\n",
      "17:38:46 - cmdstanpy - INFO - Chain [1] done processing\n",
      "17:38:46 - cmdstanpy - INFO - Chain [1] start processing\n"
     ]
    },
    {
     "name": "stdout",
     "output_type": "stream",
     "text": [
      "NAC - processed\n"
     ]
    },
    {
     "name": "stderr",
     "output_type": "stream",
     "text": [
      "17:38:48 - cmdstanpy - INFO - Chain [1] done processing\n",
      "17:38:49 - cmdstanpy - INFO - Chain [1] start processing\n",
      "17:38:52 - cmdstanpy - INFO - Chain [1] done processing\n",
      "17:38:52 - cmdstanpy - INFO - Chain [1] start processing\n",
      "17:38:52 - cmdstanpy - INFO - Chain [1] done processing\n",
      "17:38:53 - cmdstanpy - INFO - Chain [1] start processing\n",
      "17:38:53 - cmdstanpy - INFO - Chain [1] done processing\n",
      "17:38:53 - cmdstanpy - INFO - Chain [1] start processing\n",
      "17:38:53 - cmdstanpy - INFO - Chain [1] done processing\n",
      "17:38:54 - cmdstanpy - INFO - Chain [1] start processing\n",
      "17:38:54 - cmdstanpy - INFO - Chain [1] done processing\n",
      "17:38:54 - cmdstanpy - INFO - Chain [1] start processing\n",
      "17:38:54 - cmdstanpy - INFO - Chain [1] done processing\n",
      "17:38:55 - cmdstanpy - INFO - Chain [1] start processing\n",
      "17:38:55 - cmdstanpy - INFO - Chain [1] done processing\n",
      "17:38:55 - cmdstanpy - INFO - Chain [1] start processing\n",
      "17:38:55 - cmdstanpy - INFO - Chain [1] done processing\n"
     ]
    },
    {
     "name": "stdout",
     "output_type": "stream",
     "text": [
      "NAM - processed\n"
     ]
    },
    {
     "name": "stderr",
     "output_type": "stream",
     "text": [
      "17:38:56 - cmdstanpy - INFO - Chain [1] start processing\n",
      "17:38:59 - cmdstanpy - INFO - Chain [1] done processing\n",
      "17:39:00 - cmdstanpy - INFO - Chain [1] start processing\n",
      "17:39:00 - cmdstanpy - INFO - Chain [1] done processing\n",
      "17:39:00 - cmdstanpy - INFO - Chain [1] start processing\n",
      "17:39:00 - cmdstanpy - INFO - Chain [1] done processing\n",
      "17:39:01 - cmdstanpy - INFO - Chain [1] start processing\n",
      "17:39:01 - cmdstanpy - INFO - Chain [1] done processing\n",
      "17:39:01 - cmdstanpy - INFO - Chain [1] start processing\n",
      "17:39:01 - cmdstanpy - INFO - Chain [1] done processing\n",
      "17:39:02 - cmdstanpy - INFO - Chain [1] start processing\n",
      "17:39:02 - cmdstanpy - INFO - Chain [1] done processing\n",
      "17:39:02 - cmdstanpy - INFO - Chain [1] start processing\n",
      "17:39:02 - cmdstanpy - INFO - Chain [1] done processing\n",
      "17:39:03 - cmdstanpy - INFO - Chain [1] start processing\n"
     ]
    },
    {
     "name": "stdout",
     "output_type": "stream",
     "text": [
      "NER - processed\n"
     ]
    },
    {
     "name": "stderr",
     "output_type": "stream",
     "text": [
      "17:39:03 - cmdstanpy - INFO - Chain [1] done processing\n",
      "17:39:04 - cmdstanpy - INFO - Chain [1] start processing\n",
      "17:39:08 - cmdstanpy - INFO - Chain [1] done processing\n",
      "17:39:08 - cmdstanpy - INFO - Chain [1] start processing\n",
      "17:39:08 - cmdstanpy - INFO - Chain [1] done processing\n",
      "17:39:09 - cmdstanpy - INFO - Chain [1] start processing\n",
      "17:39:09 - cmdstanpy - INFO - Chain [1] done processing\n",
      "17:39:09 - cmdstanpy - INFO - Chain [1] start processing\n",
      "17:39:09 - cmdstanpy - INFO - Chain [1] done processing\n",
      "17:39:10 - cmdstanpy - INFO - Chain [1] start processing\n",
      "17:39:10 - cmdstanpy - INFO - Chain [1] done processing\n",
      "17:39:10 - cmdstanpy - INFO - Chain [1] start processing\n",
      "17:39:10 - cmdstanpy - INFO - Chain [1] done processing\n",
      "17:39:11 - cmdstanpy - INFO - Chain [1] start processing\n",
      "17:39:11 - cmdstanpy - INFO - Chain [1] done processing\n",
      "17:39:11 - cmdstanpy - INFO - Chain [1] start processing\n"
     ]
    },
    {
     "name": "stdout",
     "output_type": "stream",
     "text": [
      "NGA - processed\n"
     ]
    },
    {
     "name": "stderr",
     "output_type": "stream",
     "text": [
      "17:39:13 - cmdstanpy - INFO - Chain [1] done processing\n",
      "17:39:14 - cmdstanpy - INFO - Chain [1] start processing\n",
      "17:39:16 - cmdstanpy - INFO - Chain [1] done processing\n",
      "17:39:16 - cmdstanpy - INFO - Chain [1] start processing\n",
      "17:39:16 - cmdstanpy - INFO - Chain [1] done processing\n",
      "17:39:17 - cmdstanpy - INFO - Chain [1] start processing\n",
      "17:39:17 - cmdstanpy - INFO - Chain [1] done processing\n",
      "17:39:17 - cmdstanpy - INFO - Chain [1] start processing\n",
      "17:39:18 - cmdstanpy - INFO - Chain [1] done processing\n",
      "17:39:18 - cmdstanpy - INFO - Chain [1] start processing\n",
      "17:39:18 - cmdstanpy - INFO - Chain [1] done processing\n",
      "17:39:19 - cmdstanpy - INFO - Chain [1] start processing\n",
      "17:39:19 - cmdstanpy - INFO - Chain [1] done processing\n",
      "17:39:19 - cmdstanpy - INFO - Chain [1] start processing\n",
      "17:39:19 - cmdstanpy - INFO - Chain [1] done processing\n",
      "17:39:19 - cmdstanpy - INFO - Chain [1] start processing\n"
     ]
    },
    {
     "name": "stdout",
     "output_type": "stream",
     "text": [
      "NIC - processed\n"
     ]
    },
    {
     "name": "stderr",
     "output_type": "stream",
     "text": [
      "17:39:22 - cmdstanpy - INFO - Chain [1] done processing\n",
      "17:39:22 - cmdstanpy - INFO - Chain [1] start processing\n",
      "17:39:22 - cmdstanpy - INFO - Chain [1] done processing\n",
      "17:39:23 - cmdstanpy - INFO - Chain [1] start processing\n",
      "17:39:23 - cmdstanpy - INFO - Chain [1] done processing\n",
      "17:39:23 - cmdstanpy - INFO - Chain [1] start processing\n",
      "17:39:26 - cmdstanpy - INFO - Chain [1] done processing\n",
      "17:39:26 - cmdstanpy - INFO - Chain [1] start processing\n",
      "17:39:26 - cmdstanpy - INFO - Chain [1] done processing\n",
      "17:39:26 - cmdstanpy - INFO - Chain [1] start processing\n",
      "17:39:27 - cmdstanpy - INFO - Chain [1] done processing\n",
      "17:39:27 - cmdstanpy - INFO - Chain [1] start processing\n",
      "17:39:27 - cmdstanpy - INFO - Chain [1] done processing\n",
      "17:39:28 - cmdstanpy - INFO - Chain [1] start processing\n",
      "17:39:28 - cmdstanpy - INFO - Chain [1] done processing\n",
      "17:39:28 - cmdstanpy - INFO - Chain [1] start processing\n",
      "17:39:29 - cmdstanpy - INFO - Chain [1] done processing\n",
      "17:39:29 - cmdstanpy - INFO - Chain [1] start processing\n"
     ]
    },
    {
     "name": "stdout",
     "output_type": "stream",
     "text": [
      "NLD - processed\n"
     ]
    },
    {
     "name": "stderr",
     "output_type": "stream",
     "text": [
      "17:39:31 - cmdstanpy - INFO - Chain [1] done processing\n",
      "17:39:31 - cmdstanpy - INFO - Chain [1] start processing\n",
      "17:39:31 - cmdstanpy - INFO - Chain [1] done processing\n",
      "17:39:32 - cmdstanpy - INFO - Chain [1] start processing\n",
      "17:39:32 - cmdstanpy - INFO - Chain [1] done processing\n",
      "17:39:32 - cmdstanpy - INFO - Chain [1] start processing\n",
      "17:39:32 - cmdstanpy - INFO - Chain [1] done processing\n",
      "17:39:33 - cmdstanpy - INFO - Chain [1] start processing\n",
      "17:39:33 - cmdstanpy - INFO - Chain [1] done processing\n",
      "17:39:33 - cmdstanpy - INFO - Chain [1] start processing\n",
      "17:39:33 - cmdstanpy - INFO - Chain [1] done processing\n",
      "17:39:34 - cmdstanpy - INFO - Chain [1] start processing\n",
      "17:39:34 - cmdstanpy - INFO - Chain [1] done processing\n",
      "17:39:34 - cmdstanpy - INFO - Chain [1] start processing\n",
      "17:39:34 - cmdstanpy - INFO - Chain [1] done processing\n",
      "17:39:35 - cmdstanpy - INFO - Chain [1] start processing\n",
      "17:39:35 - cmdstanpy - INFO - Chain [1] done processing\n",
      "17:39:36 - cmdstanpy - INFO - Chain [1] start processing\n",
      "17:39:36 - cmdstanpy - INFO - Chain [1] done processing\n",
      "17:39:36 - cmdstanpy - INFO - Chain [1] start processing\n"
     ]
    },
    {
     "name": "stdout",
     "output_type": "stream",
     "text": [
      "NOR - processed\n"
     ]
    },
    {
     "name": "stderr",
     "output_type": "stream",
     "text": [
      "17:39:37 - cmdstanpy - INFO - Chain [1] done processing\n",
      "17:39:38 - cmdstanpy - INFO - Chain [1] start processing\n",
      "17:39:40 - cmdstanpy - INFO - Chain [1] done processing\n",
      "17:39:41 - cmdstanpy - INFO - Chain [1] start processing\n",
      "17:39:41 - cmdstanpy - INFO - Chain [1] done processing\n",
      "17:39:41 - cmdstanpy - INFO - Chain [1] start processing\n",
      "17:39:41 - cmdstanpy - INFO - Chain [1] done processing\n",
      "17:39:42 - cmdstanpy - INFO - Chain [1] start processing\n",
      "17:39:42 - cmdstanpy - INFO - Chain [1] done processing\n",
      "17:39:42 - cmdstanpy - INFO - Chain [1] start processing\n",
      "17:39:42 - cmdstanpy - INFO - Chain [1] done processing\n",
      "17:39:43 - cmdstanpy - INFO - Chain [1] start processing\n",
      "17:39:43 - cmdstanpy - INFO - Chain [1] done processing\n",
      "17:39:43 - cmdstanpy - INFO - Chain [1] start processing\n",
      "17:39:43 - cmdstanpy - INFO - Chain [1] done processing\n",
      "17:39:44 - cmdstanpy - INFO - Chain [1] start processing\n",
      "17:39:44 - cmdstanpy - INFO - Chain [1] done processing\n"
     ]
    },
    {
     "name": "stdout",
     "output_type": "stream",
     "text": [
      "NPL - processed\n"
     ]
    },
    {
     "name": "stderr",
     "output_type": "stream",
     "text": [
      "17:39:44 - cmdstanpy - INFO - Chain [1] start processing\n",
      "17:39:44 - cmdstanpy - INFO - Chain [1] done processing\n",
      "17:39:45 - cmdstanpy - INFO - Chain [1] start processing\n",
      "17:39:45 - cmdstanpy - INFO - Chain [1] done processing\n",
      "17:39:45 - cmdstanpy - INFO - Chain [1] start processing\n",
      "17:39:47 - cmdstanpy - INFO - Chain [1] done processing\n",
      "17:39:48 - cmdstanpy - INFO - Chain [1] start processing\n",
      "17:39:48 - cmdstanpy - INFO - Chain [1] done processing\n",
      "17:39:48 - cmdstanpy - INFO - Chain [1] start processing\n",
      "17:39:48 - cmdstanpy - INFO - Chain [1] done processing\n",
      "17:39:49 - cmdstanpy - INFO - Chain [1] start processing\n",
      "17:39:49 - cmdstanpy - INFO - Chain [1] done processing\n",
      "17:39:49 - cmdstanpy - INFO - Chain [1] start processing\n",
      "17:39:49 - cmdstanpy - INFO - Chain [1] done processing\n",
      "17:39:50 - cmdstanpy - INFO - Chain [1] start processing\n",
      "17:39:50 - cmdstanpy - INFO - Chain [1] done processing\n",
      "17:39:50 - cmdstanpy - INFO - Chain [1] start processing\n",
      "17:39:50 - cmdstanpy - INFO - Chain [1] done processing\n"
     ]
    },
    {
     "name": "stdout",
     "output_type": "stream",
     "text": [
      "NZL - processed\n"
     ]
    },
    {
     "name": "stderr",
     "output_type": "stream",
     "text": [
      "17:39:51 - cmdstanpy - INFO - Chain [1] start processing\n",
      "17:39:51 - cmdstanpy - INFO - Chain [1] done processing\n",
      "17:39:51 - cmdstanpy - INFO - Chain [1] start processing\n",
      "17:39:51 - cmdstanpy - INFO - Chain [1] done processing\n",
      "17:39:53 - cmdstanpy - INFO - Chain [1] start processing\n"
     ]
    },
    {
     "name": "stdout",
     "output_type": "stream",
     "text": [
      "OECD - processed\n"
     ]
    },
    {
     "name": "stderr",
     "output_type": "stream",
     "text": [
      "17:39:53 - cmdstanpy - INFO - Chain [1] done processing\n",
      "17:39:53 - cmdstanpy - INFO - Chain [1] start processing\n",
      "17:39:53 - cmdstanpy - INFO - Chain [1] done processing\n",
      "17:39:54 - cmdstanpy - INFO - Chain [1] start processing\n",
      "17:39:54 - cmdstanpy - INFO - Chain [1] done processing\n"
     ]
    },
    {
     "name": "stdout",
     "output_type": "stream",
     "text": [
      "OECDE - processed\n"
     ]
    },
    {
     "name": "stderr",
     "output_type": "stream",
     "text": [
      "17:39:55 - cmdstanpy - INFO - Chain [1] start processing\n",
      "17:39:57 - cmdstanpy - INFO - Chain [1] done processing\n",
      "17:39:58 - cmdstanpy - INFO - Chain [1] start processing\n",
      "17:39:58 - cmdstanpy - INFO - Chain [1] done processing\n",
      "17:39:58 - cmdstanpy - INFO - Chain [1] start processing\n",
      "17:39:58 - cmdstanpy - INFO - Chain [1] done processing\n",
      "17:39:59 - cmdstanpy - INFO - Chain [1] start processing\n",
      "17:39:59 - cmdstanpy - INFO - Chain [1] done processing\n",
      "17:40:00 - cmdstanpy - INFO - Chain [1] start processing\n",
      "17:40:00 - cmdstanpy - INFO - Chain [1] done processing\n",
      "17:40:00 - cmdstanpy - INFO - Chain [1] start processing\n",
      "17:40:01 - cmdstanpy - INFO - Chain [1] done processing\n",
      "17:40:01 - cmdstanpy - INFO - Chain [1] start processing\n"
     ]
    },
    {
     "name": "stdout",
     "output_type": "stream",
     "text": [
      "OMN - processed\n"
     ]
    },
    {
     "name": "stderr",
     "output_type": "stream",
     "text": [
      "17:40:03 - cmdstanpy - INFO - Chain [1] done processing\n",
      "17:40:03 - cmdstanpy - INFO - Chain [1] start processing\n",
      "17:40:05 - cmdstanpy - INFO - Chain [1] done processing\n",
      "17:40:06 - cmdstanpy - INFO - Chain [1] start processing\n",
      "17:40:06 - cmdstanpy - INFO - Chain [1] done processing\n",
      "17:40:06 - cmdstanpy - INFO - Chain [1] start processing\n",
      "17:40:07 - cmdstanpy - INFO - Chain [1] done processing\n",
      "17:40:07 - cmdstanpy - INFO - Chain [1] start processing\n",
      "17:40:07 - cmdstanpy - INFO - Chain [1] done processing\n",
      "17:40:08 - cmdstanpy - INFO - Chain [1] start processing\n",
      "17:40:08 - cmdstanpy - INFO - Chain [1] done processing\n",
      "17:40:08 - cmdstanpy - INFO - Chain [1] start processing\n",
      "17:40:08 - cmdstanpy - INFO - Chain [1] done processing\n",
      "17:40:09 - cmdstanpy - INFO - Chain [1] start processing\n",
      "17:40:09 - cmdstanpy - INFO - Chain [1] done processing\n",
      "17:40:09 - cmdstanpy - INFO - Chain [1] start processing\n",
      "17:40:09 - cmdstanpy - INFO - Chain [1] done processing\n"
     ]
    },
    {
     "name": "stdout",
     "output_type": "stream",
     "text": [
      "PAK - processed\n"
     ]
    },
    {
     "name": "stderr",
     "output_type": "stream",
     "text": [
      "17:40:10 - cmdstanpy - INFO - Chain [1] start processing\n",
      "17:40:13 - cmdstanpy - INFO - Chain [1] done processing\n",
      "17:40:13 - cmdstanpy - INFO - Chain [1] start processing\n",
      "17:40:13 - cmdstanpy - INFO - Chain [1] done processing\n",
      "17:40:14 - cmdstanpy - INFO - Chain [1] start processing\n",
      "17:40:14 - cmdstanpy - INFO - Chain [1] done processing\n",
      "17:40:14 - cmdstanpy - INFO - Chain [1] start processing\n",
      "17:40:14 - cmdstanpy - INFO - Chain [1] done processing\n",
      "17:40:15 - cmdstanpy - INFO - Chain [1] start processing\n",
      "17:40:15 - cmdstanpy - INFO - Chain [1] done processing\n",
      "17:40:15 - cmdstanpy - INFO - Chain [1] start processing\n",
      "17:40:15 - cmdstanpy - INFO - Chain [1] done processing\n",
      "17:40:16 - cmdstanpy - INFO - Chain [1] start processing\n",
      "17:40:16 - cmdstanpy - INFO - Chain [1] done processing\n",
      "17:40:16 - cmdstanpy - INFO - Chain [1] start processing\n"
     ]
    },
    {
     "name": "stdout",
     "output_type": "stream",
     "text": [
      "PAN - processed\n"
     ]
    },
    {
     "name": "stderr",
     "output_type": "stream",
     "text": [
      "17:40:18 - cmdstanpy - INFO - Chain [1] done processing\n",
      "17:40:19 - cmdstanpy - INFO - Chain [1] start processing\n",
      "17:40:19 - cmdstanpy - INFO - Chain [1] done processing\n",
      "17:40:19 - cmdstanpy - INFO - Chain [1] start processing\n",
      "17:40:19 - cmdstanpy - INFO - Chain [1] done processing\n",
      "17:40:20 - cmdstanpy - INFO - Chain [1] start processing\n",
      "17:40:20 - cmdstanpy - INFO - Chain [1] done processing\n",
      "17:40:20 - cmdstanpy - INFO - Chain [1] start processing\n",
      "17:40:20 - cmdstanpy - INFO - Chain [1] done processing\n",
      "17:40:21 - cmdstanpy - INFO - Chain [1] start processing\n",
      "17:40:21 - cmdstanpy - INFO - Chain [1] done processing\n",
      "17:40:21 - cmdstanpy - INFO - Chain [1] start processing\n",
      "17:40:21 - cmdstanpy - INFO - Chain [1] done processing\n",
      "17:40:22 - cmdstanpy - INFO - Chain [1] start processing\n",
      "17:40:22 - cmdstanpy - INFO - Chain [1] done processing\n",
      "17:40:22 - cmdstanpy - INFO - Chain [1] start processing\n"
     ]
    },
    {
     "name": "stdout",
     "output_type": "stream",
     "text": [
      "PER - processed\n"
     ]
    },
    {
     "name": "stderr",
     "output_type": "stream",
     "text": [
      "17:40:24 - cmdstanpy - INFO - Chain [1] done processing\n",
      "17:40:24 - cmdstanpy - INFO - Chain [1] start processing\n",
      "17:40:28 - cmdstanpy - INFO - Chain [1] done processing\n",
      "17:40:29 - cmdstanpy - INFO - Chain [1] start processing\n",
      "17:40:29 - cmdstanpy - INFO - Chain [1] done processing\n",
      "17:40:29 - cmdstanpy - INFO - Chain [1] start processing\n",
      "17:40:29 - cmdstanpy - INFO - Chain [1] done processing\n",
      "17:40:30 - cmdstanpy - INFO - Chain [1] start processing\n",
      "17:40:30 - cmdstanpy - INFO - Chain [1] done processing\n",
      "17:40:30 - cmdstanpy - INFO - Chain [1] start processing\n",
      "17:40:30 - cmdstanpy - INFO - Chain [1] done processing\n",
      "17:40:31 - cmdstanpy - INFO - Chain [1] start processing\n",
      "17:40:31 - cmdstanpy - INFO - Chain [1] done processing\n",
      "17:40:31 - cmdstanpy - INFO - Chain [1] start processing\n",
      "17:40:31 - cmdstanpy - INFO - Chain [1] done processing\n",
      "17:40:32 - cmdstanpy - INFO - Chain [1] start processing\n"
     ]
    },
    {
     "name": "stdout",
     "output_type": "stream",
     "text": [
      "PHL - processed\n"
     ]
    },
    {
     "name": "stderr",
     "output_type": "stream",
     "text": [
      "17:40:32 - cmdstanpy - INFO - Chain [1] done processing\n",
      "17:40:33 - cmdstanpy - INFO - Chain [1] start processing\n"
     ]
    },
    {
     "name": "stdout",
     "output_type": "stream",
     "text": [
      "PNG - processed\n"
     ]
    },
    {
     "name": "stderr",
     "output_type": "stream",
     "text": [
      "17:40:35 - cmdstanpy - INFO - Chain [1] done processing\n",
      "17:40:36 - cmdstanpy - INFO - Chain [1] start processing\n",
      "17:40:36 - cmdstanpy - INFO - Chain [1] done processing\n",
      "17:40:36 - cmdstanpy - INFO - Chain [1] start processing\n",
      "17:40:36 - cmdstanpy - INFO - Chain [1] done processing\n",
      "17:40:37 - cmdstanpy - INFO - Chain [1] start processing\n",
      "17:40:37 - cmdstanpy - INFO - Chain [1] done processing\n",
      "17:40:37 - cmdstanpy - INFO - Chain [1] start processing\n",
      "17:40:37 - cmdstanpy - INFO - Chain [1] done processing\n",
      "17:40:38 - cmdstanpy - INFO - Chain [1] start processing\n",
      "17:40:38 - cmdstanpy - INFO - Chain [1] done processing\n",
      "17:40:38 - cmdstanpy - INFO - Chain [1] start processing\n",
      "17:40:38 - cmdstanpy - INFO - Chain [1] done processing\n",
      "17:40:39 - cmdstanpy - INFO - Chain [1] start processing\n",
      "17:40:39 - cmdstanpy - INFO - Chain [1] done processing\n",
      "17:40:40 - cmdstanpy - INFO - Chain [1] start processing\n",
      "17:40:40 - cmdstanpy - INFO - Chain [1] done processing\n",
      "17:40:41 - cmdstanpy - INFO - Chain [1] start processing\n"
     ]
    },
    {
     "name": "stdout",
     "output_type": "stream",
     "text": [
      "POL - processed\n"
     ]
    },
    {
     "name": "stderr",
     "output_type": "stream",
     "text": [
      "17:40:43 - cmdstanpy - INFO - Chain [1] done processing\n",
      "17:40:43 - cmdstanpy - INFO - Chain [1] start processing\n",
      "17:40:43 - cmdstanpy - INFO - Chain [1] done processing\n",
      "17:40:44 - cmdstanpy - INFO - Chain [1] start processing\n",
      "17:40:44 - cmdstanpy - INFO - Chain [1] done processing\n",
      "17:40:44 - cmdstanpy - INFO - Chain [1] start processing\n",
      "17:40:44 - cmdstanpy - INFO - Chain [1] done processing\n",
      "17:40:45 - cmdstanpy - INFO - Chain [1] start processing\n",
      "17:40:45 - cmdstanpy - INFO - Chain [1] done processing\n",
      "17:40:45 - cmdstanpy - INFO - Chain [1] start processing\n",
      "17:40:45 - cmdstanpy - INFO - Chain [1] done processing\n",
      "17:40:46 - cmdstanpy - INFO - Chain [1] start processing\n",
      "17:40:46 - cmdstanpy - INFO - Chain [1] done processing\n",
      "17:40:46 - cmdstanpy - INFO - Chain [1] start processing\n",
      "17:40:46 - cmdstanpy - INFO - Chain [1] done processing\n",
      "17:40:47 - cmdstanpy - INFO - Chain [1] start processing\n",
      "17:40:47 - cmdstanpy - INFO - Chain [1] done processing\n",
      "17:40:47 - cmdstanpy - INFO - Chain [1] start processing\n",
      "17:40:47 - cmdstanpy - INFO - Chain [1] done processing\n",
      "17:40:48 - cmdstanpy - INFO - Chain [1] start processing\n"
     ]
    },
    {
     "name": "stdout",
     "output_type": "stream",
     "text": [
      "PRT - processed\n"
     ]
    },
    {
     "name": "stderr",
     "output_type": "stream",
     "text": [
      "17:40:50 - cmdstanpy - INFO - Chain [1] done processing\n",
      "17:40:50 - cmdstanpy - INFO - Chain [1] start processing\n",
      "17:40:53 - cmdstanpy - INFO - Chain [1] done processing\n",
      "17:40:53 - cmdstanpy - INFO - Chain [1] start processing\n",
      "17:40:53 - cmdstanpy - INFO - Chain [1] done processing\n",
      "17:40:54 - cmdstanpy - INFO - Chain [1] start processing\n",
      "17:40:54 - cmdstanpy - INFO - Chain [1] done processing\n",
      "17:40:54 - cmdstanpy - INFO - Chain [1] start processing\n",
      "17:40:54 - cmdstanpy - INFO - Chain [1] done processing\n",
      "17:40:55 - cmdstanpy - INFO - Chain [1] start processing\n",
      "17:40:55 - cmdstanpy - INFO - Chain [1] done processing\n",
      "17:40:55 - cmdstanpy - INFO - Chain [1] start processing\n",
      "17:40:55 - cmdstanpy - INFO - Chain [1] done processing\n",
      "17:40:56 - cmdstanpy - INFO - Chain [1] start processing\n",
      "17:40:56 - cmdstanpy - INFO - Chain [1] done processing\n",
      "17:40:56 - cmdstanpy - INFO - Chain [1] start processing\n"
     ]
    },
    {
     "name": "stdout",
     "output_type": "stream",
     "text": [
      "PRY - processed\n"
     ]
    },
    {
     "name": "stderr",
     "output_type": "stream",
     "text": [
      "17:40:57 - cmdstanpy - INFO - Chain [1] done processing\n",
      "17:40:58 - cmdstanpy - INFO - Chain [1] start processing\n",
      "17:41:00 - cmdstanpy - INFO - Chain [1] done processing\n",
      "17:41:00 - cmdstanpy - INFO - Chain [1] start processing\n",
      "17:41:01 - cmdstanpy - INFO - Chain [1] done processing\n",
      "17:41:01 - cmdstanpy - INFO - Chain [1] start processing\n",
      "17:41:01 - cmdstanpy - INFO - Chain [1] done processing\n",
      "17:41:02 - cmdstanpy - INFO - Chain [1] start processing\n",
      "17:41:02 - cmdstanpy - INFO - Chain [1] done processing\n",
      "17:41:02 - cmdstanpy - INFO - Chain [1] start processing\n",
      "17:41:02 - cmdstanpy - INFO - Chain [1] done processing\n",
      "17:41:03 - cmdstanpy - INFO - Chain [1] start processing\n",
      "17:41:03 - cmdstanpy - INFO - Chain [1] done processing\n",
      "17:41:03 - cmdstanpy - INFO - Chain [1] start processing\n",
      "17:41:03 - cmdstanpy - INFO - Chain [1] done processing\n",
      "17:41:04 - cmdstanpy - INFO - Chain [1] start processing\n",
      "17:41:04 - cmdstanpy - INFO - Chain [1] done processing\n"
     ]
    },
    {
     "name": "stdout",
     "output_type": "stream",
     "text": [
      "PSE - processed\n"
     ]
    },
    {
     "name": "stderr",
     "output_type": "stream",
     "text": [
      "17:41:04 - cmdstanpy - INFO - Chain [1] start processing\n",
      "17:41:08 - cmdstanpy - INFO - Chain [1] done processing\n",
      "17:41:08 - cmdstanpy - INFO - Chain [1] start processing\n",
      "17:41:08 - cmdstanpy - INFO - Chain [1] done processing\n",
      "17:41:09 - cmdstanpy - INFO - Chain [1] start processing\n",
      "17:41:09 - cmdstanpy - INFO - Chain [1] done processing\n",
      "17:41:09 - cmdstanpy - INFO - Chain [1] start processing\n",
      "17:41:10 - cmdstanpy - INFO - Chain [1] done processing\n",
      "17:41:10 - cmdstanpy - INFO - Chain [1] start processing\n",
      "17:41:10 - cmdstanpy - INFO - Chain [1] done processing\n",
      "17:41:10 - cmdstanpy - INFO - Chain [1] start processing\n",
      "17:41:10 - cmdstanpy - INFO - Chain [1] done processing\n",
      "17:41:11 - cmdstanpy - INFO - Chain [1] start processing\n",
      "17:41:11 - cmdstanpy - INFO - Chain [1] done processing\n",
      "17:41:12 - cmdstanpy - INFO - Chain [1] start processing\n"
     ]
    },
    {
     "name": "stdout",
     "output_type": "stream",
     "text": [
      "QAT - processed\n"
     ]
    },
    {
     "name": "stderr",
     "output_type": "stream",
     "text": [
      "17:41:14 - cmdstanpy - INFO - Chain [1] done processing\n",
      "17:41:15 - cmdstanpy - INFO - Chain [1] start processing\n",
      "17:41:18 - cmdstanpy - INFO - Chain [1] done processing\n",
      "17:41:18 - cmdstanpy - INFO - Chain [1] start processing\n",
      "17:41:18 - cmdstanpy - INFO - Chain [1] done processing\n",
      "17:41:19 - cmdstanpy - INFO - Chain [1] start processing\n",
      "17:41:19 - cmdstanpy - INFO - Chain [1] done processing\n",
      "17:41:19 - cmdstanpy - INFO - Chain [1] start processing\n",
      "17:41:19 - cmdstanpy - INFO - Chain [1] done processing\n",
      "17:41:20 - cmdstanpy - INFO - Chain [1] start processing\n",
      "17:41:20 - cmdstanpy - INFO - Chain [1] done processing\n",
      "17:41:20 - cmdstanpy - INFO - Chain [1] start processing\n",
      "17:41:20 - cmdstanpy - INFO - Chain [1] done processing\n",
      "17:41:21 - cmdstanpy - INFO - Chain [1] start processing\n",
      "17:41:21 - cmdstanpy - INFO - Chain [1] done processing\n",
      "17:41:21 - cmdstanpy - INFO - Chain [1] start processing\n"
     ]
    },
    {
     "name": "stdout",
     "output_type": "stream",
     "text": [
      "ROU - processed\n"
     ]
    },
    {
     "name": "stderr",
     "output_type": "stream",
     "text": [
      "17:41:23 - cmdstanpy - INFO - Chain [1] done processing\n",
      "17:41:24 - cmdstanpy - INFO - Chain [1] start processing\n",
      "17:41:24 - cmdstanpy - INFO - Chain [1] done processing\n",
      "17:41:24 - cmdstanpy - INFO - Chain [1] start processing\n",
      "17:41:24 - cmdstanpy - INFO - Chain [1] done processing\n",
      "17:41:24 - cmdstanpy - INFO - Chain [1] start processing\n",
      "17:41:27 - cmdstanpy - INFO - Chain [1] done processing\n",
      "17:41:28 - cmdstanpy - INFO - Chain [1] start processing\n",
      "17:41:28 - cmdstanpy - INFO - Chain [1] done processing\n",
      "17:41:28 - cmdstanpy - INFO - Chain [1] start processing\n",
      "17:41:29 - cmdstanpy - INFO - Chain [1] done processing\n",
      "17:41:29 - cmdstanpy - INFO - Chain [1] start processing\n",
      "17:41:29 - cmdstanpy - INFO - Chain [1] done processing\n",
      "17:41:29 - cmdstanpy - INFO - Chain [1] start processing\n",
      "17:41:29 - cmdstanpy - INFO - Chain [1] done processing\n",
      "17:41:30 - cmdstanpy - INFO - Chain [1] start processing\n",
      "17:41:30 - cmdstanpy - INFO - Chain [1] done processing\n",
      "17:41:30 - cmdstanpy - INFO - Chain [1] start processing\n",
      "17:41:30 - cmdstanpy - INFO - Chain [1] done processing\n",
      "17:41:31 - cmdstanpy - INFO - Chain [1] start processing\n"
     ]
    },
    {
     "name": "stdout",
     "output_type": "stream",
     "text": [
      "RUS - processed\n"
     ]
    },
    {
     "name": "stderr",
     "output_type": "stream",
     "text": [
      "17:41:32 - cmdstanpy - INFO - Chain [1] done processing\n",
      "17:41:32 - cmdstanpy - INFO - Chain [1] start processing\n",
      "17:41:32 - cmdstanpy - INFO - Chain [1] done processing\n",
      "17:41:33 - cmdstanpy - INFO - Chain [1] start processing\n",
      "17:41:33 - cmdstanpy - INFO - Chain [1] done processing\n",
      "17:41:33 - cmdstanpy - INFO - Chain [1] start processing\n",
      "17:41:33 - cmdstanpy - INFO - Chain [1] done processing\n",
      "17:41:34 - cmdstanpy - INFO - Chain [1] start processing\n",
      "17:41:34 - cmdstanpy - INFO - Chain [1] done processing\n",
      "17:41:34 - cmdstanpy - INFO - Chain [1] start processing\n",
      "17:41:34 - cmdstanpy - INFO - Chain [1] done processing\n",
      "17:41:35 - cmdstanpy - INFO - Chain [1] start processing\n",
      "17:41:35 - cmdstanpy - INFO - Chain [1] done processing\n",
      "17:41:35 - cmdstanpy - INFO - Chain [1] start processing\n",
      "17:41:35 - cmdstanpy - INFO - Chain [1] done processing\n"
     ]
    },
    {
     "name": "stdout",
     "output_type": "stream",
     "text": [
      "RWA - processed\n"
     ]
    },
    {
     "name": "stderr",
     "output_type": "stream",
     "text": [
      "17:41:36 - cmdstanpy - INFO - Chain [1] start processing\n",
      "17:41:40 - cmdstanpy - INFO - Chain [1] done processing\n",
      "17:41:41 - cmdstanpy - INFO - Chain [1] start processing\n",
      "17:41:41 - cmdstanpy - INFO - Chain [1] done processing\n",
      "17:41:42 - cmdstanpy - INFO - Chain [1] start processing\n",
      "17:41:42 - cmdstanpy - INFO - Chain [1] done processing\n",
      "17:41:42 - cmdstanpy - INFO - Chain [1] start processing\n",
      "17:41:42 - cmdstanpy - INFO - Chain [1] done processing\n",
      "17:41:43 - cmdstanpy - INFO - Chain [1] start processing\n",
      "17:41:43 - cmdstanpy - INFO - Chain [1] done processing\n",
      "17:41:43 - cmdstanpy - INFO - Chain [1] start processing\n",
      "17:41:43 - cmdstanpy - INFO - Chain [1] done processing\n",
      "17:41:44 - cmdstanpy - INFO - Chain [1] start processing\n",
      "17:41:44 - cmdstanpy - INFO - Chain [1] done processing\n",
      "17:41:44 - cmdstanpy - INFO - Chain [1] start processing\n"
     ]
    },
    {
     "name": "stdout",
     "output_type": "stream",
     "text": [
      "SAS - processed\n"
     ]
    },
    {
     "name": "stderr",
     "output_type": "stream",
     "text": [
      "17:41:46 - cmdstanpy - INFO - Chain [1] done processing\n",
      "17:41:47 - cmdstanpy - INFO - Chain [1] start processing\n",
      "17:41:47 - cmdstanpy - INFO - Chain [1] done processing\n",
      "17:41:47 - cmdstanpy - INFO - Chain [1] start processing\n",
      "17:41:51 - cmdstanpy - INFO - Chain [1] done processing\n",
      "17:41:52 - cmdstanpy - INFO - Chain [1] start processing\n",
      "17:41:52 - cmdstanpy - INFO - Chain [1] done processing\n",
      "17:41:53 - cmdstanpy - INFO - Chain [1] start processing\n",
      "17:41:53 - cmdstanpy - INFO - Chain [1] done processing\n",
      "17:41:53 - cmdstanpy - INFO - Chain [1] start processing\n",
      "17:41:53 - cmdstanpy - INFO - Chain [1] done processing\n",
      "17:41:54 - cmdstanpy - INFO - Chain [1] start processing\n",
      "17:41:54 - cmdstanpy - INFO - Chain [1] done processing\n",
      "17:41:54 - cmdstanpy - INFO - Chain [1] start processing\n",
      "17:41:54 - cmdstanpy - INFO - Chain [1] done processing\n",
      "17:41:55 - cmdstanpy - INFO - Chain [1] start processing\n",
      "17:41:55 - cmdstanpy - INFO - Chain [1] done processing\n",
      "17:41:55 - cmdstanpy - INFO - Chain [1] start processing\n"
     ]
    },
    {
     "name": "stdout",
     "output_type": "stream",
     "text": [
      "SAU - processed\n"
     ]
    },
    {
     "name": "stderr",
     "output_type": "stream",
     "text": [
      "17:41:56 - cmdstanpy - INFO - Chain [1] done processing\n",
      "17:41:56 - cmdstanpy - INFO - Chain [1] start processing\n",
      "17:41:56 - cmdstanpy - INFO - Chain [1] done processing\n",
      "17:41:57 - cmdstanpy - INFO - Chain [1] start processing\n",
      "17:41:57 - cmdstanpy - INFO - Chain [1] done processing\n",
      "17:41:57 - cmdstanpy - INFO - Chain [1] start processing\n",
      "17:41:57 - cmdstanpy - INFO - Chain [1] done processing\n",
      "17:41:58 - cmdstanpy - INFO - Chain [1] start processing\n",
      "17:41:58 - cmdstanpy - INFO - Chain [1] done processing\n",
      "17:41:58 - cmdstanpy - INFO - Chain [1] start processing\n",
      "17:41:58 - cmdstanpy - INFO - Chain [1] done processing\n",
      "17:41:59 - cmdstanpy - INFO - Chain [1] start processing\n",
      "17:41:59 - cmdstanpy - INFO - Chain [1] done processing\n",
      "17:41:59 - cmdstanpy - INFO - Chain [1] start processing\n",
      "17:41:59 - cmdstanpy - INFO - Chain [1] done processing\n",
      "17:42:00 - cmdstanpy - INFO - Chain [1] start processing\n"
     ]
    },
    {
     "name": "stdout",
     "output_type": "stream",
     "text": [
      "SDN - processed\n"
     ]
    },
    {
     "name": "stderr",
     "output_type": "stream",
     "text": [
      "17:42:01 - cmdstanpy - INFO - Chain [1] done processing\n",
      "17:42:02 - cmdstanpy - INFO - Chain [1] start processing\n",
      "17:42:04 - cmdstanpy - INFO - Chain [1] done processing\n",
      "17:42:05 - cmdstanpy - INFO - Chain [1] start processing\n",
      "17:42:05 - cmdstanpy - INFO - Chain [1] done processing\n",
      "17:42:05 - cmdstanpy - INFO - Chain [1] start processing\n",
      "17:42:05 - cmdstanpy - INFO - Chain [1] done processing\n",
      "17:42:06 - cmdstanpy - INFO - Chain [1] start processing\n",
      "17:42:06 - cmdstanpy - INFO - Chain [1] done processing\n",
      "17:42:06 - cmdstanpy - INFO - Chain [1] start processing\n",
      "17:42:07 - cmdstanpy - INFO - Chain [1] done processing\n",
      "17:42:07 - cmdstanpy - INFO - Chain [1] start processing\n",
      "17:42:07 - cmdstanpy - INFO - Chain [1] done processing\n",
      "17:42:07 - cmdstanpy - INFO - Chain [1] start processing\n",
      "17:42:07 - cmdstanpy - INFO - Chain [1] done processing\n",
      "17:42:08 - cmdstanpy - INFO - Chain [1] start processing\n"
     ]
    },
    {
     "name": "stdout",
     "output_type": "stream",
     "text": [
      "SEN - processed\n"
     ]
    },
    {
     "name": "stderr",
     "output_type": "stream",
     "text": [
      "17:42:10 - cmdstanpy - INFO - Chain [1] done processing\n",
      "17:42:10 - cmdstanpy - INFO - Chain [1] start processing\n",
      "17:42:13 - cmdstanpy - INFO - Chain [1] done processing\n",
      "17:42:13 - cmdstanpy - INFO - Chain [1] start processing\n",
      "17:42:13 - cmdstanpy - INFO - Chain [1] done processing\n",
      "17:42:14 - cmdstanpy - INFO - Chain [1] start processing\n",
      "17:42:14 - cmdstanpy - INFO - Chain [1] done processing\n",
      "17:42:14 - cmdstanpy - INFO - Chain [1] start processing\n",
      "17:42:14 - cmdstanpy - INFO - Chain [1] done processing\n",
      "17:42:15 - cmdstanpy - INFO - Chain [1] start processing\n",
      "17:42:15 - cmdstanpy - INFO - Chain [1] done processing\n",
      "17:42:15 - cmdstanpy - INFO - Chain [1] start processing\n",
      "17:42:15 - cmdstanpy - INFO - Chain [1] done processing\n",
      "17:42:16 - cmdstanpy - INFO - Chain [1] start processing\n",
      "17:42:16 - cmdstanpy - INFO - Chain [1] done processing\n",
      "17:42:16 - cmdstanpy - INFO - Chain [1] start processing\n"
     ]
    },
    {
     "name": "stdout",
     "output_type": "stream",
     "text": [
      "SGP - processed\n"
     ]
    },
    {
     "name": "stderr",
     "output_type": "stream",
     "text": [
      "17:42:17 - cmdstanpy - INFO - Chain [1] done processing\n",
      "17:42:19 - cmdstanpy - INFO - Chain [1] start processing\n"
     ]
    },
    {
     "name": "stdout",
     "output_type": "stream",
     "text": [
      "SLB - processed\n"
     ]
    },
    {
     "name": "stderr",
     "output_type": "stream",
     "text": [
      "17:42:20 - cmdstanpy - INFO - Chain [1] done processing\n",
      "17:42:20 - cmdstanpy - INFO - Chain [1] start processing\n",
      "17:42:20 - cmdstanpy - INFO - Chain [1] done processing\n",
      "17:42:21 - cmdstanpy - INFO - Chain [1] start processing\n",
      "17:42:21 - cmdstanpy - INFO - Chain [1] done processing\n",
      "17:42:22 - cmdstanpy - INFO - Chain [1] start processing\n",
      "17:42:22 - cmdstanpy - INFO - Chain [1] done processing\n",
      "17:42:23 - cmdstanpy - INFO - Chain [1] start processing\n",
      "17:42:23 - cmdstanpy - INFO - Chain [1] done processing\n",
      "17:42:23 - cmdstanpy - INFO - Chain [1] start processing\n",
      "17:42:24 - cmdstanpy - INFO - Chain [1] done processing\n",
      "17:42:24 - cmdstanpy - INFO - Chain [1] start processing\n",
      "17:42:24 - cmdstanpy - INFO - Chain [1] done processing\n",
      "17:42:24 - cmdstanpy - INFO - Chain [1] start processing\n",
      "17:42:25 - cmdstanpy - INFO - Chain [1] done processing\n",
      "17:42:25 - cmdstanpy - INFO - Chain [1] start processing\n"
     ]
    },
    {
     "name": "stdout",
     "output_type": "stream",
     "text": [
      "SLE - processed\n"
     ]
    },
    {
     "name": "stderr",
     "output_type": "stream",
     "text": [
      "17:42:25 - cmdstanpy - INFO - Chain [1] done processing\n",
      "17:42:26 - cmdstanpy - INFO - Chain [1] start processing\n",
      "17:42:26 - cmdstanpy - INFO - Chain [1] done processing\n",
      "17:42:26 - cmdstanpy - INFO - Chain [1] start processing\n",
      "17:42:26 - cmdstanpy - INFO - Chain [1] done processing\n",
      "17:42:27 - cmdstanpy - INFO - Chain [1] start processing\n",
      "17:42:27 - cmdstanpy - INFO - Chain [1] done processing\n",
      "17:42:27 - cmdstanpy - INFO - Chain [1] start processing\n",
      "17:42:27 - cmdstanpy - INFO - Chain [1] done processing\n",
      "17:42:28 - cmdstanpy - INFO - Chain [1] start processing\n",
      "17:42:28 - cmdstanpy - INFO - Chain [1] done processing\n",
      "17:42:28 - cmdstanpy - INFO - Chain [1] start processing\n",
      "17:42:28 - cmdstanpy - INFO - Chain [1] done processing\n",
      "17:42:29 - cmdstanpy - INFO - Chain [1] start processing\n",
      "17:42:29 - cmdstanpy - INFO - Chain [1] done processing\n",
      "17:42:29 - cmdstanpy - INFO - Chain [1] start processing\n"
     ]
    },
    {
     "name": "stdout",
     "output_type": "stream",
     "text": [
      "SLV - processed\n"
     ]
    },
    {
     "name": "stderr",
     "output_type": "stream",
     "text": [
      "17:42:31 - cmdstanpy - INFO - Chain [1] done processing\n",
      "17:42:32 - cmdstanpy - INFO - Chain [1] start processing\n",
      "17:42:34 - cmdstanpy - INFO - Chain [1] done processing\n",
      "17:42:34 - cmdstanpy - INFO - Chain [1] start processing\n",
      "17:42:34 - cmdstanpy - INFO - Chain [1] done processing\n",
      "17:42:35 - cmdstanpy - INFO - Chain [1] start processing\n",
      "17:42:35 - cmdstanpy - INFO - Chain [1] done processing\n",
      "17:42:35 - cmdstanpy - INFO - Chain [1] start processing\n",
      "17:42:35 - cmdstanpy - INFO - Chain [1] done processing\n",
      "17:42:36 - cmdstanpy - INFO - Chain [1] start processing\n",
      "17:42:36 - cmdstanpy - INFO - Chain [1] done processing\n",
      "17:42:36 - cmdstanpy - INFO - Chain [1] start processing\n",
      "17:42:37 - cmdstanpy - INFO - Chain [1] done processing\n",
      "17:42:38 - cmdstanpy - INFO - Chain [1] start processing\n"
     ]
    },
    {
     "name": "stdout",
     "output_type": "stream",
     "text": [
      "SRB - processed\n"
     ]
    },
    {
     "name": "stderr",
     "output_type": "stream",
     "text": [
      "17:42:38 - cmdstanpy - INFO - Chain [1] done processing\n"
     ]
    },
    {
     "name": "stdout",
     "output_type": "stream",
     "text": [
      "SSD - processed\n"
     ]
    },
    {
     "name": "stderr",
     "output_type": "stream",
     "text": [
      "17:42:40 - cmdstanpy - INFO - Chain [1] start processing\n",
      "17:42:42 - cmdstanpy - INFO - Chain [1] done processing\n",
      "17:42:42 - cmdstanpy - INFO - Chain [1] start processing\n",
      "17:42:42 - cmdstanpy - INFO - Chain [1] done processing\n",
      "17:42:43 - cmdstanpy - INFO - Chain [1] start processing\n",
      "17:42:43 - cmdstanpy - INFO - Chain [1] done processing\n",
      "17:42:43 - cmdstanpy - INFO - Chain [1] start processing\n",
      "17:42:43 - cmdstanpy - INFO - Chain [1] done processing\n",
      "17:42:44 - cmdstanpy - INFO - Chain [1] start processing\n",
      "17:42:44 - cmdstanpy - INFO - Chain [1] done processing\n",
      "17:42:44 - cmdstanpy - INFO - Chain [1] start processing\n",
      "17:42:44 - cmdstanpy - INFO - Chain [1] done processing\n",
      "17:42:45 - cmdstanpy - INFO - Chain [1] start processing\n",
      "17:42:45 - cmdstanpy - INFO - Chain [1] done processing\n"
     ]
    },
    {
     "name": "stdout",
     "output_type": "stream",
     "text": [
      "SSF - processed\n"
     ]
    },
    {
     "name": "stderr",
     "output_type": "stream",
     "text": [
      "17:42:45 - cmdstanpy - INFO - Chain [1] start processing\n",
      "17:42:48 - cmdstanpy - INFO - Chain [1] done processing\n",
      "17:42:48 - cmdstanpy - INFO - Chain [1] start processing\n",
      "17:42:48 - cmdstanpy - INFO - Chain [1] done processing\n",
      "17:42:49 - cmdstanpy - INFO - Chain [1] start processing\n",
      "17:42:49 - cmdstanpy - INFO - Chain [1] done processing\n",
      "17:42:49 - cmdstanpy - INFO - Chain [1] start processing\n",
      "17:42:49 - cmdstanpy - INFO - Chain [1] done processing\n",
      "17:42:50 - cmdstanpy - INFO - Chain [1] start processing\n",
      "17:42:50 - cmdstanpy - INFO - Chain [1] done processing\n",
      "17:42:50 - cmdstanpy - INFO - Chain [1] start processing\n",
      "17:42:50 - cmdstanpy - INFO - Chain [1] done processing\n",
      "17:42:51 - cmdstanpy - INFO - Chain [1] start processing\n",
      "17:42:51 - cmdstanpy - INFO - Chain [1] done processing\n"
     ]
    },
    {
     "name": "stdout",
     "output_type": "stream",
     "text": [
      "STP - processed\n"
     ]
    },
    {
     "name": "stderr",
     "output_type": "stream",
     "text": [
      "17:42:52 - cmdstanpy - INFO - Chain [1] start processing\n",
      "17:42:54 - cmdstanpy - INFO - Chain [1] done processing\n",
      "17:42:55 - cmdstanpy - INFO - Chain [1] start processing\n",
      "17:42:55 - cmdstanpy - INFO - Chain [1] done processing\n",
      "17:42:55 - cmdstanpy - INFO - Chain [1] start processing\n",
      "17:42:55 - cmdstanpy - INFO - Chain [1] done processing\n",
      "17:42:56 - cmdstanpy - INFO - Chain [1] start processing\n",
      "17:42:56 - cmdstanpy - INFO - Chain [1] done processing\n",
      "17:42:56 - cmdstanpy - INFO - Chain [1] start processing\n",
      "17:42:56 - cmdstanpy - INFO - Chain [1] done processing\n",
      "17:42:57 - cmdstanpy - INFO - Chain [1] start processing\n",
      "17:42:57 - cmdstanpy - INFO - Chain [1] done processing\n",
      "17:42:57 - cmdstanpy - INFO - Chain [1] start processing\n",
      "17:42:57 - cmdstanpy - INFO - Chain [1] done processing\n",
      "17:42:58 - cmdstanpy - INFO - Chain [1] start processing\n"
     ]
    },
    {
     "name": "stdout",
     "output_type": "stream",
     "text": [
      "SUR - processed\n"
     ]
    },
    {
     "name": "stderr",
     "output_type": "stream",
     "text": [
      "17:43:00 - cmdstanpy - INFO - Chain [1] done processing\n",
      "17:43:00 - cmdstanpy - INFO - Chain [1] start processing\n",
      "17:43:00 - cmdstanpy - INFO - Chain [1] done processing\n",
      "17:43:01 - cmdstanpy - INFO - Chain [1] start processing\n",
      "17:43:01 - cmdstanpy - INFO - Chain [1] done processing\n",
      "17:43:01 - cmdstanpy - INFO - Chain [1] start processing\n",
      "17:43:03 - cmdstanpy - INFO - Chain [1] done processing\n",
      "17:43:04 - cmdstanpy - INFO - Chain [1] start processing\n",
      "17:43:04 - cmdstanpy - INFO - Chain [1] done processing\n",
      "17:43:04 - cmdstanpy - INFO - Chain [1] start processing\n",
      "17:43:04 - cmdstanpy - INFO - Chain [1] done processing\n",
      "17:43:05 - cmdstanpy - INFO - Chain [1] start processing\n",
      "17:43:05 - cmdstanpy - INFO - Chain [1] done processing\n",
      "17:43:05 - cmdstanpy - INFO - Chain [1] start processing\n",
      "17:43:05 - cmdstanpy - INFO - Chain [1] done processing\n",
      "17:43:06 - cmdstanpy - INFO - Chain [1] start processing\n",
      "17:43:06 - cmdstanpy - INFO - Chain [1] done processing\n",
      "17:43:07 - cmdstanpy - INFO - Chain [1] start processing\n"
     ]
    },
    {
     "name": "stdout",
     "output_type": "stream",
     "text": [
      "SVK - processed\n"
     ]
    },
    {
     "name": "stderr",
     "output_type": "stream",
     "text": [
      "17:43:09 - cmdstanpy - INFO - Chain [1] done processing\n",
      "17:43:09 - cmdstanpy - INFO - Chain [1] start processing\n",
      "17:43:09 - cmdstanpy - INFO - Chain [1] done processing\n",
      "17:43:10 - cmdstanpy - INFO - Chain [1] start processing\n",
      "17:43:10 - cmdstanpy - INFO - Chain [1] done processing\n",
      "17:43:10 - cmdstanpy - INFO - Chain [1] start processing\n",
      "17:43:12 - cmdstanpy - INFO - Chain [1] done processing\n",
      "17:43:13 - cmdstanpy - INFO - Chain [1] start processing\n",
      "17:43:13 - cmdstanpy - INFO - Chain [1] done processing\n",
      "17:43:14 - cmdstanpy - INFO - Chain [1] start processing\n",
      "17:43:14 - cmdstanpy - INFO - Chain [1] done processing\n",
      "17:43:14 - cmdstanpy - INFO - Chain [1] start processing\n",
      "17:43:14 - cmdstanpy - INFO - Chain [1] done processing\n",
      "17:43:15 - cmdstanpy - INFO - Chain [1] start processing\n",
      "17:43:15 - cmdstanpy - INFO - Chain [1] done processing\n",
      "17:43:15 - cmdstanpy - INFO - Chain [1] start processing\n",
      "17:43:15 - cmdstanpy - INFO - Chain [1] done processing\n",
      "17:43:16 - cmdstanpy - INFO - Chain [1] start processing\n",
      "17:43:16 - cmdstanpy - INFO - Chain [1] done processing\n",
      "17:43:16 - cmdstanpy - INFO - Chain [1] start processing\n"
     ]
    },
    {
     "name": "stdout",
     "output_type": "stream",
     "text": [
      "SVN - processed\n"
     ]
    },
    {
     "name": "stderr",
     "output_type": "stream",
     "text": [
      "17:43:18 - cmdstanpy - INFO - Chain [1] done processing\n",
      "17:43:19 - cmdstanpy - INFO - Chain [1] start processing\n",
      "17:43:19 - cmdstanpy - INFO - Chain [1] done processing\n",
      "17:43:20 - cmdstanpy - INFO - Chain [1] start processing\n",
      "17:43:20 - cmdstanpy - INFO - Chain [1] done processing\n",
      "17:43:20 - cmdstanpy - INFO - Chain [1] start processing\n",
      "17:43:22 - cmdstanpy - INFO - Chain [1] done processing\n",
      "17:43:23 - cmdstanpy - INFO - Chain [1] start processing\n",
      "17:43:23 - cmdstanpy - INFO - Chain [1] done processing\n",
      "17:43:23 - cmdstanpy - INFO - Chain [1] start processing\n",
      "17:43:23 - cmdstanpy - INFO - Chain [1] done processing\n",
      "17:43:24 - cmdstanpy - INFO - Chain [1] start processing\n",
      "17:43:24 - cmdstanpy - INFO - Chain [1] done processing\n",
      "17:43:24 - cmdstanpy - INFO - Chain [1] start processing\n",
      "17:43:25 - cmdstanpy - INFO - Chain [1] done processing\n",
      "17:43:25 - cmdstanpy - INFO - Chain [1] start processing\n",
      "17:43:25 - cmdstanpy - INFO - Chain [1] done processing\n",
      "17:43:25 - cmdstanpy - INFO - Chain [1] start processing\n",
      "17:43:26 - cmdstanpy - INFO - Chain [1] done processing\n",
      "17:43:26 - cmdstanpy - INFO - Chain [1] start processing\n",
      "17:43:26 - cmdstanpy - INFO - Chain [1] done processing\n"
     ]
    },
    {
     "name": "stdout",
     "output_type": "stream",
     "text": [
      "SWE - processed\n"
     ]
    },
    {
     "name": "stderr",
     "output_type": "stream",
     "text": [
      "17:43:27 - cmdstanpy - INFO - Chain [1] start processing\n",
      "17:43:29 - cmdstanpy - INFO - Chain [1] done processing\n",
      "17:43:29 - cmdstanpy - INFO - Chain [1] start processing\n",
      "17:43:29 - cmdstanpy - INFO - Chain [1] done processing\n",
      "17:43:30 - cmdstanpy - INFO - Chain [1] start processing\n",
      "17:43:30 - cmdstanpy - INFO - Chain [1] done processing\n",
      "17:43:30 - cmdstanpy - INFO - Chain [1] start processing\n",
      "17:43:30 - cmdstanpy - INFO - Chain [1] done processing\n",
      "17:43:31 - cmdstanpy - INFO - Chain [1] start processing\n",
      "17:43:31 - cmdstanpy - INFO - Chain [1] done processing\n",
      "17:43:31 - cmdstanpy - INFO - Chain [1] start processing\n",
      "17:43:31 - cmdstanpy - INFO - Chain [1] done processing\n",
      "17:43:32 - cmdstanpy - INFO - Chain [1] start processing\n",
      "17:43:32 - cmdstanpy - INFO - Chain [1] done processing\n"
     ]
    },
    {
     "name": "stdout",
     "output_type": "stream",
     "text": [
      "SWZ - processed\n"
     ]
    },
    {
     "name": "stderr",
     "output_type": "stream",
     "text": [
      "17:43:33 - cmdstanpy - INFO - Chain [1] start processing\n",
      "17:43:33 - cmdstanpy - INFO - Chain [1] done processing\n",
      "17:43:33 - cmdstanpy - INFO - Chain [1] start processing\n",
      "17:43:33 - cmdstanpy - INFO - Chain [1] done processing\n",
      "17:43:34 - cmdstanpy - INFO - Chain [1] start processing\n",
      "17:43:34 - cmdstanpy - INFO - Chain [1] done processing\n",
      "17:43:34 - cmdstanpy - INFO - Chain [1] start processing\n",
      "17:43:34 - cmdstanpy - INFO - Chain [1] done processing\n",
      "17:43:35 - cmdstanpy - INFO - Chain [1] start processing\n",
      "17:43:35 - cmdstanpy - INFO - Chain [1] done processing\n",
      "17:43:35 - cmdstanpy - INFO - Chain [1] start processing\n",
      "17:43:35 - cmdstanpy - INFO - Chain [1] done processing\n",
      "17:43:36 - cmdstanpy - INFO - Chain [1] start processing\n",
      "17:43:36 - cmdstanpy - INFO - Chain [1] done processing\n",
      "17:43:36 - cmdstanpy - INFO - Chain [1] start processing\n",
      "17:43:36 - cmdstanpy - INFO - Chain [1] done processing\n"
     ]
    },
    {
     "name": "stdout",
     "output_type": "stream",
     "text": [
      "SXM - processed\n"
     ]
    },
    {
     "name": "stderr",
     "output_type": "stream",
     "text": [
      "17:43:37 - cmdstanpy - INFO - Chain [1] start processing\n",
      "17:43:41 - cmdstanpy - INFO - Chain [1] done processing\n",
      "17:43:42 - cmdstanpy - INFO - Chain [1] start processing\n",
      "17:43:42 - cmdstanpy - INFO - Chain [1] done processing\n",
      "17:43:42 - cmdstanpy - INFO - Chain [1] start processing\n",
      "17:43:43 - cmdstanpy - INFO - Chain [1] done processing\n",
      "17:43:43 - cmdstanpy - INFO - Chain [1] start processing\n",
      "17:43:43 - cmdstanpy - INFO - Chain [1] done processing\n",
      "17:43:44 - cmdstanpy - INFO - Chain [1] start processing\n",
      "17:43:44 - cmdstanpy - INFO - Chain [1] done processing\n",
      "17:43:44 - cmdstanpy - INFO - Chain [1] start processing\n",
      "17:43:44 - cmdstanpy - INFO - Chain [1] done processing\n",
      "17:43:45 - cmdstanpy - INFO - Chain [1] start processing\n",
      "17:43:45 - cmdstanpy - INFO - Chain [1] done processing\n"
     ]
    },
    {
     "name": "stdout",
     "output_type": "stream",
     "text": [
      "SYC - processed\n",
      "SYR - processed\n"
     ]
    },
    {
     "name": "stderr",
     "output_type": "stream",
     "text": [
      "17:43:47 - cmdstanpy - INFO - Chain [1] start processing\n",
      "17:43:50 - cmdstanpy - INFO - Chain [1] done processing\n",
      "17:43:50 - cmdstanpy - INFO - Chain [1] start processing\n",
      "17:43:51 - cmdstanpy - INFO - Chain [1] done processing\n",
      "17:43:51 - cmdstanpy - INFO - Chain [1] start processing\n",
      "17:43:51 - cmdstanpy - INFO - Chain [1] done processing\n",
      "17:43:52 - cmdstanpy - INFO - Chain [1] start processing\n",
      "17:43:52 - cmdstanpy - INFO - Chain [1] done processing\n",
      "17:43:52 - cmdstanpy - INFO - Chain [1] start processing\n",
      "17:43:53 - cmdstanpy - INFO - Chain [1] done processing\n",
      "17:43:53 - cmdstanpy - INFO - Chain [1] start processing\n",
      "17:43:53 - cmdstanpy - INFO - Chain [1] done processing\n",
      "17:43:54 - cmdstanpy - INFO - Chain [1] start processing\n",
      "17:43:54 - cmdstanpy - INFO - Chain [1] done processing\n",
      "17:43:54 - cmdstanpy - INFO - Chain [1] start processing\n"
     ]
    },
    {
     "name": "stdout",
     "output_type": "stream",
     "text": [
      "TCA - processed\n"
     ]
    },
    {
     "name": "stderr",
     "output_type": "stream",
     "text": [
      "17:43:56 - cmdstanpy - INFO - Chain [1] done processing\n",
      "17:43:57 - cmdstanpy - INFO - Chain [1] start processing\n",
      "17:43:57 - cmdstanpy - INFO - Chain [1] done processing\n",
      "17:43:57 - cmdstanpy - INFO - Chain [1] start processing\n",
      "17:43:57 - cmdstanpy - INFO - Chain [1] done processing\n",
      "17:43:58 - cmdstanpy - INFO - Chain [1] start processing\n",
      "17:43:58 - cmdstanpy - INFO - Chain [1] done processing\n",
      "17:43:58 - cmdstanpy - INFO - Chain [1] start processing\n",
      "17:43:58 - cmdstanpy - INFO - Chain [1] done processing\n",
      "17:43:59 - cmdstanpy - INFO - Chain [1] start processing\n",
      "17:43:59 - cmdstanpy - INFO - Chain [1] done processing\n",
      "17:43:59 - cmdstanpy - INFO - Chain [1] start processing\n",
      "17:43:59 - cmdstanpy - INFO - Chain [1] done processing\n",
      "17:44:00 - cmdstanpy - INFO - Chain [1] start processing\n",
      "17:44:00 - cmdstanpy - INFO - Chain [1] done processing\n",
      "17:44:00 - cmdstanpy - INFO - Chain [1] start processing\n"
     ]
    },
    {
     "name": "stdout",
     "output_type": "stream",
     "text": [
      "TCD - processed\n"
     ]
    },
    {
     "name": "stderr",
     "output_type": "stream",
     "text": [
      "17:44:02 - cmdstanpy - INFO - Chain [1] done processing\n",
      "17:44:03 - cmdstanpy - INFO - Chain [1] start processing\n",
      "17:44:03 - cmdstanpy - INFO - Chain [1] done processing\n",
      "17:44:04 - cmdstanpy - INFO - Chain [1] start processing\n",
      "17:44:04 - cmdstanpy - INFO - Chain [1] done processing\n",
      "17:44:04 - cmdstanpy - INFO - Chain [1] start processing\n",
      "17:44:04 - cmdstanpy - INFO - Chain [1] done processing\n",
      "17:44:05 - cmdstanpy - INFO - Chain [1] start processing\n",
      "17:44:05 - cmdstanpy - INFO - Chain [1] done processing\n",
      "17:44:05 - cmdstanpy - INFO - Chain [1] start processing\n",
      "17:44:05 - cmdstanpy - INFO - Chain [1] done processing\n",
      "17:44:06 - cmdstanpy - INFO - Chain [1] start processing\n",
      "17:44:06 - cmdstanpy - INFO - Chain [1] done processing\n",
      "17:44:06 - cmdstanpy - INFO - Chain [1] start processing\n",
      "17:44:06 - cmdstanpy - INFO - Chain [1] done processing\n",
      "17:44:07 - cmdstanpy - INFO - Chain [1] start processing\n"
     ]
    },
    {
     "name": "stdout",
     "output_type": "stream",
     "text": [
      "TGO - processed\n"
     ]
    },
    {
     "name": "stderr",
     "output_type": "stream",
     "text": [
      "17:44:07 - cmdstanpy - INFO - Chain [1] done processing\n",
      "17:44:07 - cmdstanpy - INFO - Chain [1] start processing\n",
      "17:44:12 - cmdstanpy - INFO - Chain [1] done processing\n",
      "17:44:12 - cmdstanpy - INFO - Chain [1] start processing\n",
      "17:44:12 - cmdstanpy - INFO - Chain [1] done processing\n",
      "17:44:12 - cmdstanpy - INFO - Chain [1] start processing\n",
      "17:44:13 - cmdstanpy - INFO - Chain [1] done processing\n",
      "17:44:13 - cmdstanpy - INFO - Chain [1] start processing\n",
      "17:44:13 - cmdstanpy - INFO - Chain [1] done processing\n",
      "17:44:13 - cmdstanpy - INFO - Chain [1] start processing\n",
      "17:44:14 - cmdstanpy - INFO - Chain [1] done processing\n",
      "17:44:14 - cmdstanpy - INFO - Chain [1] start processing\n",
      "17:44:14 - cmdstanpy - INFO - Chain [1] done processing\n",
      "17:44:15 - cmdstanpy - INFO - Chain [1] start processing\n",
      "17:44:15 - cmdstanpy - INFO - Chain [1] done processing\n",
      "17:44:15 - cmdstanpy - INFO - Chain [1] start processing\n"
     ]
    },
    {
     "name": "stdout",
     "output_type": "stream",
     "text": [
      "THA - processed\n"
     ]
    },
    {
     "name": "stderr",
     "output_type": "stream",
     "text": [
      "17:44:15 - cmdstanpy - INFO - Chain [1] done processing\n",
      "17:44:16 - cmdstanpy - INFO - Chain [1] start processing\n",
      "17:44:16 - cmdstanpy - INFO - Chain [1] done processing\n",
      "17:44:16 - cmdstanpy - INFO - Chain [1] start processing\n",
      "17:44:16 - cmdstanpy - INFO - Chain [1] done processing\n",
      "17:44:17 - cmdstanpy - INFO - Chain [1] start processing\n",
      "17:44:17 - cmdstanpy - INFO - Chain [1] done processing\n",
      "17:44:17 - cmdstanpy - INFO - Chain [1] start processing\n",
      "17:44:17 - cmdstanpy - INFO - Chain [1] done processing\n",
      "17:44:18 - cmdstanpy - INFO - Chain [1] start processing\n",
      "17:44:18 - cmdstanpy - INFO - Chain [1] done processing\n",
      "17:44:18 - cmdstanpy - INFO - Chain [1] start processing\n",
      "17:44:18 - cmdstanpy - INFO - Chain [1] done processing\n",
      "17:44:19 - cmdstanpy - INFO - Chain [1] start processing\n",
      "17:44:19 - cmdstanpy - INFO - Chain [1] done processing\n"
     ]
    },
    {
     "name": "stdout",
     "output_type": "stream",
     "text": [
      "TJK - processed\n"
     ]
    },
    {
     "name": "stderr",
     "output_type": "stream",
     "text": [
      "17:44:20 - cmdstanpy - INFO - Chain [1] start processing\n",
      "17:44:20 - cmdstanpy - INFO - Chain [1] done processing\n"
     ]
    },
    {
     "name": "stdout",
     "output_type": "stream",
     "text": [
      "TKM - processed\n"
     ]
    },
    {
     "name": "stderr",
     "output_type": "stream",
     "text": [
      "17:44:21 - cmdstanpy - INFO - Chain [1] start processing\n"
     ]
    },
    {
     "name": "stdout",
     "output_type": "stream",
     "text": [
      "TLS - processed\n"
     ]
    },
    {
     "name": "stderr",
     "output_type": "stream",
     "text": [
      "17:44:23 - cmdstanpy - INFO - Chain [1] done processing\n",
      "17:44:24 - cmdstanpy - INFO - Chain [1] start processing\n",
      "17:44:24 - cmdstanpy - INFO - Chain [1] done processing\n"
     ]
    },
    {
     "name": "stdout",
     "output_type": "stream",
     "text": [
      "TON - processed\n"
     ]
    },
    {
     "name": "stderr",
     "output_type": "stream",
     "text": [
      "17:44:25 - cmdstanpy - INFO - Chain [1] start processing\n",
      "17:44:27 - cmdstanpy - INFO - Chain [1] done processing\n",
      "17:44:28 - cmdstanpy - INFO - Chain [1] start processing\n",
      "17:44:28 - cmdstanpy - INFO - Chain [1] done processing\n",
      "17:44:28 - cmdstanpy - INFO - Chain [1] start processing\n",
      "17:44:28 - cmdstanpy - INFO - Chain [1] done processing\n",
      "17:44:29 - cmdstanpy - INFO - Chain [1] start processing\n",
      "17:44:29 - cmdstanpy - INFO - Chain [1] done processing\n",
      "17:44:29 - cmdstanpy - INFO - Chain [1] start processing\n",
      "17:44:29 - cmdstanpy - INFO - Chain [1] done processing\n",
      "17:44:30 - cmdstanpy - INFO - Chain [1] start processing\n",
      "17:44:30 - cmdstanpy - INFO - Chain [1] done processing\n",
      "17:44:30 - cmdstanpy - INFO - Chain [1] start processing\n",
      "17:44:30 - cmdstanpy - INFO - Chain [1] done processing\n",
      "17:44:31 - cmdstanpy - INFO - Chain [1] start processing\n"
     ]
    },
    {
     "name": "stdout",
     "output_type": "stream",
     "text": [
      "TTO - processed\n"
     ]
    },
    {
     "name": "stderr",
     "output_type": "stream",
     "text": [
      "17:44:31 - cmdstanpy - INFO - Chain [1] done processing\n",
      "17:44:32 - cmdstanpy - INFO - Chain [1] start processing\n",
      "17:44:35 - cmdstanpy - INFO - Chain [1] done processing\n",
      "17:44:36 - cmdstanpy - INFO - Chain [1] start processing\n",
      "17:44:36 - cmdstanpy - INFO - Chain [1] done processing\n",
      "17:44:36 - cmdstanpy - INFO - Chain [1] start processing\n",
      "17:44:36 - cmdstanpy - INFO - Chain [1] done processing\n",
      "17:44:37 - cmdstanpy - INFO - Chain [1] start processing\n",
      "17:44:37 - cmdstanpy - INFO - Chain [1] done processing\n",
      "17:44:37 - cmdstanpy - INFO - Chain [1] start processing\n",
      "17:44:37 - cmdstanpy - INFO - Chain [1] done processing\n",
      "17:44:38 - cmdstanpy - INFO - Chain [1] start processing\n",
      "17:44:38 - cmdstanpy - INFO - Chain [1] done processing\n",
      "17:44:38 - cmdstanpy - INFO - Chain [1] start processing\n",
      "17:44:38 - cmdstanpy - INFO - Chain [1] done processing\n",
      "17:44:39 - cmdstanpy - INFO - Chain [1] start processing\n"
     ]
    },
    {
     "name": "stdout",
     "output_type": "stream",
     "text": [
      "TUN - processed\n"
     ]
    },
    {
     "name": "stderr",
     "output_type": "stream",
     "text": [
      "17:44:42 - cmdstanpy - INFO - Chain [1] done processing\n",
      "17:44:42 - cmdstanpy - INFO - Chain [1] start processing\n",
      "17:44:42 - cmdstanpy - INFO - Chain [1] done processing\n",
      "17:44:43 - cmdstanpy - INFO - Chain [1] start processing\n",
      "17:44:43 - cmdstanpy - INFO - Chain [1] done processing\n",
      "17:44:43 - cmdstanpy - INFO - Chain [1] start processing\n",
      "17:44:46 - cmdstanpy - INFO - Chain [1] done processing\n",
      "17:44:47 - cmdstanpy - INFO - Chain [1] start processing\n",
      "17:44:47 - cmdstanpy - INFO - Chain [1] done processing\n",
      "17:44:47 - cmdstanpy - INFO - Chain [1] start processing\n",
      "17:44:48 - cmdstanpy - INFO - Chain [1] done processing\n",
      "17:44:48 - cmdstanpy - INFO - Chain [1] start processing\n",
      "17:44:48 - cmdstanpy - INFO - Chain [1] done processing\n",
      "17:44:48 - cmdstanpy - INFO - Chain [1] start processing\n",
      "17:44:49 - cmdstanpy - INFO - Chain [1] done processing\n",
      "17:44:49 - cmdstanpy - INFO - Chain [1] start processing\n",
      "17:44:49 - cmdstanpy - INFO - Chain [1] done processing\n",
      "17:44:50 - cmdstanpy - INFO - Chain [1] start processing\n",
      "17:44:50 - cmdstanpy - INFO - Chain [1] done processing\n"
     ]
    },
    {
     "name": "stdout",
     "output_type": "stream",
     "text": [
      "TUR - processed\n"
     ]
    },
    {
     "name": "stderr",
     "output_type": "stream",
     "text": [
      "17:44:50 - cmdstanpy - INFO - Chain [1] start processing\n",
      "17:44:50 - cmdstanpy - INFO - Chain [1] done processing\n",
      "17:44:51 - cmdstanpy - INFO - Chain [1] start processing\n",
      "17:44:51 - cmdstanpy - INFO - Chain [1] done processing\n",
      "17:44:51 - cmdstanpy - INFO - Chain [1] start processing\n",
      "17:44:51 - cmdstanpy - INFO - Chain [1] done processing\n",
      "17:44:52 - cmdstanpy - INFO - Chain [1] start processing\n",
      "17:44:52 - cmdstanpy - INFO - Chain [1] done processing\n",
      "17:44:52 - cmdstanpy - INFO - Chain [1] start processing\n",
      "17:44:52 - cmdstanpy - INFO - Chain [1] done processing\n",
      "17:44:53 - cmdstanpy - INFO - Chain [1] start processing\n",
      "17:44:53 - cmdstanpy - INFO - Chain [1] done processing\n",
      "17:44:53 - cmdstanpy - INFO - Chain [1] start processing\n",
      "17:44:54 - cmdstanpy - INFO - Chain [1] done processing\n",
      "17:44:54 - cmdstanpy - INFO - Chain [1] start processing\n"
     ]
    },
    {
     "name": "stdout",
     "output_type": "stream",
     "text": [
      "TWN - processed\n"
     ]
    },
    {
     "name": "stderr",
     "output_type": "stream",
     "text": [
      "17:44:54 - cmdstanpy - INFO - Chain [1] done processing\n",
      "17:44:55 - cmdstanpy - INFO - Chain [1] start processing\n",
      "17:44:58 - cmdstanpy - INFO - Chain [1] done processing\n",
      "17:44:59 - cmdstanpy - INFO - Chain [1] start processing\n",
      "17:44:59 - cmdstanpy - INFO - Chain [1] done processing\n",
      "17:44:59 - cmdstanpy - INFO - Chain [1] start processing\n",
      "17:44:59 - cmdstanpy - INFO - Chain [1] done processing\n",
      "17:45:00 - cmdstanpy - INFO - Chain [1] start processing\n",
      "17:45:00 - cmdstanpy - INFO - Chain [1] done processing\n",
      "17:45:00 - cmdstanpy - INFO - Chain [1] start processing\n",
      "17:45:00 - cmdstanpy - INFO - Chain [1] done processing\n",
      "17:45:01 - cmdstanpy - INFO - Chain [1] start processing\n",
      "17:45:01 - cmdstanpy - INFO - Chain [1] done processing\n",
      "17:45:01 - cmdstanpy - INFO - Chain [1] start processing\n",
      "17:45:01 - cmdstanpy - INFO - Chain [1] done processing\n",
      "17:45:02 - cmdstanpy - INFO - Chain [1] start processing\n"
     ]
    },
    {
     "name": "stdout",
     "output_type": "stream",
     "text": [
      "TZA - processed\n"
     ]
    },
    {
     "name": "stderr",
     "output_type": "stream",
     "text": [
      "17:45:04 - cmdstanpy - INFO - Chain [1] done processing\n",
      "17:45:04 - cmdstanpy - INFO - Chain [1] start processing\n",
      "17:45:09 - cmdstanpy - INFO - Chain [1] done processing\n",
      "17:45:09 - cmdstanpy - INFO - Chain [1] start processing\n",
      "17:45:09 - cmdstanpy - INFO - Chain [1] done processing\n",
      "17:45:10 - cmdstanpy - INFO - Chain [1] start processing\n",
      "17:45:10 - cmdstanpy - INFO - Chain [1] done processing\n",
      "17:45:10 - cmdstanpy - INFO - Chain [1] start processing\n",
      "17:45:10 - cmdstanpy - INFO - Chain [1] done processing\n",
      "17:45:11 - cmdstanpy - INFO - Chain [1] start processing\n",
      "17:45:11 - cmdstanpy - INFO - Chain [1] done processing\n",
      "17:45:11 - cmdstanpy - INFO - Chain [1] start processing\n",
      "17:45:11 - cmdstanpy - INFO - Chain [1] done processing\n",
      "17:45:12 - cmdstanpy - INFO - Chain [1] start processing\n",
      "17:45:12 - cmdstanpy - INFO - Chain [1] done processing\n",
      "17:45:13 - cmdstanpy - INFO - Chain [1] start processing\n"
     ]
    },
    {
     "name": "stdout",
     "output_type": "stream",
     "text": [
      "UGA - processed\n"
     ]
    },
    {
     "name": "stderr",
     "output_type": "stream",
     "text": [
      "17:45:13 - cmdstanpy - INFO - Chain [1] done processing\n"
     ]
    },
    {
     "name": "stdout",
     "output_type": "stream",
     "text": [
      "UKR - processed\n"
     ]
    },
    {
     "name": "stderr",
     "output_type": "stream",
     "text": [
      "17:45:14 - cmdstanpy - INFO - Chain [1] start processing\n",
      "17:45:14 - cmdstanpy - INFO - Chain [1] done processing\n",
      "17:45:15 - cmdstanpy - INFO - Chain [1] start processing\n",
      "17:45:15 - cmdstanpy - INFO - Chain [1] done processing\n",
      "17:45:15 - cmdstanpy - INFO - Chain [1] start processing\n",
      "17:45:15 - cmdstanpy - INFO - Chain [1] done processing\n",
      "17:45:16 - cmdstanpy - INFO - Chain [1] start processing\n",
      "17:45:16 - cmdstanpy - INFO - Chain [1] done processing\n",
      "17:45:16 - cmdstanpy - INFO - Chain [1] start processing\n",
      "17:45:16 - cmdstanpy - INFO - Chain [1] done processing\n",
      "17:45:17 - cmdstanpy - INFO - Chain [1] start processing\n",
      "17:45:17 - cmdstanpy - INFO - Chain [1] done processing\n",
      "17:45:18 - cmdstanpy - INFO - Chain [1] start processing\n",
      "17:45:18 - cmdstanpy - INFO - Chain [1] done processing\n",
      "17:45:18 - cmdstanpy - INFO - Chain [1] start processing\n"
     ]
    },
    {
     "name": "stdout",
     "output_type": "stream",
     "text": [
      "UMC - processed\n"
     ]
    },
    {
     "name": "stderr",
     "output_type": "stream",
     "text": [
      "17:45:19 - cmdstanpy - INFO - Chain [1] done processing\n",
      "17:45:20 - cmdstanpy - INFO - Chain [1] start processing\n",
      "17:45:20 - cmdstanpy - INFO - Chain [1] done processing\n",
      "17:45:20 - cmdstanpy - INFO - Chain [1] start processing\n",
      "17:45:20 - cmdstanpy - INFO - Chain [1] done processing\n",
      "17:45:21 - cmdstanpy - INFO - Chain [1] start processing\n",
      "17:45:21 - cmdstanpy - INFO - Chain [1] done processing\n",
      "17:45:21 - cmdstanpy - INFO - Chain [1] start processing\n",
      "17:45:21 - cmdstanpy - INFO - Chain [1] done processing\n",
      "17:45:22 - cmdstanpy - INFO - Chain [1] start processing\n",
      "17:45:22 - cmdstanpy - INFO - Chain [1] done processing\n",
      "17:45:22 - cmdstanpy - INFO - Chain [1] start processing\n",
      "17:45:22 - cmdstanpy - INFO - Chain [1] done processing\n",
      "17:45:23 - cmdstanpy - INFO - Chain [1] start processing\n",
      "17:45:23 - cmdstanpy - INFO - Chain [1] done processing\n",
      "17:45:23 - cmdstanpy - INFO - Chain [1] start processing\n",
      "17:45:23 - cmdstanpy - INFO - Chain [1] done processing\n"
     ]
    },
    {
     "name": "stdout",
     "output_type": "stream",
     "text": [
      "URY - processed\n"
     ]
    },
    {
     "name": "stderr",
     "output_type": "stream",
     "text": [
      "17:45:24 - cmdstanpy - INFO - Chain [1] start processing\n",
      "17:45:24 - cmdstanpy - INFO - Chain [1] done processing\n",
      "17:45:24 - cmdstanpy - INFO - Chain [1] start processing\n",
      "17:45:24 - cmdstanpy - INFO - Chain [1] done processing\n",
      "17:45:25 - cmdstanpy - INFO - Chain [1] start processing\n",
      "17:45:29 - cmdstanpy - INFO - Chain [1] done processing\n",
      "17:45:30 - cmdstanpy - INFO - Chain [1] start processing\n",
      "17:45:30 - cmdstanpy - INFO - Chain [1] done processing\n",
      "17:45:30 - cmdstanpy - INFO - Chain [1] start processing\n",
      "17:45:30 - cmdstanpy - INFO - Chain [1] done processing\n",
      "17:45:31 - cmdstanpy - INFO - Chain [1] start processing\n",
      "17:45:31 - cmdstanpy - INFO - Chain [1] done processing\n",
      "17:45:31 - cmdstanpy - INFO - Chain [1] start processing\n",
      "17:45:31 - cmdstanpy - INFO - Chain [1] done processing\n",
      "17:45:32 - cmdstanpy - INFO - Chain [1] start processing\n",
      "17:45:32 - cmdstanpy - INFO - Chain [1] done processing\n",
      "17:45:32 - cmdstanpy - INFO - Chain [1] start processing\n",
      "17:45:32 - cmdstanpy - INFO - Chain [1] done processing\n"
     ]
    },
    {
     "name": "stdout",
     "output_type": "stream",
     "text": [
      "USA - processed\n",
      "UZB - processed\n",
      "VCT - errored\n",
      "VEN - processed\n"
     ]
    },
    {
     "name": "stderr",
     "output_type": "stream",
     "text": [
      "17:45:35 - cmdstanpy - INFO - Chain [1] start processing\n",
      "17:45:35 - cmdstanpy - INFO - Chain [1] done processing\n",
      "17:45:35 - cmdstanpy - INFO - Chain [1] start processing\n",
      "17:45:35 - cmdstanpy - INFO - Chain [1] done processing\n",
      "17:45:36 - cmdstanpy - INFO - Chain [1] start processing\n",
      "17:45:36 - cmdstanpy - INFO - Chain [1] done processing\n",
      "17:45:36 - cmdstanpy - INFO - Chain [1] start processing\n",
      "17:45:36 - cmdstanpy - INFO - Chain [1] done processing\n",
      "17:45:37 - cmdstanpy - INFO - Chain [1] start processing\n",
      "17:45:37 - cmdstanpy - INFO - Chain [1] done processing\n",
      "17:45:37 - cmdstanpy - INFO - Chain [1] start processing\n",
      "17:45:37 - cmdstanpy - INFO - Chain [1] done processing\n",
      "17:45:38 - cmdstanpy - INFO - Chain [1] start processing\n",
      "17:45:38 - cmdstanpy - INFO - Chain [1] done processing\n",
      "17:45:38 - cmdstanpy - INFO - Chain [1] start processing\n",
      "17:45:38 - cmdstanpy - INFO - Chain [1] done processing\n"
     ]
    },
    {
     "name": "stdout",
     "output_type": "stream",
     "text": [
      "VGB - processed\n"
     ]
    },
    {
     "name": "stderr",
     "output_type": "stream",
     "text": [
      "17:45:39 - cmdstanpy - INFO - Chain [1] start processing\n",
      "17:45:42 - cmdstanpy - INFO - Chain [1] done processing\n",
      "17:45:42 - cmdstanpy - INFO - Chain [1] start processing\n",
      "17:45:42 - cmdstanpy - INFO - Chain [1] done processing\n",
      "17:45:43 - cmdstanpy - INFO - Chain [1] start processing\n",
      "17:45:43 - cmdstanpy - INFO - Chain [1] done processing\n",
      "17:45:43 - cmdstanpy - INFO - Chain [1] start processing\n",
      "17:45:43 - cmdstanpy - INFO - Chain [1] done processing\n",
      "17:45:43 - cmdstanpy - INFO - Chain [1] start processing\n",
      "17:45:44 - cmdstanpy - INFO - Chain [1] done processing\n",
      "17:45:44 - cmdstanpy - INFO - Chain [1] start processing\n",
      "17:45:44 - cmdstanpy - INFO - Chain [1] done processing\n",
      "17:45:45 - cmdstanpy - INFO - Chain [1] start processing\n",
      "17:45:45 - cmdstanpy - INFO - Chain [1] done processing\n",
      "17:45:45 - cmdstanpy - INFO - Chain [1] start processing\n"
     ]
    },
    {
     "name": "stdout",
     "output_type": "stream",
     "text": [
      "VNM - processed\n"
     ]
    },
    {
     "name": "stderr",
     "output_type": "stream",
     "text": [
      "17:45:47 - cmdstanpy - INFO - Chain [1] done processing\n"
     ]
    },
    {
     "name": "stdout",
     "output_type": "stream",
     "text": [
      "VUT - processed\n"
     ]
    },
    {
     "name": "stderr",
     "output_type": "stream",
     "text": [
      "17:45:48 - cmdstanpy - INFO - Chain [1] start processing\n",
      "17:45:50 - cmdstanpy - INFO - Chain [1] done processing\n",
      "17:45:51 - cmdstanpy - INFO - Chain [1] start processing\n",
      "17:45:51 - cmdstanpy - INFO - Chain [1] done processing\n",
      "17:45:51 - cmdstanpy - INFO - Chain [1] start processing\n",
      "17:45:51 - cmdstanpy - INFO - Chain [1] done processing\n",
      "17:45:52 - cmdstanpy - INFO - Chain [1] start processing\n",
      "17:45:52 - cmdstanpy - INFO - Chain [1] done processing\n",
      "17:45:53 - cmdstanpy - INFO - Chain [1] start processing\n",
      "17:45:53 - cmdstanpy - INFO - Chain [1] done processing\n",
      "17:45:53 - cmdstanpy - INFO - Chain [1] start processing\n",
      "17:45:53 - cmdstanpy - INFO - Chain [1] done processing\n",
      "17:45:54 - cmdstanpy - INFO - Chain [1] start processing\n",
      "17:45:54 - cmdstanpy - INFO - Chain [1] done processing\n",
      "17:45:54 - cmdstanpy - INFO - Chain [1] start processing\n"
     ]
    },
    {
     "name": "stdout",
     "output_type": "stream",
     "text": [
      "WLD - processed\n",
      "WSM - errored\n"
     ]
    },
    {
     "name": "stderr",
     "output_type": "stream",
     "text": [
      "17:45:56 - cmdstanpy - INFO - Chain [1] done processing\n",
      "17:45:57 - cmdstanpy - INFO - Chain [1] start processing\n",
      "17:45:57 - cmdstanpy - INFO - Chain [1] done processing\n"
     ]
    },
    {
     "name": "stdout",
     "output_type": "stream",
     "text": [
      "YEM - processed\n"
     ]
    },
    {
     "name": "stderr",
     "output_type": "stream",
     "text": [
      "17:45:57 - cmdstanpy - INFO - Chain [1] start processing\n",
      "17:45:57 - cmdstanpy - INFO - Chain [1] done processing\n",
      "17:45:58 - cmdstanpy - INFO - Chain [1] start processing\n",
      "17:45:58 - cmdstanpy - INFO - Chain [1] done processing\n",
      "17:45:58 - cmdstanpy - INFO - Chain [1] start processing\n",
      "17:46:02 - cmdstanpy - INFO - Chain [1] done processing\n",
      "17:46:02 - cmdstanpy - INFO - Chain [1] start processing\n",
      "17:46:02 - cmdstanpy - INFO - Chain [1] done processing\n",
      "17:46:03 - cmdstanpy - INFO - Chain [1] start processing\n",
      "17:46:03 - cmdstanpy - INFO - Chain [1] done processing\n",
      "17:46:03 - cmdstanpy - INFO - Chain [1] start processing\n",
      "17:46:03 - cmdstanpy - INFO - Chain [1] done processing\n",
      "17:46:04 - cmdstanpy - INFO - Chain [1] start processing\n",
      "17:46:04 - cmdstanpy - INFO - Chain [1] done processing\n",
      "17:46:04 - cmdstanpy - INFO - Chain [1] start processing\n",
      "17:46:04 - cmdstanpy - INFO - Chain [1] done processing\n",
      "17:46:05 - cmdstanpy - INFO - Chain [1] start processing\n",
      "17:46:05 - cmdstanpy - INFO - Chain [1] done processing\n",
      "17:46:05 - cmdstanpy - INFO - Chain [1] start processing\n"
     ]
    },
    {
     "name": "stdout",
     "output_type": "stream",
     "text": [
      "ZAF - processed\n"
     ]
    },
    {
     "name": "stderr",
     "output_type": "stream",
     "text": [
      "17:46:07 - cmdstanpy - INFO - Chain [1] done processing\n",
      "17:46:08 - cmdstanpy - INFO - Chain [1] start processing\n",
      "17:46:11 - cmdstanpy - INFO - Chain [1] done processing\n",
      "17:46:11 - cmdstanpy - INFO - Chain [1] start processing\n",
      "17:46:11 - cmdstanpy - INFO - Chain [1] done processing\n",
      "17:46:12 - cmdstanpy - INFO - Chain [1] start processing\n",
      "17:46:12 - cmdstanpy - INFO - Chain [1] done processing\n",
      "17:46:12 - cmdstanpy - INFO - Chain [1] start processing\n",
      "17:46:12 - cmdstanpy - INFO - Chain [1] done processing\n",
      "17:46:13 - cmdstanpy - INFO - Chain [1] start processing\n",
      "17:46:13 - cmdstanpy - INFO - Chain [1] done processing\n",
      "17:46:13 - cmdstanpy - INFO - Chain [1] start processing\n",
      "17:46:13 - cmdstanpy - INFO - Chain [1] done processing\n",
      "17:46:14 - cmdstanpy - INFO - Chain [1] start processing\n",
      "17:46:14 - cmdstanpy - INFO - Chain [1] done processing\n"
     ]
    },
    {
     "name": "stdout",
     "output_type": "stream",
     "text": [
      "ZMB - processed\n",
      "ZWE - processed\n"
     ]
    },
    {
     "data": {
      "text/html": [
       "<div>\n",
       "<style scoped>\n",
       "    .dataframe tbody tr th:only-of-type {\n",
       "        vertical-align: middle;\n",
       "    }\n",
       "\n",
       "    .dataframe tbody tr th {\n",
       "        vertical-align: top;\n",
       "    }\n",
       "\n",
       "    .dataframe thead th {\n",
       "        text-align: right;\n",
       "    }\n",
       "</style>\n",
       "<table border=\"1\" class=\"dataframe\">\n",
       "  <thead>\n",
       "    <tr style=\"text-align: right;\">\n",
       "      <th></th>\n",
       "      <th>Country</th>\n",
       "      <th>Year</th>\n",
       "      <th>HealthyDietCost</th>\n",
       "      <th>FruitsShare</th>\n",
       "      <th>VegetablesShare</th>\n",
       "      <th>StarchyShare</th>\n",
       "      <th>AnimalSourceShare</th>\n",
       "      <th>LegumesShare</th>\n",
       "      <th>OilsShare</th>\n",
       "      <th>HCI</th>\n",
       "      <th>CPI</th>\n",
       "      <th>CPIFoodEnergy</th>\n",
       "    </tr>\n",
       "  </thead>\n",
       "  <tbody>\n",
       "    <tr>\n",
       "      <th>0</th>\n",
       "      <td>ABW</td>\n",
       "      <td>2000</td>\n",
       "      <td>-0.016010</td>\n",
       "      <td>-0.524</td>\n",
       "      <td>0.26925</td>\n",
       "      <td>0.80675</td>\n",
       "      <td>0.23975</td>\n",
       "      <td>0.15725</td>\n",
       "      <td>0.051</td>\n",
       "      <td>NaN</td>\n",
       "      <td>NaN</td>\n",
       "      <td>NaN</td>\n",
       "    </tr>\n",
       "    <tr>\n",
       "      <th>1</th>\n",
       "      <td>ABW</td>\n",
       "      <td>2001</td>\n",
       "      <td>0.185991</td>\n",
       "      <td>-0.485</td>\n",
       "      <td>0.26900</td>\n",
       "      <td>0.77300</td>\n",
       "      <td>0.23800</td>\n",
       "      <td>0.15500</td>\n",
       "      <td>0.050</td>\n",
       "      <td>NaN</td>\n",
       "      <td>NaN</td>\n",
       "      <td>NaN</td>\n",
       "    </tr>\n",
       "    <tr>\n",
       "      <th>2</th>\n",
       "      <td>ABW</td>\n",
       "      <td>2002</td>\n",
       "      <td>0.387991</td>\n",
       "      <td>-0.446</td>\n",
       "      <td>0.26875</td>\n",
       "      <td>0.73925</td>\n",
       "      <td>0.23625</td>\n",
       "      <td>0.15275</td>\n",
       "      <td>0.049</td>\n",
       "      <td>NaN</td>\n",
       "      <td>NaN</td>\n",
       "      <td>NaN</td>\n",
       "    </tr>\n",
       "    <tr>\n",
       "      <th>3</th>\n",
       "      <td>ABW</td>\n",
       "      <td>2003</td>\n",
       "      <td>0.589992</td>\n",
       "      <td>-0.407</td>\n",
       "      <td>0.26850</td>\n",
       "      <td>0.70550</td>\n",
       "      <td>0.23450</td>\n",
       "      <td>0.15050</td>\n",
       "      <td>0.048</td>\n",
       "      <td>NaN</td>\n",
       "      <td>NaN</td>\n",
       "      <td>NaN</td>\n",
       "    </tr>\n",
       "    <tr>\n",
       "      <th>4</th>\n",
       "      <td>ABW</td>\n",
       "      <td>2004</td>\n",
       "      <td>0.791993</td>\n",
       "      <td>-0.368</td>\n",
       "      <td>0.26825</td>\n",
       "      <td>0.67175</td>\n",
       "      <td>0.23275</td>\n",
       "      <td>0.14825</td>\n",
       "      <td>0.047</td>\n",
       "      <td>NaN</td>\n",
       "      <td>NaN</td>\n",
       "      <td>NaN</td>\n",
       "    </tr>\n",
       "    <tr>\n",
       "      <th>...</th>\n",
       "      <td>...</td>\n",
       "      <td>...</td>\n",
       "      <td>...</td>\n",
       "      <td>...</td>\n",
       "      <td>...</td>\n",
       "      <td>...</td>\n",
       "      <td>...</td>\n",
       "      <td>...</td>\n",
       "      <td>...</td>\n",
       "      <td>...</td>\n",
       "      <td>...</td>\n",
       "      <td>...</td>\n",
       "    </tr>\n",
       "    <tr>\n",
       "      <th>21</th>\n",
       "      <td>ZWE</td>\n",
       "      <td>2021</td>\n",
       "      <td>3.456000</td>\n",
       "      <td>0.148</td>\n",
       "      <td>0.28000</td>\n",
       "      <td>0.15900</td>\n",
       "      <td>0.27500</td>\n",
       "      <td>0.09500</td>\n",
       "      <td>0.042</td>\n",
       "      <td>0.471359</td>\n",
       "      <td>NaN</td>\n",
       "      <td>NaN</td>\n",
       "    </tr>\n",
       "    <tr>\n",
       "      <th>22</th>\n",
       "      <td>ZWE</td>\n",
       "      <td>2022</td>\n",
       "      <td>3.456000</td>\n",
       "      <td>0.148</td>\n",
       "      <td>0.28000</td>\n",
       "      <td>0.15900</td>\n",
       "      <td>0.27500</td>\n",
       "      <td>0.09500</td>\n",
       "      <td>0.042</td>\n",
       "      <td>0.476989</td>\n",
       "      <td>NaN</td>\n",
       "      <td>NaN</td>\n",
       "    </tr>\n",
       "    <tr>\n",
       "      <th>23</th>\n",
       "      <td>ZWE</td>\n",
       "      <td>2023</td>\n",
       "      <td>3.456000</td>\n",
       "      <td>0.148</td>\n",
       "      <td>0.28000</td>\n",
       "      <td>0.15900</td>\n",
       "      <td>0.27500</td>\n",
       "      <td>0.09500</td>\n",
       "      <td>0.042</td>\n",
       "      <td>0.482620</td>\n",
       "      <td>NaN</td>\n",
       "      <td>NaN</td>\n",
       "    </tr>\n",
       "    <tr>\n",
       "      <th>24</th>\n",
       "      <td>ZWE</td>\n",
       "      <td>2024</td>\n",
       "      <td>3.456000</td>\n",
       "      <td>0.148</td>\n",
       "      <td>0.28000</td>\n",
       "      <td>0.15900</td>\n",
       "      <td>0.27500</td>\n",
       "      <td>0.09500</td>\n",
       "      <td>0.042</td>\n",
       "      <td>0.488250</td>\n",
       "      <td>NaN</td>\n",
       "      <td>NaN</td>\n",
       "    </tr>\n",
       "    <tr>\n",
       "      <th>25</th>\n",
       "      <td>ZWE</td>\n",
       "      <td>2025</td>\n",
       "      <td>3.456000</td>\n",
       "      <td>0.148</td>\n",
       "      <td>0.28000</td>\n",
       "      <td>0.15900</td>\n",
       "      <td>0.27500</td>\n",
       "      <td>0.09500</td>\n",
       "      <td>0.042</td>\n",
       "      <td>0.493881</td>\n",
       "      <td>NaN</td>\n",
       "      <td>NaN</td>\n",
       "    </tr>\n",
       "  </tbody>\n",
       "</table>\n",
       "<p>5200 rows × 12 columns</p>\n",
       "</div>"
      ],
      "text/plain": [
       "   Country  Year  HealthyDietCost  FruitsShare  VegetablesShare  StarchyShare  \\\n",
       "0      ABW  2000        -0.016010       -0.524          0.26925       0.80675   \n",
       "1      ABW  2001         0.185991       -0.485          0.26900       0.77300   \n",
       "2      ABW  2002         0.387991       -0.446          0.26875       0.73925   \n",
       "3      ABW  2003         0.589992       -0.407          0.26850       0.70550   \n",
       "4      ABW  2004         0.791993       -0.368          0.26825       0.67175   \n",
       "..     ...   ...              ...          ...              ...           ...   \n",
       "21     ZWE  2021         3.456000        0.148          0.28000       0.15900   \n",
       "22     ZWE  2022         3.456000        0.148          0.28000       0.15900   \n",
       "23     ZWE  2023         3.456000        0.148          0.28000       0.15900   \n",
       "24     ZWE  2024         3.456000        0.148          0.28000       0.15900   \n",
       "25     ZWE  2025         3.456000        0.148          0.28000       0.15900   \n",
       "\n",
       "    AnimalSourceShare  LegumesShare  OilsShare       HCI  CPI  CPIFoodEnergy  \n",
       "0             0.23975       0.15725      0.051       NaN  NaN            NaN  \n",
       "1             0.23800       0.15500      0.050       NaN  NaN            NaN  \n",
       "2             0.23625       0.15275      0.049       NaN  NaN            NaN  \n",
       "3             0.23450       0.15050      0.048       NaN  NaN            NaN  \n",
       "4             0.23275       0.14825      0.047       NaN  NaN            NaN  \n",
       "..                ...           ...        ...       ...  ...            ...  \n",
       "21            0.27500       0.09500      0.042  0.471359  NaN            NaN  \n",
       "22            0.27500       0.09500      0.042  0.476989  NaN            NaN  \n",
       "23            0.27500       0.09500      0.042  0.482620  NaN            NaN  \n",
       "24            0.27500       0.09500      0.042  0.488250  NaN            NaN  \n",
       "25            0.27500       0.09500      0.042  0.493881  NaN            NaN  \n",
       "\n",
       "[5200 rows x 12 columns]"
      ]
     },
     "execution_count": 6,
     "metadata": {},
     "output_type": "execute_result"
    }
   ],
   "source": [
    "features = pd.DataFrame()\n",
    "for country, group_df in df.groupby(\"Country\"):\n",
    "    fit = True\n",
    "    country_df = pd.DataFrame()\n",
    "    for col in df.columns:\n",
    "        if col not in [\"AHEI\", \"Country\", \"Year\"]:\n",
    "            m = Prophet()\n",
    "            df_pred = group_df[[\"Year\", col]].rename(columns={\"Year\": \"ds\", col: \"y\"})\n",
    "            if not all(df_pred[\"y\"].isna()):\n",
    "                df_pred = df_pred.merge(years, on=\"ds\", how=\"right\")\n",
    "                try:\n",
    "                    m.fit(df_pred)\n",
    "                    country_df[\"Country\"] = country\n",
    "                    country_df[\"Year\"] = years[\"ds\"]\n",
    "                    country_df[col] = m.predict(df_pred)[\"yhat\"]\n",
    "                except:\n",
    "                    fit = False\n",
    "                    print(f\"{country} - errored\")\n",
    "                    break\n",
    "    if fit:\n",
    "        print(f\"{country} - processed\")\n",
    "        features = pd.concat([features, country_df])\n",
    "features"
   ]
  },
  {
   "cell_type": "code",
   "execution_count": 19,
   "id": "78617f79-006d-4586-8682-5af94c510f07",
   "metadata": {},
   "outputs": [
    {
     "data": {
      "text/html": [
       "<div>\n",
       "<style scoped>\n",
       "    .dataframe tbody tr th:only-of-type {\n",
       "        vertical-align: middle;\n",
       "    }\n",
       "\n",
       "    .dataframe tbody tr th {\n",
       "        vertical-align: top;\n",
       "    }\n",
       "\n",
       "    .dataframe thead th {\n",
       "        text-align: right;\n",
       "    }\n",
       "</style>\n",
       "<table border=\"1\" class=\"dataframe\">\n",
       "  <thead>\n",
       "    <tr style=\"text-align: right;\">\n",
       "      <th></th>\n",
       "      <th>Country</th>\n",
       "      <th>Year</th>\n",
       "      <th>HealthyDietCost</th>\n",
       "      <th>FruitsShare</th>\n",
       "      <th>VegetablesShare</th>\n",
       "      <th>StarchyShare</th>\n",
       "      <th>AnimalSourceShare</th>\n",
       "      <th>LegumesShare</th>\n",
       "      <th>OilsShare</th>\n",
       "      <th>HCI</th>\n",
       "      <th>CPI</th>\n",
       "    </tr>\n",
       "  </thead>\n",
       "  <tbody>\n",
       "    <tr>\n",
       "      <th>0</th>\n",
       "      <td>ARG</td>\n",
       "      <td>2000</td>\n",
       "      <td>4.382250</td>\n",
       "      <td>0.47825</td>\n",
       "      <td>0.507500</td>\n",
       "      <td>-0.005500</td>\n",
       "      <td>-0.284501</td>\n",
       "      <td>0.28525</td>\n",
       "      <td>0.013750</td>\n",
       "      <td>0.556496</td>\n",
       "      <td>-15.696295</td>\n",
       "    </tr>\n",
       "    <tr>\n",
       "      <th>1</th>\n",
       "      <td>ARG</td>\n",
       "      <td>2001</td>\n",
       "      <td>4.321000</td>\n",
       "      <td>0.46300</td>\n",
       "      <td>0.490000</td>\n",
       "      <td>0.003000</td>\n",
       "      <td>-0.256001</td>\n",
       "      <td>0.28000</td>\n",
       "      <td>0.015000</td>\n",
       "      <td>0.559702</td>\n",
       "      <td>-12.606379</td>\n",
       "    </tr>\n",
       "    <tr>\n",
       "      <th>2</th>\n",
       "      <td>ARG</td>\n",
       "      <td>2002</td>\n",
       "      <td>4.259750</td>\n",
       "      <td>0.44775</td>\n",
       "      <td>0.472500</td>\n",
       "      <td>0.011500</td>\n",
       "      <td>-0.227501</td>\n",
       "      <td>0.27475</td>\n",
       "      <td>0.016250</td>\n",
       "      <td>0.562908</td>\n",
       "      <td>-9.516463</td>\n",
       "    </tr>\n",
       "    <tr>\n",
       "      <th>3</th>\n",
       "      <td>ARG</td>\n",
       "      <td>2003</td>\n",
       "      <td>4.198500</td>\n",
       "      <td>0.43250</td>\n",
       "      <td>0.455000</td>\n",
       "      <td>0.020000</td>\n",
       "      <td>-0.199001</td>\n",
       "      <td>0.26950</td>\n",
       "      <td>0.017500</td>\n",
       "      <td>0.566114</td>\n",
       "      <td>-6.426547</td>\n",
       "    </tr>\n",
       "    <tr>\n",
       "      <th>4</th>\n",
       "      <td>ARG</td>\n",
       "      <td>2004</td>\n",
       "      <td>4.137250</td>\n",
       "      <td>0.41725</td>\n",
       "      <td>0.437500</td>\n",
       "      <td>0.028500</td>\n",
       "      <td>-0.170501</td>\n",
       "      <td>0.26425</td>\n",
       "      <td>0.018750</td>\n",
       "      <td>0.569321</td>\n",
       "      <td>-3.336631</td>\n",
       "    </tr>\n",
       "    <tr>\n",
       "      <th>...</th>\n",
       "      <td>...</td>\n",
       "      <td>...</td>\n",
       "      <td>...</td>\n",
       "      <td>...</td>\n",
       "      <td>...</td>\n",
       "      <td>...</td>\n",
       "      <td>...</td>\n",
       "      <td>...</td>\n",
       "      <td>...</td>\n",
       "      <td>...</td>\n",
       "      <td>...</td>\n",
       "    </tr>\n",
       "    <tr>\n",
       "      <th>21</th>\n",
       "      <td>ZAF</td>\n",
       "      <td>2021</td>\n",
       "      <td>4.397999</td>\n",
       "      <td>0.23600</td>\n",
       "      <td>0.222500</td>\n",
       "      <td>0.128500</td>\n",
       "      <td>0.244500</td>\n",
       "      <td>0.14300</td>\n",
       "      <td>0.025500</td>\n",
       "      <td>0.410539</td>\n",
       "      <td>4.793088</td>\n",
       "    </tr>\n",
       "    <tr>\n",
       "      <th>22</th>\n",
       "      <td>ZAF</td>\n",
       "      <td>2022</td>\n",
       "      <td>4.497999</td>\n",
       "      <td>0.25075</td>\n",
       "      <td>0.235375</td>\n",
       "      <td>0.122125</td>\n",
       "      <td>0.241125</td>\n",
       "      <td>0.12675</td>\n",
       "      <td>0.024125</td>\n",
       "      <td>0.409302</td>\n",
       "      <td>4.756091</td>\n",
       "    </tr>\n",
       "    <tr>\n",
       "      <th>23</th>\n",
       "      <td>ZAF</td>\n",
       "      <td>2023</td>\n",
       "      <td>4.597999</td>\n",
       "      <td>0.26550</td>\n",
       "      <td>0.248250</td>\n",
       "      <td>0.115750</td>\n",
       "      <td>0.237750</td>\n",
       "      <td>0.11050</td>\n",
       "      <td>0.022750</td>\n",
       "      <td>0.408065</td>\n",
       "      <td>4.719093</td>\n",
       "    </tr>\n",
       "    <tr>\n",
       "      <th>24</th>\n",
       "      <td>ZAF</td>\n",
       "      <td>2024</td>\n",
       "      <td>4.697999</td>\n",
       "      <td>0.28025</td>\n",
       "      <td>0.261125</td>\n",
       "      <td>0.109375</td>\n",
       "      <td>0.234375</td>\n",
       "      <td>0.09425</td>\n",
       "      <td>0.021375</td>\n",
       "      <td>0.406828</td>\n",
       "      <td>4.682095</td>\n",
       "    </tr>\n",
       "    <tr>\n",
       "      <th>25</th>\n",
       "      <td>ZAF</td>\n",
       "      <td>2025</td>\n",
       "      <td>4.797999</td>\n",
       "      <td>0.29500</td>\n",
       "      <td>0.274000</td>\n",
       "      <td>0.103000</td>\n",
       "      <td>0.231000</td>\n",
       "      <td>0.07800</td>\n",
       "      <td>0.020000</td>\n",
       "      <td>0.405590</td>\n",
       "      <td>4.645098</td>\n",
       "    </tr>\n",
       "  </tbody>\n",
       "</table>\n",
       "<p>1196 rows × 11 columns</p>\n",
       "</div>"
      ],
      "text/plain": [
       "   Country  Year  HealthyDietCost  FruitsShare  VegetablesShare  StarchyShare  \\\n",
       "0      ARG  2000         4.382250      0.47825         0.507500     -0.005500   \n",
       "1      ARG  2001         4.321000      0.46300         0.490000      0.003000   \n",
       "2      ARG  2002         4.259750      0.44775         0.472500      0.011500   \n",
       "3      ARG  2003         4.198500      0.43250         0.455000      0.020000   \n",
       "4      ARG  2004         4.137250      0.41725         0.437500      0.028500   \n",
       "..     ...   ...              ...          ...              ...           ...   \n",
       "21     ZAF  2021         4.397999      0.23600         0.222500      0.128500   \n",
       "22     ZAF  2022         4.497999      0.25075         0.235375      0.122125   \n",
       "23     ZAF  2023         4.597999      0.26550         0.248250      0.115750   \n",
       "24     ZAF  2024         4.697999      0.28025         0.261125      0.109375   \n",
       "25     ZAF  2025         4.797999      0.29500         0.274000      0.103000   \n",
       "\n",
       "    AnimalSourceShare  LegumesShare  OilsShare       HCI        CPI  \n",
       "0           -0.284501       0.28525   0.013750  0.556496 -15.696295  \n",
       "1           -0.256001       0.28000   0.015000  0.559702 -12.606379  \n",
       "2           -0.227501       0.27475   0.016250  0.562908  -9.516463  \n",
       "3           -0.199001       0.26950   0.017500  0.566114  -6.426547  \n",
       "4           -0.170501       0.26425   0.018750  0.569321  -3.336631  \n",
       "..                ...           ...        ...       ...        ...  \n",
       "21           0.244500       0.14300   0.025500  0.410539   4.793088  \n",
       "22           0.241125       0.12675   0.024125  0.409302   4.756091  \n",
       "23           0.237750       0.11050   0.022750  0.408065   4.719093  \n",
       "24           0.234375       0.09425   0.021375  0.406828   4.682095  \n",
       "25           0.231000       0.07800   0.020000  0.405590   4.645098  \n",
       "\n",
       "[1196 rows x 11 columns]"
      ]
     },
     "execution_count": 19,
     "metadata": {},
     "output_type": "execute_result"
    }
   ],
   "source": [
    "features = features[~features[\"HCI\"].isna() & ~features[\"CPI\"].isna()].drop(columns=[\"CPIFoodEnergy\"])\n",
    "features"
   ]
  },
  {
   "cell_type": "code",
   "execution_count": 22,
   "id": "d00b46a2-914c-4241-925e-a8b8bc75f8c9",
   "metadata": {},
   "outputs": [
    {
     "data": {
      "text/html": [
       "<div>\n",
       "<style scoped>\n",
       "    .dataframe tbody tr th:only-of-type {\n",
       "        vertical-align: middle;\n",
       "    }\n",
       "\n",
       "    .dataframe tbody tr th {\n",
       "        vertical-align: top;\n",
       "    }\n",
       "\n",
       "    .dataframe thead th {\n",
       "        text-align: right;\n",
       "    }\n",
       "</style>\n",
       "<table border=\"1\" class=\"dataframe\">\n",
       "  <thead>\n",
       "    <tr style=\"text-align: right;\">\n",
       "      <th></th>\n",
       "      <th>Country</th>\n",
       "      <th>Year</th>\n",
       "      <th>HealthyDietCost</th>\n",
       "      <th>FruitsShare</th>\n",
       "      <th>VegetablesShare</th>\n",
       "      <th>StarchyShare</th>\n",
       "      <th>AnimalSourceShare</th>\n",
       "      <th>LegumesShare</th>\n",
       "      <th>OilsShare</th>\n",
       "      <th>HCI</th>\n",
       "      <th>CPI</th>\n",
       "      <th>AHEI</th>\n",
       "    </tr>\n",
       "  </thead>\n",
       "  <tbody>\n",
       "    <tr>\n",
       "      <th>1</th>\n",
       "      <td>ARG</td>\n",
       "      <td>2001</td>\n",
       "      <td>4.321000</td>\n",
       "      <td>0.46300</td>\n",
       "      <td>0.490000</td>\n",
       "      <td>0.003000</td>\n",
       "      <td>-0.256001</td>\n",
       "      <td>0.28000</td>\n",
       "      <td>0.015000</td>\n",
       "      <td>0.559702</td>\n",
       "      <td>-12.606379</td>\n",
       "      <td>33.192833</td>\n",
       "    </tr>\n",
       "    <tr>\n",
       "      <th>2</th>\n",
       "      <td>ARG</td>\n",
       "      <td>2002</td>\n",
       "      <td>4.259750</td>\n",
       "      <td>0.44775</td>\n",
       "      <td>0.472500</td>\n",
       "      <td>0.011500</td>\n",
       "      <td>-0.227501</td>\n",
       "      <td>0.27475</td>\n",
       "      <td>0.016250</td>\n",
       "      <td>0.562908</td>\n",
       "      <td>-9.516463</td>\n",
       "      <td>33.061453</td>\n",
       "    </tr>\n",
       "    <tr>\n",
       "      <th>3</th>\n",
       "      <td>ARG</td>\n",
       "      <td>2003</td>\n",
       "      <td>4.198500</td>\n",
       "      <td>0.43250</td>\n",
       "      <td>0.455000</td>\n",
       "      <td>0.020000</td>\n",
       "      <td>-0.199001</td>\n",
       "      <td>0.26950</td>\n",
       "      <td>0.017500</td>\n",
       "      <td>0.566114</td>\n",
       "      <td>-6.426547</td>\n",
       "      <td>32.930073</td>\n",
       "    </tr>\n",
       "    <tr>\n",
       "      <th>4</th>\n",
       "      <td>ARG</td>\n",
       "      <td>2004</td>\n",
       "      <td>4.137250</td>\n",
       "      <td>0.41725</td>\n",
       "      <td>0.437500</td>\n",
       "      <td>0.028500</td>\n",
       "      <td>-0.170501</td>\n",
       "      <td>0.26425</td>\n",
       "      <td>0.018750</td>\n",
       "      <td>0.569321</td>\n",
       "      <td>-3.336631</td>\n",
       "      <td>32.798693</td>\n",
       "    </tr>\n",
       "    <tr>\n",
       "      <th>5</th>\n",
       "      <td>ARG</td>\n",
       "      <td>2005</td>\n",
       "      <td>4.076000</td>\n",
       "      <td>0.40200</td>\n",
       "      <td>0.420000</td>\n",
       "      <td>0.037000</td>\n",
       "      <td>-0.142001</td>\n",
       "      <td>0.25900</td>\n",
       "      <td>0.020000</td>\n",
       "      <td>0.572527</td>\n",
       "      <td>-0.246715</td>\n",
       "      <td>32.667312</td>\n",
       "    </tr>\n",
       "    <tr>\n",
       "      <th>...</th>\n",
       "      <td>...</td>\n",
       "      <td>...</td>\n",
       "      <td>...</td>\n",
       "      <td>...</td>\n",
       "      <td>...</td>\n",
       "      <td>...</td>\n",
       "      <td>...</td>\n",
       "      <td>...</td>\n",
       "      <td>...</td>\n",
       "      <td>...</td>\n",
       "      <td>...</td>\n",
       "      <td>...</td>\n",
       "    </tr>\n",
       "    <tr>\n",
       "      <th>1191</th>\n",
       "      <td>ZAF</td>\n",
       "      <td>2021</td>\n",
       "      <td>4.397999</td>\n",
       "      <td>0.23600</td>\n",
       "      <td>0.222500</td>\n",
       "      <td>0.128500</td>\n",
       "      <td>0.244500</td>\n",
       "      <td>0.14300</td>\n",
       "      <td>0.025500</td>\n",
       "      <td>0.410539</td>\n",
       "      <td>4.793088</td>\n",
       "      <td>NaN</td>\n",
       "    </tr>\n",
       "    <tr>\n",
       "      <th>1192</th>\n",
       "      <td>ZAF</td>\n",
       "      <td>2022</td>\n",
       "      <td>4.497999</td>\n",
       "      <td>0.25075</td>\n",
       "      <td>0.235375</td>\n",
       "      <td>0.122125</td>\n",
       "      <td>0.241125</td>\n",
       "      <td>0.12675</td>\n",
       "      <td>0.024125</td>\n",
       "      <td>0.409302</td>\n",
       "      <td>4.756091</td>\n",
       "      <td>NaN</td>\n",
       "    </tr>\n",
       "    <tr>\n",
       "      <th>1193</th>\n",
       "      <td>ZAF</td>\n",
       "      <td>2023</td>\n",
       "      <td>4.597999</td>\n",
       "      <td>0.26550</td>\n",
       "      <td>0.248250</td>\n",
       "      <td>0.115750</td>\n",
       "      <td>0.237750</td>\n",
       "      <td>0.11050</td>\n",
       "      <td>0.022750</td>\n",
       "      <td>0.408065</td>\n",
       "      <td>4.719093</td>\n",
       "      <td>NaN</td>\n",
       "    </tr>\n",
       "    <tr>\n",
       "      <th>1194</th>\n",
       "      <td>ZAF</td>\n",
       "      <td>2024</td>\n",
       "      <td>4.697999</td>\n",
       "      <td>0.28025</td>\n",
       "      <td>0.261125</td>\n",
       "      <td>0.109375</td>\n",
       "      <td>0.234375</td>\n",
       "      <td>0.09425</td>\n",
       "      <td>0.021375</td>\n",
       "      <td>0.406828</td>\n",
       "      <td>4.682095</td>\n",
       "      <td>NaN</td>\n",
       "    </tr>\n",
       "    <tr>\n",
       "      <th>1195</th>\n",
       "      <td>ZAF</td>\n",
       "      <td>2025</td>\n",
       "      <td>4.797999</td>\n",
       "      <td>0.29500</td>\n",
       "      <td>0.274000</td>\n",
       "      <td>0.103000</td>\n",
       "      <td>0.231000</td>\n",
       "      <td>0.07800</td>\n",
       "      <td>0.020000</td>\n",
       "      <td>0.405590</td>\n",
       "      <td>4.645098</td>\n",
       "      <td>NaN</td>\n",
       "    </tr>\n",
       "  </tbody>\n",
       "</table>\n",
       "<p>1150 rows × 12 columns</p>\n",
       "</div>"
      ],
      "text/plain": [
       "     Country  Year  HealthyDietCost  FruitsShare  VegetablesShare  \\\n",
       "1        ARG  2001         4.321000      0.46300         0.490000   \n",
       "2        ARG  2002         4.259750      0.44775         0.472500   \n",
       "3        ARG  2003         4.198500      0.43250         0.455000   \n",
       "4        ARG  2004         4.137250      0.41725         0.437500   \n",
       "5        ARG  2005         4.076000      0.40200         0.420000   \n",
       "...      ...   ...              ...          ...              ...   \n",
       "1191     ZAF  2021         4.397999      0.23600         0.222500   \n",
       "1192     ZAF  2022         4.497999      0.25075         0.235375   \n",
       "1193     ZAF  2023         4.597999      0.26550         0.248250   \n",
       "1194     ZAF  2024         4.697999      0.28025         0.261125   \n",
       "1195     ZAF  2025         4.797999      0.29500         0.274000   \n",
       "\n",
       "      StarchyShare  AnimalSourceShare  LegumesShare  OilsShare       HCI  \\\n",
       "1         0.003000          -0.256001       0.28000   0.015000  0.559702   \n",
       "2         0.011500          -0.227501       0.27475   0.016250  0.562908   \n",
       "3         0.020000          -0.199001       0.26950   0.017500  0.566114   \n",
       "4         0.028500          -0.170501       0.26425   0.018750  0.569321   \n",
       "5         0.037000          -0.142001       0.25900   0.020000  0.572527   \n",
       "...            ...                ...           ...        ...       ...   \n",
       "1191      0.128500           0.244500       0.14300   0.025500  0.410539   \n",
       "1192      0.122125           0.241125       0.12675   0.024125  0.409302   \n",
       "1193      0.115750           0.237750       0.11050   0.022750  0.408065   \n",
       "1194      0.109375           0.234375       0.09425   0.021375  0.406828   \n",
       "1195      0.103000           0.231000       0.07800   0.020000  0.405590   \n",
       "\n",
       "            CPI       AHEI  \n",
       "1    -12.606379  33.192833  \n",
       "2     -9.516463  33.061453  \n",
       "3     -6.426547  32.930073  \n",
       "4     -3.336631  32.798693  \n",
       "5     -0.246715  32.667312  \n",
       "...         ...        ...  \n",
       "1191   4.793088        NaN  \n",
       "1192   4.756091        NaN  \n",
       "1193   4.719093        NaN  \n",
       "1194   4.682095        NaN  \n",
       "1195   4.645098        NaN  \n",
       "\n",
       "[1150 rows x 12 columns]"
      ]
     },
     "execution_count": 22,
     "metadata": {},
     "output_type": "execute_result"
    }
   ],
   "source": [
    "df_final = features.merge(df[[\"Country\", \"Year\", \"AHEI\"]], how=\"left\")\n",
    "df_final = df_final.query(\"Year > 2000\")\n",
    "df_final"
   ]
  },
  {
   "cell_type": "code",
   "execution_count": 23,
   "id": "a3742bca-7859-43d5-baaf-30f054020210",
   "metadata": {},
   "outputs": [],
   "source": [
    "df_final.to_parquet(\"data/model_input/features.parquet\")"
   ]
  }
 ],
 "metadata": {
  "kernelspec": {
   "display_name": "Python 3 (ipykernel)",
   "language": "python",
   "name": "python3"
  },
  "language_info": {
   "codemirror_mode": {
    "name": "ipython",
    "version": 3
   },
   "file_extension": ".py",
   "mimetype": "text/x-python",
   "name": "python",
   "nbconvert_exporter": "python",
   "pygments_lexer": "ipython3",
   "version": "3.8.13"
  }
 },
 "nbformat": 4,
 "nbformat_minor": 5
}
