{
 "cells": [
  {
   "cell_type": "markdown",
   "id": "2f70eff3-5a91-41b4-9130-7788723bd2d3",
   "metadata": {},
   "source": [
    "# Forecast\n",
    "Now we are going to predict the AHEI value given the features we used.\n",
    "This forecast removes trend and seasonalities to allow the features explaining the target."
   ]
  },
  {
   "cell_type": "code",
   "execution_count": 23,
   "id": "c1130e27-752a-4560-acbc-5f3202afe6a4",
   "metadata": {},
   "outputs": [],
   "source": [
    "import pandas as pd\n",
    "from prophet import Prophet\n",
    "from sklearn.metrics import r2_score as r2, mean_absolute_percentage_error as mape"
   ]
  },
  {
   "cell_type": "code",
   "execution_count": 2,
   "id": "1f862f7e-3a62-403a-9731-ef6c5dd30dc5",
   "metadata": {},
   "outputs": [],
   "source": [
    "df = pd.read_parquet(\"data/model_input/features.parquet\")"
   ]
  },
  {
   "cell_type": "code",
   "execution_count": 15,
   "id": "490966cd-fb9e-4a26-967e-157cc216f036",
   "metadata": {},
   "outputs": [
    {
     "name": "stderr",
     "output_type": "stream",
     "text": [
      "18:18:55 - cmdstanpy - INFO - Chain [1] start processing\n",
      "18:18:55 - cmdstanpy - INFO - Chain [1] done processing\n",
      "18:18:56 - cmdstanpy - INFO - Chain [1] start processing\n"
     ]
    },
    {
     "name": "stdout",
     "output_type": "stream",
     "text": [
      "ARG\n"
     ]
    },
    {
     "name": "stderr",
     "output_type": "stream",
     "text": [
      "18:18:56 - cmdstanpy - INFO - Chain [1] done processing\n",
      "18:18:57 - cmdstanpy - INFO - Chain [1] start processing\n"
     ]
    },
    {
     "name": "stdout",
     "output_type": "stream",
     "text": [
      "AUS\n"
     ]
    },
    {
     "name": "stderr",
     "output_type": "stream",
     "text": [
      "18:18:57 - cmdstanpy - INFO - Chain [1] done processing\n",
      "18:18:58 - cmdstanpy - INFO - Chain [1] start processing\n"
     ]
    },
    {
     "name": "stdout",
     "output_type": "stream",
     "text": [
      "AUT\n"
     ]
    },
    {
     "name": "stderr",
     "output_type": "stream",
     "text": [
      "18:18:58 - cmdstanpy - INFO - Chain [1] done processing\n",
      "18:18:59 - cmdstanpy - INFO - Chain [1] start processing\n"
     ]
    },
    {
     "name": "stdout",
     "output_type": "stream",
     "text": [
      "BEL\n"
     ]
    },
    {
     "name": "stderr",
     "output_type": "stream",
     "text": [
      "18:18:59 - cmdstanpy - INFO - Chain [1] done processing\n",
      "18:19:00 - cmdstanpy - INFO - Chain [1] start processing\n",
      "18:19:00 - cmdstanpy - INFO - Chain [1] done processing\n"
     ]
    },
    {
     "name": "stdout",
     "output_type": "stream",
     "text": [
      "BRA\n"
     ]
    },
    {
     "name": "stderr",
     "output_type": "stream",
     "text": [
      "18:19:01 - cmdstanpy - INFO - Chain [1] start processing\n"
     ]
    },
    {
     "name": "stdout",
     "output_type": "stream",
     "text": [
      "CAN\n"
     ]
    },
    {
     "name": "stderr",
     "output_type": "stream",
     "text": [
      "18:19:01 - cmdstanpy - INFO - Chain [1] done processing\n",
      "18:19:02 - cmdstanpy - INFO - Chain [1] start processing\n"
     ]
    },
    {
     "name": "stdout",
     "output_type": "stream",
     "text": [
      "CHE\n"
     ]
    },
    {
     "name": "stderr",
     "output_type": "stream",
     "text": [
      "18:19:02 - cmdstanpy - INFO - Chain [1] done processing\n"
     ]
    },
    {
     "name": "stdout",
     "output_type": "stream",
     "text": [
      "CHL\n"
     ]
    },
    {
     "name": "stderr",
     "output_type": "stream",
     "text": [
      "18:19:03 - cmdstanpy - INFO - Chain [1] start processing\n",
      "18:19:03 - cmdstanpy - INFO - Chain [1] done processing\n",
      "18:19:04 - cmdstanpy - INFO - Chain [1] start processing\n"
     ]
    },
    {
     "name": "stdout",
     "output_type": "stream",
     "text": [
      "CHN\n"
     ]
    },
    {
     "name": "stderr",
     "output_type": "stream",
     "text": [
      "18:19:04 - cmdstanpy - INFO - Chain [1] done processing\n",
      "18:19:04 - cmdstanpy - INFO - Chain [1] start processing\n"
     ]
    },
    {
     "name": "stdout",
     "output_type": "stream",
     "text": [
      "COL\n"
     ]
    },
    {
     "name": "stderr",
     "output_type": "stream",
     "text": [
      "18:19:04 - cmdstanpy - INFO - Chain [1] done processing\n",
      "18:19:05 - cmdstanpy - INFO - Chain [1] start processing\n"
     ]
    },
    {
     "name": "stdout",
     "output_type": "stream",
     "text": [
      "CRI\n"
     ]
    },
    {
     "name": "stderr",
     "output_type": "stream",
     "text": [
      "18:19:05 - cmdstanpy - INFO - Chain [1] done processing\n",
      "18:19:06 - cmdstanpy - INFO - Chain [1] start processing\n"
     ]
    },
    {
     "name": "stdout",
     "output_type": "stream",
     "text": [
      "CZE\n"
     ]
    },
    {
     "name": "stderr",
     "output_type": "stream",
     "text": [
      "18:19:06 - cmdstanpy - INFO - Chain [1] done processing\n",
      "18:19:07 - cmdstanpy - INFO - Chain [1] start processing\n"
     ]
    },
    {
     "name": "stdout",
     "output_type": "stream",
     "text": [
      "DEU\n"
     ]
    },
    {
     "name": "stderr",
     "output_type": "stream",
     "text": [
      "18:19:07 - cmdstanpy - INFO - Chain [1] done processing\n",
      "18:19:08 - cmdstanpy - INFO - Chain [1] start processing\n"
     ]
    },
    {
     "name": "stdout",
     "output_type": "stream",
     "text": [
      "DNK\n"
     ]
    },
    {
     "name": "stderr",
     "output_type": "stream",
     "text": [
      "18:19:14 - cmdstanpy - INFO - Chain [1] done processing\n",
      "18:19:14 - cmdstanpy - INFO - Chain [1] start processing\n"
     ]
    },
    {
     "name": "stdout",
     "output_type": "stream",
     "text": [
      "ESP\n"
     ]
    },
    {
     "name": "stderr",
     "output_type": "stream",
     "text": [
      "18:19:15 - cmdstanpy - INFO - Chain [1] done processing\n",
      "18:19:15 - cmdstanpy - INFO - Chain [1] start processing\n"
     ]
    },
    {
     "name": "stdout",
     "output_type": "stream",
     "text": [
      "EST\n"
     ]
    },
    {
     "name": "stderr",
     "output_type": "stream",
     "text": [
      "18:19:15 - cmdstanpy - INFO - Chain [1] done processing\n",
      "18:19:16 - cmdstanpy - INFO - Chain [1] start processing\n"
     ]
    },
    {
     "name": "stdout",
     "output_type": "stream",
     "text": [
      "FIN\n"
     ]
    },
    {
     "name": "stderr",
     "output_type": "stream",
     "text": [
      "18:19:16 - cmdstanpy - INFO - Chain [1] done processing\n",
      "18:19:17 - cmdstanpy - INFO - Chain [1] start processing\n"
     ]
    },
    {
     "name": "stdout",
     "output_type": "stream",
     "text": [
      "FRA\n"
     ]
    },
    {
     "name": "stderr",
     "output_type": "stream",
     "text": [
      "18:19:17 - cmdstanpy - INFO - Chain [1] done processing\n",
      "18:19:18 - cmdstanpy - INFO - Chain [1] start processing\n"
     ]
    },
    {
     "name": "stdout",
     "output_type": "stream",
     "text": [
      "GBR\n"
     ]
    },
    {
     "name": "stderr",
     "output_type": "stream",
     "text": [
      "18:19:18 - cmdstanpy - INFO - Chain [1] done processing\n",
      "18:19:19 - cmdstanpy - INFO - Chain [1] start processing\n"
     ]
    },
    {
     "name": "stdout",
     "output_type": "stream",
     "text": [
      "GRC\n"
     ]
    },
    {
     "name": "stderr",
     "output_type": "stream",
     "text": [
      "18:19:19 - cmdstanpy - INFO - Chain [1] done processing\n",
      "18:19:20 - cmdstanpy - INFO - Chain [1] start processing\n"
     ]
    },
    {
     "name": "stdout",
     "output_type": "stream",
     "text": [
      "HUN\n"
     ]
    },
    {
     "name": "stderr",
     "output_type": "stream",
     "text": [
      "18:19:20 - cmdstanpy - INFO - Chain [1] done processing\n",
      "18:19:21 - cmdstanpy - INFO - Chain [1] start processing\n"
     ]
    },
    {
     "name": "stdout",
     "output_type": "stream",
     "text": [
      "IDN\n"
     ]
    },
    {
     "name": "stderr",
     "output_type": "stream",
     "text": [
      "18:19:21 - cmdstanpy - INFO - Chain [1] done processing\n",
      "18:19:21 - cmdstanpy - INFO - Chain [1] start processing\n"
     ]
    },
    {
     "name": "stdout",
     "output_type": "stream",
     "text": [
      "IND\n"
     ]
    },
    {
     "name": "stderr",
     "output_type": "stream",
     "text": [
      "18:19:21 - cmdstanpy - INFO - Chain [1] done processing\n",
      "18:19:22 - cmdstanpy - INFO - Chain [1] start processing\n"
     ]
    },
    {
     "name": "stdout",
     "output_type": "stream",
     "text": [
      "IRL\n"
     ]
    },
    {
     "name": "stderr",
     "output_type": "stream",
     "text": [
      "18:19:22 - cmdstanpy - INFO - Chain [1] done processing\n",
      "18:19:23 - cmdstanpy - INFO - Chain [1] start processing\n"
     ]
    },
    {
     "name": "stdout",
     "output_type": "stream",
     "text": [
      "ISL\n"
     ]
    },
    {
     "name": "stderr",
     "output_type": "stream",
     "text": [
      "18:19:23 - cmdstanpy - INFO - Chain [1] done processing\n",
      "18:19:24 - cmdstanpy - INFO - Chain [1] start processing\n"
     ]
    },
    {
     "name": "stdout",
     "output_type": "stream",
     "text": [
      "ISR\n"
     ]
    },
    {
     "name": "stderr",
     "output_type": "stream",
     "text": [
      "18:19:24 - cmdstanpy - INFO - Chain [1] done processing\n",
      "18:19:25 - cmdstanpy - INFO - Chain [1] start processing\n"
     ]
    },
    {
     "name": "stdout",
     "output_type": "stream",
     "text": [
      "ITA\n"
     ]
    },
    {
     "name": "stderr",
     "output_type": "stream",
     "text": [
      "18:19:25 - cmdstanpy - INFO - Chain [1] done processing\n",
      "18:19:26 - cmdstanpy - INFO - Chain [1] start processing\n"
     ]
    },
    {
     "name": "stdout",
     "output_type": "stream",
     "text": [
      "JPN\n"
     ]
    },
    {
     "name": "stderr",
     "output_type": "stream",
     "text": [
      "18:19:26 - cmdstanpy - INFO - Chain [1] done processing\n",
      "18:19:26 - cmdstanpy - INFO - Chain [1] start processing\n",
      "18:19:26 - cmdstanpy - INFO - Chain [1] done processing\n"
     ]
    },
    {
     "name": "stdout",
     "output_type": "stream",
     "text": [
      "KOR\n"
     ]
    },
    {
     "name": "stderr",
     "output_type": "stream",
     "text": [
      "18:19:27 - cmdstanpy - INFO - Chain [1] start processing\n"
     ]
    },
    {
     "name": "stdout",
     "output_type": "stream",
     "text": [
      "LTU\n"
     ]
    },
    {
     "name": "stderr",
     "output_type": "stream",
     "text": [
      "18:19:27 - cmdstanpy - INFO - Chain [1] done processing\n"
     ]
    },
    {
     "name": "stdout",
     "output_type": "stream",
     "text": [
      "LUX\n"
     ]
    },
    {
     "name": "stderr",
     "output_type": "stream",
     "text": [
      "18:19:28 - cmdstanpy - INFO - Chain [1] start processing\n",
      "18:19:28 - cmdstanpy - INFO - Chain [1] done processing\n",
      "18:19:29 - cmdstanpy - INFO - Chain [1] start processing\n"
     ]
    },
    {
     "name": "stdout",
     "output_type": "stream",
     "text": [
      "LVA\n"
     ]
    },
    {
     "name": "stderr",
     "output_type": "stream",
     "text": [
      "18:19:29 - cmdstanpy - INFO - Chain [1] done processing\n",
      "18:19:30 - cmdstanpy - INFO - Chain [1] start processing\n"
     ]
    },
    {
     "name": "stdout",
     "output_type": "stream",
     "text": [
      "MEX\n"
     ]
    },
    {
     "name": "stderr",
     "output_type": "stream",
     "text": [
      "18:19:30 - cmdstanpy - INFO - Chain [1] done processing\n",
      "18:19:31 - cmdstanpy - INFO - Chain [1] start processing\n"
     ]
    },
    {
     "name": "stdout",
     "output_type": "stream",
     "text": [
      "NLD\n"
     ]
    },
    {
     "name": "stderr",
     "output_type": "stream",
     "text": [
      "18:19:31 - cmdstanpy - INFO - Chain [1] done processing\n",
      "18:19:32 - cmdstanpy - INFO - Chain [1] start processing\n",
      "18:19:32 - cmdstanpy - INFO - Chain [1] done processing\n"
     ]
    },
    {
     "name": "stdout",
     "output_type": "stream",
     "text": [
      "NOR\n"
     ]
    },
    {
     "name": "stderr",
     "output_type": "stream",
     "text": [
      "18:19:33 - cmdstanpy - INFO - Chain [1] start processing\n"
     ]
    },
    {
     "name": "stdout",
     "output_type": "stream",
     "text": [
      "NZL\n"
     ]
    },
    {
     "name": "stderr",
     "output_type": "stream",
     "text": [
      "18:19:33 - cmdstanpy - INFO - Chain [1] done processing\n",
      "18:19:34 - cmdstanpy - INFO - Chain [1] start processing\n"
     ]
    },
    {
     "name": "stdout",
     "output_type": "stream",
     "text": [
      "POL\n"
     ]
    },
    {
     "name": "stderr",
     "output_type": "stream",
     "text": [
      "18:19:34 - cmdstanpy - INFO - Chain [1] done processing\n",
      "18:19:34 - cmdstanpy - INFO - Chain [1] start processing\n",
      "18:19:35 - cmdstanpy - INFO - Chain [1] done processing\n"
     ]
    },
    {
     "name": "stdout",
     "output_type": "stream",
     "text": [
      "PRT\n",
      "RUS\n"
     ]
    },
    {
     "name": "stderr",
     "output_type": "stream",
     "text": [
      "18:19:35 - cmdstanpy - INFO - Chain [1] start processing\n",
      "18:19:35 - cmdstanpy - INFO - Chain [1] done processing\n",
      "18:19:36 - cmdstanpy - INFO - Chain [1] start processing\n"
     ]
    },
    {
     "name": "stdout",
     "output_type": "stream",
     "text": [
      "SAU\n"
     ]
    },
    {
     "name": "stderr",
     "output_type": "stream",
     "text": [
      "18:19:36 - cmdstanpy - INFO - Chain [1] done processing\n",
      "18:19:37 - cmdstanpy - INFO - Chain [1] start processing\n"
     ]
    },
    {
     "name": "stdout",
     "output_type": "stream",
     "text": [
      "SVK\n"
     ]
    },
    {
     "name": "stderr",
     "output_type": "stream",
     "text": [
      "18:19:37 - cmdstanpy - INFO - Chain [1] done processing\n",
      "18:19:38 - cmdstanpy - INFO - Chain [1] start processing\n"
     ]
    },
    {
     "name": "stdout",
     "output_type": "stream",
     "text": [
      "SVN\n"
     ]
    },
    {
     "name": "stderr",
     "output_type": "stream",
     "text": [
      "18:19:38 - cmdstanpy - INFO - Chain [1] done processing\n",
      "18:19:39 - cmdstanpy - INFO - Chain [1] start processing\n",
      "18:19:39 - cmdstanpy - INFO - Chain [1] done processing\n"
     ]
    },
    {
     "name": "stdout",
     "output_type": "stream",
     "text": [
      "SWE\n"
     ]
    },
    {
     "name": "stderr",
     "output_type": "stream",
     "text": [
      "18:19:40 - cmdstanpy - INFO - Chain [1] start processing\n"
     ]
    },
    {
     "name": "stdout",
     "output_type": "stream",
     "text": [
      "TUR\n"
     ]
    },
    {
     "name": "stderr",
     "output_type": "stream",
     "text": [
      "18:19:43 - cmdstanpy - INFO - Chain [1] done processing\n"
     ]
    },
    {
     "name": "stdout",
     "output_type": "stream",
     "text": [
      "USA\n"
     ]
    },
    {
     "name": "stderr",
     "output_type": "stream",
     "text": [
      "18:19:44 - cmdstanpy - INFO - Chain [1] start processing\n",
      "18:19:44 - cmdstanpy - INFO - Chain [1] done processing\n"
     ]
    },
    {
     "name": "stdout",
     "output_type": "stream",
     "text": [
      "ZAF\n"
     ]
    },
    {
     "data": {
      "text/html": [
       "<div>\n",
       "<style scoped>\n",
       "    .dataframe tbody tr th:only-of-type {\n",
       "        vertical-align: middle;\n",
       "    }\n",
       "\n",
       "    .dataframe tbody tr th {\n",
       "        vertical-align: top;\n",
       "    }\n",
       "\n",
       "    .dataframe thead th {\n",
       "        text-align: right;\n",
       "    }\n",
       "</style>\n",
       "<table border=\"1\" class=\"dataframe\">\n",
       "  <thead>\n",
       "    <tr style=\"text-align: right;\">\n",
       "      <th></th>\n",
       "      <th>ds</th>\n",
       "      <th>trend</th>\n",
       "      <th>yhat_lower</th>\n",
       "      <th>yhat_upper</th>\n",
       "      <th>trend_lower</th>\n",
       "      <th>trend_upper</th>\n",
       "      <th>AnimalSourceShare</th>\n",
       "      <th>AnimalSourceShare_lower</th>\n",
       "      <th>AnimalSourceShare_upper</th>\n",
       "      <th>CPI</th>\n",
       "      <th>...</th>\n",
       "      <th>additive_terms_upper</th>\n",
       "      <th>extra_regressors_additive</th>\n",
       "      <th>extra_regressors_additive_lower</th>\n",
       "      <th>extra_regressors_additive_upper</th>\n",
       "      <th>multiplicative_terms</th>\n",
       "      <th>multiplicative_terms_lower</th>\n",
       "      <th>multiplicative_terms_upper</th>\n",
       "      <th>yhat</th>\n",
       "      <th>Country</th>\n",
       "      <th>y</th>\n",
       "    </tr>\n",
       "  </thead>\n",
       "  <tbody>\n",
       "    <tr>\n",
       "      <th>0</th>\n",
       "      <td>2001</td>\n",
       "      <td>32.768828</td>\n",
       "      <td>32.652222</td>\n",
       "      <td>33.074824</td>\n",
       "      <td>32.768828</td>\n",
       "      <td>32.768828</td>\n",
       "      <td>-0.297600</td>\n",
       "      <td>-0.297600</td>\n",
       "      <td>-0.297600</td>\n",
       "      <td>-0.297600</td>\n",
       "      <td>...</td>\n",
       "      <td>0.095712</td>\n",
       "      <td>0.095712</td>\n",
       "      <td>0.095712</td>\n",
       "      <td>0.095712</td>\n",
       "      <td>0.0</td>\n",
       "      <td>0.0</td>\n",
       "      <td>0.0</td>\n",
       "      <td>32.864540</td>\n",
       "      <td>ARG</td>\n",
       "      <td>33.192833</td>\n",
       "    </tr>\n",
       "    <tr>\n",
       "      <th>1</th>\n",
       "      <td>2002</td>\n",
       "      <td>32.768828</td>\n",
       "      <td>32.624991</td>\n",
       "      <td>33.069206</td>\n",
       "      <td>32.768828</td>\n",
       "      <td>32.768828</td>\n",
       "      <td>-0.262588</td>\n",
       "      <td>-0.262588</td>\n",
       "      <td>-0.262588</td>\n",
       "      <td>-0.262588</td>\n",
       "      <td>...</td>\n",
       "      <td>0.086317</td>\n",
       "      <td>0.086317</td>\n",
       "      <td>0.086317</td>\n",
       "      <td>0.086317</td>\n",
       "      <td>0.0</td>\n",
       "      <td>0.0</td>\n",
       "      <td>0.0</td>\n",
       "      <td>32.855145</td>\n",
       "      <td>ARG</td>\n",
       "      <td>33.061453</td>\n",
       "    </tr>\n",
       "    <tr>\n",
       "      <th>2</th>\n",
       "      <td>2003</td>\n",
       "      <td>32.768828</td>\n",
       "      <td>32.617474</td>\n",
       "      <td>33.075337</td>\n",
       "      <td>32.768828</td>\n",
       "      <td>32.768828</td>\n",
       "      <td>-0.227576</td>\n",
       "      <td>-0.227576</td>\n",
       "      <td>-0.227576</td>\n",
       "      <td>-0.227576</td>\n",
       "      <td>...</td>\n",
       "      <td>0.076922</td>\n",
       "      <td>0.076922</td>\n",
       "      <td>0.076922</td>\n",
       "      <td>0.076922</td>\n",
       "      <td>0.0</td>\n",
       "      <td>0.0</td>\n",
       "      <td>0.0</td>\n",
       "      <td>32.845750</td>\n",
       "      <td>ARG</td>\n",
       "      <td>32.930073</td>\n",
       "    </tr>\n",
       "    <tr>\n",
       "      <th>3</th>\n",
       "      <td>2004</td>\n",
       "      <td>32.768828</td>\n",
       "      <td>32.626530</td>\n",
       "      <td>33.070415</td>\n",
       "      <td>32.768828</td>\n",
       "      <td>32.768828</td>\n",
       "      <td>-0.192565</td>\n",
       "      <td>-0.192565</td>\n",
       "      <td>-0.192565</td>\n",
       "      <td>-0.192565</td>\n",
       "      <td>...</td>\n",
       "      <td>0.067527</td>\n",
       "      <td>0.067527</td>\n",
       "      <td>0.067527</td>\n",
       "      <td>0.067527</td>\n",
       "      <td>0.0</td>\n",
       "      <td>0.0</td>\n",
       "      <td>0.0</td>\n",
       "      <td>32.836355</td>\n",
       "      <td>ARG</td>\n",
       "      <td>32.798693</td>\n",
       "    </tr>\n",
       "    <tr>\n",
       "      <th>4</th>\n",
       "      <td>2005</td>\n",
       "      <td>32.768828</td>\n",
       "      <td>32.621748</td>\n",
       "      <td>33.039163</td>\n",
       "      <td>32.768828</td>\n",
       "      <td>32.768828</td>\n",
       "      <td>-0.157553</td>\n",
       "      <td>-0.157553</td>\n",
       "      <td>-0.157553</td>\n",
       "      <td>-0.157553</td>\n",
       "      <td>...</td>\n",
       "      <td>0.058132</td>\n",
       "      <td>0.058132</td>\n",
       "      <td>0.058132</td>\n",
       "      <td>0.058132</td>\n",
       "      <td>0.0</td>\n",
       "      <td>0.0</td>\n",
       "      <td>0.0</td>\n",
       "      <td>32.826960</td>\n",
       "      <td>ARG</td>\n",
       "      <td>32.667312</td>\n",
       "    </tr>\n",
       "    <tr>\n",
       "      <th>...</th>\n",
       "      <td>...</td>\n",
       "      <td>...</td>\n",
       "      <td>...</td>\n",
       "      <td>...</td>\n",
       "      <td>...</td>\n",
       "      <td>...</td>\n",
       "      <td>...</td>\n",
       "      <td>...</td>\n",
       "      <td>...</td>\n",
       "      <td>...</td>\n",
       "      <td>...</td>\n",
       "      <td>...</td>\n",
       "      <td>...</td>\n",
       "      <td>...</td>\n",
       "      <td>...</td>\n",
       "      <td>...</td>\n",
       "      <td>...</td>\n",
       "      <td>...</td>\n",
       "      <td>...</td>\n",
       "      <td>...</td>\n",
       "      <td>...</td>\n",
       "    </tr>\n",
       "    <tr>\n",
       "      <th>20</th>\n",
       "      <td>2021</td>\n",
       "      <td>38.530439</td>\n",
       "      <td>35.367337</td>\n",
       "      <td>36.637948</td>\n",
       "      <td>38.530439</td>\n",
       "      <td>38.530439</td>\n",
       "      <td>-0.277799</td>\n",
       "      <td>-0.277799</td>\n",
       "      <td>-0.277799</td>\n",
       "      <td>-0.264526</td>\n",
       "      <td>...</td>\n",
       "      <td>-2.537395</td>\n",
       "      <td>-2.537395</td>\n",
       "      <td>-2.537395</td>\n",
       "      <td>-2.537395</td>\n",
       "      <td>0.0</td>\n",
       "      <td>0.0</td>\n",
       "      <td>0.0</td>\n",
       "      <td>35.993044</td>\n",
       "      <td>ZAF</td>\n",
       "      <td>NaN</td>\n",
       "    </tr>\n",
       "    <tr>\n",
       "      <th>21</th>\n",
       "      <td>2022</td>\n",
       "      <td>38.530439</td>\n",
       "      <td>35.101801</td>\n",
       "      <td>36.384720</td>\n",
       "      <td>38.530439</td>\n",
       "      <td>38.530439</td>\n",
       "      <td>-0.301955</td>\n",
       "      <td>-0.301955</td>\n",
       "      <td>-0.301955</td>\n",
       "      <td>-0.287529</td>\n",
       "      <td>...</td>\n",
       "      <td>-2.783054</td>\n",
       "      <td>-2.783054</td>\n",
       "      <td>-2.783054</td>\n",
       "      <td>-2.783054</td>\n",
       "      <td>0.0</td>\n",
       "      <td>0.0</td>\n",
       "      <td>0.0</td>\n",
       "      <td>35.747386</td>\n",
       "      <td>ZAF</td>\n",
       "      <td>NaN</td>\n",
       "    </tr>\n",
       "    <tr>\n",
       "      <th>22</th>\n",
       "      <td>2023</td>\n",
       "      <td>38.530439</td>\n",
       "      <td>34.851544</td>\n",
       "      <td>36.141054</td>\n",
       "      <td>38.530439</td>\n",
       "      <td>38.530439</td>\n",
       "      <td>-0.326112</td>\n",
       "      <td>-0.326112</td>\n",
       "      <td>-0.326112</td>\n",
       "      <td>-0.310531</td>\n",
       "      <td>...</td>\n",
       "      <td>-3.028712</td>\n",
       "      <td>-3.028712</td>\n",
       "      <td>-3.028712</td>\n",
       "      <td>-3.028712</td>\n",
       "      <td>0.0</td>\n",
       "      <td>0.0</td>\n",
       "      <td>0.0</td>\n",
       "      <td>35.501727</td>\n",
       "      <td>ZAF</td>\n",
       "      <td>NaN</td>\n",
       "    </tr>\n",
       "    <tr>\n",
       "      <th>23</th>\n",
       "      <td>2024</td>\n",
       "      <td>38.530439</td>\n",
       "      <td>34.656614</td>\n",
       "      <td>35.914564</td>\n",
       "      <td>38.530439</td>\n",
       "      <td>38.530439</td>\n",
       "      <td>-0.350268</td>\n",
       "      <td>-0.350268</td>\n",
       "      <td>-0.350268</td>\n",
       "      <td>-0.333533</td>\n",
       "      <td>...</td>\n",
       "      <td>-3.274371</td>\n",
       "      <td>-3.274371</td>\n",
       "      <td>-3.274371</td>\n",
       "      <td>-3.274371</td>\n",
       "      <td>0.0</td>\n",
       "      <td>0.0</td>\n",
       "      <td>0.0</td>\n",
       "      <td>35.256068</td>\n",
       "      <td>ZAF</td>\n",
       "      <td>NaN</td>\n",
       "    </tr>\n",
       "    <tr>\n",
       "      <th>24</th>\n",
       "      <td>2025</td>\n",
       "      <td>38.530439</td>\n",
       "      <td>34.367669</td>\n",
       "      <td>35.707798</td>\n",
       "      <td>38.530439</td>\n",
       "      <td>38.530439</td>\n",
       "      <td>-0.374425</td>\n",
       "      <td>-0.374425</td>\n",
       "      <td>-0.374425</td>\n",
       "      <td>-0.356536</td>\n",
       "      <td>...</td>\n",
       "      <td>-3.520030</td>\n",
       "      <td>-3.520030</td>\n",
       "      <td>-3.520030</td>\n",
       "      <td>-3.520030</td>\n",
       "      <td>0.0</td>\n",
       "      <td>0.0</td>\n",
       "      <td>0.0</td>\n",
       "      <td>35.010409</td>\n",
       "      <td>ZAF</td>\n",
       "      <td>NaN</td>\n",
       "    </tr>\n",
       "  </tbody>\n",
       "</table>\n",
       "<p>1150 rows × 45 columns</p>\n",
       "</div>"
      ],
      "text/plain": [
       "      ds      trend  yhat_lower  yhat_upper  trend_lower  trend_upper  \\\n",
       "0   2001  32.768828   32.652222   33.074824    32.768828    32.768828   \n",
       "1   2002  32.768828   32.624991   33.069206    32.768828    32.768828   \n",
       "2   2003  32.768828   32.617474   33.075337    32.768828    32.768828   \n",
       "3   2004  32.768828   32.626530   33.070415    32.768828    32.768828   \n",
       "4   2005  32.768828   32.621748   33.039163    32.768828    32.768828   \n",
       "..   ...        ...         ...         ...          ...          ...   \n",
       "20  2021  38.530439   35.367337   36.637948    38.530439    38.530439   \n",
       "21  2022  38.530439   35.101801   36.384720    38.530439    38.530439   \n",
       "22  2023  38.530439   34.851544   36.141054    38.530439    38.530439   \n",
       "23  2024  38.530439   34.656614   35.914564    38.530439    38.530439   \n",
       "24  2025  38.530439   34.367669   35.707798    38.530439    38.530439   \n",
       "\n",
       "    AnimalSourceShare  AnimalSourceShare_lower  AnimalSourceShare_upper  \\\n",
       "0           -0.297600                -0.297600                -0.297600   \n",
       "1           -0.262588                -0.262588                -0.262588   \n",
       "2           -0.227576                -0.227576                -0.227576   \n",
       "3           -0.192565                -0.192565                -0.192565   \n",
       "4           -0.157553                -0.157553                -0.157553   \n",
       "..                ...                      ...                      ...   \n",
       "20          -0.277799                -0.277799                -0.277799   \n",
       "21          -0.301955                -0.301955                -0.301955   \n",
       "22          -0.326112                -0.326112                -0.326112   \n",
       "23          -0.350268                -0.350268                -0.350268   \n",
       "24          -0.374425                -0.374425                -0.374425   \n",
       "\n",
       "         CPI  ...  additive_terms_upper  extra_regressors_additive  \\\n",
       "0  -0.297600  ...              0.095712                   0.095712   \n",
       "1  -0.262588  ...              0.086317                   0.086317   \n",
       "2  -0.227576  ...              0.076922                   0.076922   \n",
       "3  -0.192565  ...              0.067527                   0.067527   \n",
       "4  -0.157553  ...              0.058132                   0.058132   \n",
       "..       ...  ...                   ...                        ...   \n",
       "20 -0.264526  ...             -2.537395                  -2.537395   \n",
       "21 -0.287529  ...             -2.783054                  -2.783054   \n",
       "22 -0.310531  ...             -3.028712                  -3.028712   \n",
       "23 -0.333533  ...             -3.274371                  -3.274371   \n",
       "24 -0.356536  ...             -3.520030                  -3.520030   \n",
       "\n",
       "    extra_regressors_additive_lower  extra_regressors_additive_upper  \\\n",
       "0                          0.095712                         0.095712   \n",
       "1                          0.086317                         0.086317   \n",
       "2                          0.076922                         0.076922   \n",
       "3                          0.067527                         0.067527   \n",
       "4                          0.058132                         0.058132   \n",
       "..                              ...                              ...   \n",
       "20                        -2.537395                        -2.537395   \n",
       "21                        -2.783054                        -2.783054   \n",
       "22                        -3.028712                        -3.028712   \n",
       "23                        -3.274371                        -3.274371   \n",
       "24                        -3.520030                        -3.520030   \n",
       "\n",
       "    multiplicative_terms  multiplicative_terms_lower  \\\n",
       "0                    0.0                         0.0   \n",
       "1                    0.0                         0.0   \n",
       "2                    0.0                         0.0   \n",
       "3                    0.0                         0.0   \n",
       "4                    0.0                         0.0   \n",
       "..                   ...                         ...   \n",
       "20                   0.0                         0.0   \n",
       "21                   0.0                         0.0   \n",
       "22                   0.0                         0.0   \n",
       "23                   0.0                         0.0   \n",
       "24                   0.0                         0.0   \n",
       "\n",
       "    multiplicative_terms_upper       yhat  Country          y  \n",
       "0                          0.0  32.864540      ARG  33.192833  \n",
       "1                          0.0  32.855145      ARG  33.061453  \n",
       "2                          0.0  32.845750      ARG  32.930073  \n",
       "3                          0.0  32.836355      ARG  32.798693  \n",
       "4                          0.0  32.826960      ARG  32.667312  \n",
       "..                         ...        ...      ...        ...  \n",
       "20                         0.0  35.993044      ZAF        NaN  \n",
       "21                         0.0  35.747386      ZAF        NaN  \n",
       "22                         0.0  35.501727      ZAF        NaN  \n",
       "23                         0.0  35.256068      ZAF        NaN  \n",
       "24                         0.0  35.010409      ZAF        NaN  \n",
       "\n",
       "[1150 rows x 45 columns]"
      ]
     },
     "execution_count": 15,
     "metadata": {},
     "output_type": "execute_result"
    }
   ],
   "source": [
    "# Predicting countries AHEI\n",
    "df_pred = df.rename(columns={\"Year\": \"ds\", \"AHEI\": \"y\"})\n",
    "regressors = [col for col in df_pred.columns if col not in [\"ds\", \"y\", \"Country\"]]\n",
    "forecast = pd.DataFrame()\n",
    "for country, group in df_pred.groupby(\"Country\"):\n",
    "    m = Prophet(\n",
    "        yearly_seasonality=False,\n",
    "        weekly_seasonality=False,\n",
    "        daily_seasonality=False,\n",
    "        growth=\"flat\",\n",
    "    )\n",
    "    for reg in regressors:\n",
    "        m.add_regressor(reg)\n",
    "    m.fit(group)\n",
    "    country_pred = m.predict(group)\n",
    "    country_pred[\"ds\"] = group[\"ds\"].tolist()\n",
    "    country_pred[\"Country\"] = group[\"Country\"].tolist()\n",
    "    country_pred[\"y\"] = group[\"y\"].tolist()\n",
    "    forecast = pd.concat([forecast, country_pred])\n",
    "    print(country)\n",
    "forecast"
   ]
  },
  {
   "cell_type": "code",
   "execution_count": 41,
   "id": "d77bc114-2ee1-4b5d-98c9-98f7183334a4",
   "metadata": {},
   "outputs": [],
   "source": [
    "# Getting the real part of the dataframe\n",
    "condition = \"ds < 2019\"\n",
    "y, yhat = forecast.query(condition)[\"y\"], forecast.query(condition)[\"yhat\"]"
   ]
  },
  {
   "cell_type": "code",
   "execution_count": 42,
   "id": "16aaf03e-2992-4163-8b35-8e3d78ec9c9c",
   "metadata": {},
   "outputs": [
    {
     "name": "stdout",
     "output_type": "stream",
     "text": [
      "r2 0.9937643821849126 - mape 0.007218893581889554\n"
     ]
    }
   ],
   "source": [
    "# Checking the metrics value\n",
    "print(f\"r2 {r2(y, yhat)} - mape {mape(y, yhat)}\")"
   ]
  },
  {
   "cell_type": "code",
   "execution_count": 16,
   "id": "206a6787-d719-481d-b2f6-582ef53872f7",
   "metadata": {},
   "outputs": [],
   "source": [
    "forecast.to_parquet(\"data/model_output/forecast.parquet\")"
   ]
  }
 ],
 "metadata": {
  "kernelspec": {
   "display_name": "Python 3 (ipykernel)",
   "language": "python",
   "name": "python3"
  },
  "language_info": {
   "codemirror_mode": {
    "name": "ipython",
    "version": 3
   },
   "file_extension": ".py",
   "mimetype": "text/x-python",
   "name": "python",
   "nbconvert_exporter": "python",
   "pygments_lexer": "ipython3",
   "version": "3.8.13"
  }
 },
 "nbformat": 4,
 "nbformat_minor": 5
}
